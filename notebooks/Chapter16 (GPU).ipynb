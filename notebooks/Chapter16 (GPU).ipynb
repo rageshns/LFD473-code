{
  "cells": [
    {
      "cell_type": "markdown",
      "id": "09da54ca",
      "metadata": {
        "id": "09da54ca"
      },
      "source": [
        "# Chapter 16: Contextual Word Embeddings with Transformers\n",
        "\n",
        "To run this notebook on Google Colab, you will need to install the following libraries: transformers, evaluate, sentence-transformers, and datasets.\n",
        "\n",
        "In Google Colab, you can run the following command to install them:"
      ]
    },
    {
      "cell_type": "code",
      "execution_count": null,
      "id": "a0da6486",
      "metadata": {
        "id": "a0da6486"
      },
      "outputs": [],
      "source": [
        "!pip install transformers evaluate portalocker sentence-transformers datasets"
      ]
    },
    {
      "cell_type": "markdown",
      "source": [
        "Moreover, we'll be using a set of classes developed with the specific purpose of illustrating a few concepts we'll discuss in this chapter. We're making them available in a Python file for your convenience. You can download it from the following link:\n",
        "\n",
        "https://raw.githubusercontent.com/lftraining/LFD273-code/main/educational_transformer.py\n",
        "\n",
        "In Google Colab, you can run the following command to download the file:"
      ],
      "metadata": {
        "id": "2rMkTWg_AyN-"
      },
      "id": "2rMkTWg_AyN-"
    },
    {
      "cell_type": "code",
      "execution_count": null,
      "id": "16595684",
      "metadata": {
        "colab": {
          "base_uri": "https://localhost:8080/"
        },
        "id": "16595684",
        "outputId": "9c163c4a-5050-4469-8db2-5840d4454e60"
      },
      "outputs": [
        {
          "name": "stdout",
          "output_type": "stream",
          "text": [
            "--2024-09-09 17:15:47--  https://raw.githubusercontent.com/dvgodoy/assets/main/PyTorchInPractice/educational_transformer.py\n",
            "Resolving raw.githubusercontent.com (raw.githubusercontent.com)... 185.199.109.133, 185.199.110.133, 185.199.108.133, ...\n",
            "Connecting to raw.githubusercontent.com (raw.githubusercontent.com)|185.199.109.133|:443... connected.\n",
            "HTTP request sent, awaiting response... 200 OK\n",
            "Length: 5593 (5.5K) [text/plain]\n",
            "Saving to: ‘educational_transformer.py’\n",
            "\n",
            "educational_transfo 100%[===================>]   5.46K  --.-KB/s    in 0.002s  \n",
            "\n",
            "2024-09-09 17:15:47 (3.48 MB/s) - ‘educational_transformer.py’ saved [5593/5593]\n",
            "\n"
          ]
        }
      ],
      "source": [
        "!wget https://raw.githubusercontent.com/dvgodoy/assets/main/PyTorchInPractice/educational_transformer.py"
      ]
    },
    {
      "cell_type": "markdown",
      "source": [
        "Once the file is downloaded, you only need to import the required helper function:"
      ],
      "metadata": {
        "id": "v3yN0YxpA2Vo"
      },
      "id": "v3yN0YxpA2Vo"
    },
    {
      "cell_type": "code",
      "execution_count": null,
      "id": "659035ae",
      "metadata": {
        "id": "659035ae"
      },
      "outputs": [],
      "source": [
        "from educational_transformer import PositionalEncoding, EncoderLayer, EncoderTransf"
      ]
    },
    {
      "cell_type": "markdown",
      "id": "36f54886",
      "metadata": {
        "id": "36f54886"
      },
      "source": [
        "## 16.2 Learning Objectives\n",
        "\n",
        "By the end of this chapter, you should be able to:\n",
        "- understand the principles behind the Transformer architecture and the attention mechanism\n",
        "- understand the role of the special classifier token and use it to classify text\n",
        "- train a small Transformer model from scratch\n",
        "- obtain sentence embeddings using the SentenceTransformers package"
      ]
    },
    {
      "cell_type": "markdown",
      "id": "afacbfe5",
      "metadata": {
        "id": "afacbfe5"
      },
      "source": [
        "## 16.3 Attention Is All You Need\n",
        "\n",
        "Not every token is born equal: some tokens are more relevant than others depending on the task we're performing. Take, for example, translating a sentence from English to French, or the other way around. There's roughly a one-to-one correspondence between the words in the original and the translated sentence. But, that's not always the case, especially if one of the languages (such as French) has grammatical genders and the other doesn't (such as English).\n",
        "\n",
        "Here is a simple example: translating \"The European economic zone\" to French. \"Zone\", in French, is a feminine noun, and the adjective (European) must agree with the noun, making the correct translation \"euroṕéenne\" (as opposed to \"européen\" if it were a masculine noun). This means that, in order to translate, \"European\" to \"européenne\", the translator needs to pay attention to the noun it refers to (\"zone\", in this case) so it can adjust it to the right gender.\n",
        "\n",
        "Let's pretend for a little while that we're the translator, and someone asks us to report how much each word in the original sentence contributes to the translated sentence. In other words, they're asking us to report what we were paying attention to in the original sentence as we translated it into French. Roughly speaking, you could come up with a matrix like the one below:"
      ]
    },
    {
      "cell_type": "markdown",
      "id": "edf9858b",
      "metadata": {
        "id": "edf9858b"
      },
      "source": [
        "![](https://raw.githubusercontent.com/dvgodoy/assets/main/PyTorchInPractice/images/ch14/translation_att.png)"
      ]
    },
    {
      "cell_type": "markdown",
      "source": [
        "Paying attention to words during translation"
      ],
      "metadata": {
        "id": "rSMJBfJNBEnf"
      },
      "id": "rSMJBfJNBEnf"
    },
    {
      "cell_type": "markdown",
      "source": [
        "In every row, the values add up to one, the total attention \"budget\", if you will, available to translate a given word. \"La\", French's feminine version of \"the\" is mostly driven by \"the\" itself, but also a little bit by the noun it refers to, \"zone\". The word \"zone\", regardless of its gender in French, is translated directly without the need to know anything else about the original sentence, so it receives the full attention of the translator. Does it make sense? Hopefully it does, because this idea is the bedrock upon which the whole field of Natural Language Processing is currently built.\n",
        "\n",
        "The idea was championed in the now-famous \"[Attention Is All You Need](https://arxiv.org/abs/1706.03762)\" paper from 2017. In the past, sequences were mostly handled by recurrent neural networks, but these models were only capable of processing the inputs (tokens) of a sequence one-by-one, in the very order they showed up. This made it extremely hard for the models to learn the relationship between different parts of the input, as it is often required by tasks such as translation (as shown above).\n",
        "\n",
        "If the translator may choose which words they should pay attention to in order to translate a sentence, why couldn't a model do just that?\n",
        "\n",
        "Even though the idea, in a nutshell, is of such elegance and simplicity, its implementation is somewhat tricky, so we're not delving into its details here. You should know, however, that models usually implement multi-headed attention mechanisms, meaning that the models learn multiple (and possibly different) ways of paying attention to the tokens in order to accomplish the tasks they are being trained for. Moreover, due to some particularities of the attention mechanism, they also implement what's called \"position encoding\" or \"position embedding\" to include information regarding the position of a given token in the sequence (first, second, etc.)."
      ],
      "metadata": {
        "id": "IV-Dv7y3BGub"
      },
      "id": "IV-Dv7y3BGub"
    },
    {
      "cell_type": "markdown",
      "id": "9b1da6e8",
      "metadata": {
        "id": "9b1da6e8"
      },
      "source": [
        "## 16.4 Transformer\n",
        "\n",
        "For all its might, the Transformer architecture is surprisingly simple in its essence. Each Transformer \"layer\" is basically a combination of a multi-headed attention mechanism and a traditional feed-forward network (that is, some linear layers and activation functions) with a few \"sprinkles\" added to the mix (e.g. dropout and normalization layers)."
      ]
    },
    {
      "cell_type": "markdown",
      "id": "6f7cddbe",
      "metadata": {
        "id": "6f7cddbe"
      },
      "source": [
        "![](https://raw.githubusercontent.com/dvgodoy/assets/main/PyTorchInPractice/images/ch14/stacked_layers.png)\n",
        "\n",
        "Simplified scheme of Transformer's architecture,by [Daniel Voigt Godoy](https://github.com/dvgodoy/dl-visuals) is licensed under CC-BY-4.0"
      ]
    },
    {
      "cell_type": "markdown",
      "source": [
        "Then, the Transformer itself is a big stack of the Transformer \"layers\" we've just described. That's it. The more \"layers\" you stack, and the more attention heads they have, the more powerful the model gets.\n",
        "\n",
        "The diagram below depicts the typical Transformer architecture, all details included:"
      ],
      "metadata": {
        "id": "gJJc1Ha4B6pM"
      },
      "id": "gJJc1Ha4B6pM"
    },
    {
      "cell_type": "markdown",
      "id": "d585bd05",
      "metadata": {
        "id": "d585bd05"
      },
      "source": [
        "![](https://raw.githubusercontent.com/dvgodoy/assets/main/PyTorchInPractice/images/ch14/full_transformer.png)\n",
        "\n",
        "Transformer's architecture in detail,by Daniel Voigt Godoy is licensed under CC-BY-4.0\n",
        "\n",
        "***\n",
        "\n",
        "The left side of the diagram depicts the encoder part of the Transformer, the part that powers models such as BERT (thus encoder-based models) and that are commonly used for embedding sentences, and to perform tasks such as text classification. We're focusing on the encoder part first, and we'll discuss the decoder part later in this course.\n",
        "\n",
        "**ASIDE: BERT**\n",
        "\n",
        "BERT, which stands for Bidirectional Encoder Representations from Transformers, is a model based on a Transformer encoder introduced in 2019. The original BERT model was trained on two huge corpora: [BookCorpus](https://yknzhu.wixsite.com/mbweb) (composed of 800M words in 11,038 unpublished books) and [English Wikipedia](https://en.wikipedia.org/wiki/English_Wikipedia) (2.5B words). It has twelve \"layers\" (the original Transformer had only six), twelve attention heads, and 768 hidden dimensions, totaling 110 million parameters.\n",
        "\n",
        "There are many different versions of BERT for all tastes and budgets, and you can find them in Google Research’s [BERT repository](https://github.com/google-research/bert). For a general overview of BERT, please check Jay Alammar’s excellent posts on the topic: [\"The Illustrated BERT, ELMo, and co. (How NLP Cracked Transfer Learning)\"](https://jalammar.github.io/illustrated-bert/) and [\"A Visual Guide to Using BERT for the First Time.\"](https://jalammar.github.io/a-visual-guide-to-using-bert-for-the-first-time/)\n",
        "***"
      ]
    },
    {
      "cell_type": "markdown",
      "id": "48188d49",
      "metadata": {
        "id": "48188d49"
      },
      "source": [
        "## 16.5 An Encoder-Based Model for Classification\n",
        "\n",
        "An Encoder-Based Model for Classification: Overview\n",
        "Let's build a Transformer Encoder of a single layer with two attention heads and use it to classify sentences from the AG News Dataset once again. We'll go over a quick walkthrough of what happens to a sentence, from being tokenized as an input, all the way to its corresponding four logits used to classify it. We will be focusing on the transformations along the way without paying too much detail to the inner workings and architecture of the Transformer itself.\n",
        "\n",
        "It is important to highlight that the model we're building here is somewhat of a \"hybrid\" model since we're using pretrained GloVe word embeddings instead of learning the embeddings along the way. However, there's one embedding our model we'll learn, and that's a very special one: the embedding corresponding to the classifier special token we've already discussed. We'll get to that shortly."
      ]
    },
    {
      "cell_type": "markdown",
      "id": "34ddbb00",
      "metadata": {
        "id": "34ddbb00"
      },
      "source": [
        "### 16.5.1 AG News Dataset\n",
        "\n",
        "![](https://raw.githubusercontent.com/dvgodoy/assets/main/PyTorchInPractice/images/ch0/data_step1.png)"
      ]
    },
    {
      "cell_type": "markdown",
      "source": [
        "Before proceeding, let's download the AG News dataset once again, and build a \"raw\" datapipe that parses the CSV files and cleans up the descriptions, just like we did before. Let's quickly retrace our steps here to prepare the dataset.\n",
        "\n",
        "You can download the files from the following links:\n",
        "\n",
        "https://raw.githubusercontent.com/mhjabreel/CharCnn_Keras/master/data/ag_news_csv/train.csv\n",
        "\n",
        "https://raw.githubusercontent.com/mhjabreel/CharCnn_Keras/master/data/ag_news_csv/test.csv\n",
        "\n",
        "https://raw.githubusercontent.com/mhjabreel/CharCnn_Keras/master/data/ag_news_csv/classes.txt\n",
        "\n",
        "Alternatively, you can download all files as a single compressed file instead:\n",
        "\n",
        "https://raw.githubusercontent.com/lftraining/LFD273-code/main/data/AGNews/agnews.zip\n",
        "\n",
        "If you're running Google Colab, you can download the files using the commands below:"
      ],
      "metadata": {
        "id": "oajOgHamHw6p"
      },
      "id": "oajOgHamHw6p"
    },
    {
      "cell_type": "code",
      "execution_count": null,
      "id": "06625388",
      "metadata": {
        "id": "06625388",
        "outputId": "a27bb8ca-bc9e-43f6-b5b0-2a6f86ae425d"
      },
      "outputs": [
        {
          "name": "stdout",
          "output_type": "stream",
          "text": [
            "--2024-09-09 17:16:01--  https://raw.githubusercontent.com/mhjabreel/CharCnn_Keras/master/data/ag_news_csv/train.csv\n",
            "Resolving raw.githubusercontent.com (raw.githubusercontent.com)... 185.199.109.133, 185.199.111.133, 185.199.108.133, ...\n",
            "Connecting to raw.githubusercontent.com (raw.githubusercontent.com)|185.199.109.133|:443... connected.\n",
            "HTTP request sent, awaiting response... 200 OK\n",
            "Length: 29470338 (28M) [text/plain]\n",
            "Saving to: ‘train.csv.1’\n",
            "\n",
            "train.csv.1         100%[===================>]  28.10M  10.6MB/s    in 2.6s    \n",
            "\n",
            "2024-09-09 17:16:03 (10.6 MB/s) - ‘train.csv.1’ saved [29470338/29470338]\n",
            "\n",
            "--2024-09-09 17:16:03--  https://raw.githubusercontent.com/mhjabreel/CharCnn_Keras/master/data/ag_news_csv/test.csv\n",
            "Resolving raw.githubusercontent.com (raw.githubusercontent.com)... 185.199.110.133, 185.199.108.133, 185.199.111.133, ...\n",
            "Connecting to raw.githubusercontent.com (raw.githubusercontent.com)|185.199.110.133|:443... connected.\n",
            "HTTP request sent, awaiting response... 200 OK\n",
            "Length: 1857427 (1.8M) [text/plain]\n",
            "Saving to: ‘test.csv.1’\n",
            "\n",
            "test.csv.1          100%[===================>]   1.77M  8.99MB/s    in 0.2s    \n",
            "\n",
            "2024-09-09 17:16:04 (8.99 MB/s) - ‘test.csv.1’ saved [1857427/1857427]\n",
            "\n",
            "--2024-09-09 17:16:04--  https://raw.githubusercontent.com/mhjabreel/CharCnn_Keras/master/data/ag_news_csv/classes.txt\n",
            "Resolving raw.githubusercontent.com (raw.githubusercontent.com)... 185.199.110.133, 185.199.108.133, 185.199.111.133, ...\n",
            "Connecting to raw.githubusercontent.com (raw.githubusercontent.com)|185.199.110.133|:443... connected.\n",
            "HTTP request sent, awaiting response... 200 OK\n",
            "Length: 31 [text/plain]\n",
            "Saving to: ‘classes.txt.1’\n",
            "\n",
            "classes.txt.1       100%[===================>]      31  --.-KB/s    in 0s      \n",
            "\n",
            "2024-09-09 17:16:05 (910 KB/s) - ‘classes.txt.1’ saved [31/31]\n",
            "\n"
          ]
        }
      ],
      "source": [
        "!wget https://raw.githubusercontent.com/mhjabreel/CharCnn_Keras/master/data/ag_news_csv/train.csv\n",
        "!wget https://raw.githubusercontent.com/mhjabreel/CharCnn_Keras/master/data/ag_news_csv/test.csv\n",
        "!wget https://raw.githubusercontent.com/mhjabreel/CharCnn_Keras/master/data/ag_news_csv/classes.txt"
      ]
    },
    {
      "cell_type": "markdown",
      "id": "0d700617",
      "metadata": {
        "id": "0d700617"
      },
      "source": [
        "![](https://raw.githubusercontent.com/dvgodoy/assets/main/PyTorchInPractice/images/ch0/data_step2.png)"
      ]
    },
    {
      "cell_type": "markdown",
      "source": [
        "Next, let's do some data cleaning, getting rid of a few HTML tags, replacing some special characters, etc. Here is a non-exhaustive list of characters and tags for replacement:"
      ],
      "metadata": {
        "id": "yy21SJXNH1t_"
      },
      "id": "yy21SJXNH1t_"
    },
    {
      "cell_type": "code",
      "execution_count": null,
      "id": "5223d209",
      "metadata": {
        "id": "5223d209"
      },
      "outputs": [],
      "source": [
        "import numpy as np\n",
        "\n",
        "chr_codes = np.array([\n",
        "     36,   151,    38,  8220,   147,   148,   146,   225,   133,    39,  8221,  8212,   232,   149,   145,   233,\n",
        "  64257,  8217,   163,   160,    91,    93,  8211,  8482,   234,    37,  8364,   153,   195,   169\n",
        "])\n",
        "chr_subst = {f' #{c};':chr(c) for c in chr_codes}\n",
        "chr_subst.update({' amp;': '&', ' quot;': \"'\", ' hellip;': '...', ' nbsp;': ' ', '&lt;': '', '&gt;': '',\n",
        "                  '&lt;em&gt;': '', '&lt;/em&gt;': '', '&lt;strong&gt;': '', '&lt;/strong&gt;': ''})"
      ]
    },
    {
      "cell_type": "markdown",
      "source": [
        "And here are a couple of helper functions we used to perform the cleanup:"
      ],
      "metadata": {
        "id": "uZ-r_RigH5VK"
      },
      "id": "uZ-r_RigH5VK"
    },
    {
      "cell_type": "code",
      "execution_count": null,
      "id": "9a81127c",
      "metadata": {
        "id": "9a81127c"
      },
      "outputs": [],
      "source": [
        "def replace_chars(sent):\n",
        "    to_replace = [c for c in list(chr_subst.keys()) if c in sent]\n",
        "    for c in to_replace:\n",
        "        sent = sent.replace(c, chr_subst[c])\n",
        "    return sent\n",
        "\n",
        "def preproc_description(desc):\n",
        "    desc = desc.replace('\\\\', ' ').strip()\n",
        "    return replace_chars(desc)"
      ]
    },
    {
      "cell_type": "markdown",
      "id": "3cc4ce04",
      "metadata": {
        "id": "3cc4ce04"
      },
      "source": [
        "![](https://raw.githubusercontent.com/dvgodoy/assets/main/PyTorchInPractice/images/ch0/data_step4.png)"
      ]
    },
    {
      "cell_type": "markdown",
      "source": [
        "After loading the CSV files using load_dataset() and building a DatasetDict out of them, we used the functions above to transform our datasets, cleaning up the text and converting the label into a 0-based numeric value:"
      ],
      "metadata": {
        "id": "kwn2JsJlH-Pl"
      },
      "id": "kwn2JsJlH-Pl"
    },
    {
      "cell_type": "code",
      "execution_count": null,
      "id": "3a0b2666",
      "metadata": {
        "colab": {
          "referenced_widgets": [
            ""
          ]
        },
        "id": "3a0b2666",
        "outputId": "13e27731-8e5c-422c-fa2c-e70308065893"
      },
      "outputs": [
        {
          "name": "stderr",
          "output_type": "stream",
          "text": [
            "Found cached dataset csv (/home/dvgodoy/.cache/huggingface/datasets/csv/default-e74aa9f4afc75bd6/0.0.0/6954658bab30a358235fa864b05cf819af0e179325c740e4bc853bcc7ec513e1)\n",
            "Found cached dataset csv (/home/dvgodoy/.cache/huggingface/datasets/csv/default-b95e4b26323eb18c/0.0.0/6954658bab30a358235fa864b05cf819af0e179325c740e4bc853bcc7ec513e1)\n"
          ]
        },
        {
          "data": {
            "application/vnd.jupyter.widget-view+json": {
              "model_id": "",
              "version_major": 2,
              "version_minor": 0
            },
            "text/plain": [
              "Map:   0%|          | 0/120000 [00:00<?, ? examples/s]"
            ]
          },
          "metadata": {},
          "output_type": "display_data"
        },
        {
          "data": {
            "application/vnd.jupyter.widget-view+json": {
              "model_id": "",
              "version_major": 2,
              "version_minor": 0
            },
            "text/plain": [
              "Map:   0%|          | 0/7600 [00:00<?, ? examples/s]"
            ]
          },
          "metadata": {},
          "output_type": "display_data"
        }
      ],
      "source": [
        "from datasets import load_dataset, Split, DatasetDict\n",
        "\n",
        "colnames = ['topic', 'title', 'news']\n",
        "\n",
        "train_ds = load_dataset(\"csv\", data_files='train.csv', sep=',', split=Split.ALL, column_names=colnames)\n",
        "test_ds = load_dataset(\"csv\", data_files='test.csv', sep=',', split=Split.ALL, column_names=colnames)\n",
        "\n",
        "datasets = DatasetDict({'train': train_ds, 'test': test_ds})\n",
        "datasets = datasets.map(lambda row: {'topic': row['topic']-1, 'news': preproc_description(row['news'])})\n",
        "datasets = datasets.select_columns(['topic', 'news'])"
      ]
    },
    {
      "cell_type": "markdown",
      "source": [
        "Finally, we created their corresponding data loaders:"
      ],
      "metadata": {
        "id": "06_rkd33IEGa"
      },
      "id": "06_rkd33IEGa"
    },
    {
      "cell_type": "markdown",
      "id": "6c57d497",
      "metadata": {
        "id": "6c57d497"
      },
      "source": [
        "![](https://raw.githubusercontent.com/dvgodoy/assets/main/PyTorchInPractice/images/ch0/data_step5.png)"
      ]
    },
    {
      "cell_type": "code",
      "execution_count": null,
      "id": "544579b4",
      "metadata": {
        "id": "544579b4"
      },
      "outputs": [],
      "source": [
        "from torch.utils.data import DataLoader\n",
        "\n",
        "dataloaders = {}\n",
        "dataloaders['train'] = DataLoader(dataset=datasets['train'], batch_size=32, shuffle=True)\n",
        "dataloaders['test'] = DataLoader(dataset=datasets['test'], batch_size=32)"
      ]
    },
    {
      "cell_type": "markdown",
      "source": [
        "Now, we're ready to take the next step."
      ],
      "metadata": {
        "id": "ty4XpcGRKGU-"
      },
      "id": "ty4XpcGRKGU-"
    },
    {
      "cell_type": "markdown",
      "id": "d603703e",
      "metadata": {
        "id": "d603703e"
      },
      "source": [
        "### 16.5.2 Tokenizing and Padding"
      ]
    },
    {
      "cell_type": "markdown",
      "source": [
        "First, let's start with the basics: a tokenizer, GloVe embeddings and their corresponding dimensions (50, which will be used as the number of dimensions of the model as well), the maximum length (in number of tokens, above which it will be truncated) of the inputs that our model will take, and the number of outputs (four, one logit for each class)."
      ],
      "metadata": {
        "id": "od2A0PwSKWXb"
      },
      "id": "od2A0PwSKWXb"
    },
    {
      "cell_type": "code",
      "execution_count": null,
      "id": "24014a37",
      "metadata": {
        "id": "24014a37"
      },
      "outputs": [],
      "source": [
        "from gensim import downloader\n",
        "from gensim.utils import simple_preprocess\n",
        "\n",
        "vector = downloader.load('glove-wiki-gigaword-50')\n",
        "\n",
        "tokenizer = simple_preprocess\n",
        "d_model = vector.vector_size\n",
        "max_length = 100\n",
        "n_outputs = 4\n",
        "\n",
        "key_to_index = vector.key_to_index\n",
        "pad_token_id = len(key_to_index)\n",
        "unk_token_id = pad_token_id + 1"
      ]
    },
    {
      "cell_type": "markdown",
      "source": [
        "We'll be using the encode_batch() function from Lab 6 to convert tokens into token IDs, reproduced below:"
      ],
      "metadata": {
        "id": "JRrFFQYhKaDB"
      },
      "id": "JRrFFQYhKaDB"
    },
    {
      "cell_type": "code",
      "execution_count": null,
      "id": "2f4cc03d",
      "metadata": {
        "id": "2f4cc03d"
      },
      "outputs": [],
      "source": [
        "def encode_str(key_to_index, tokens, unk_token_id):\n",
        "    token_ids = [key_to_index.get(token, unk_token_id) for token in tokens]\n",
        "    return token_ids\n",
        "\n",
        "def encode_batch(key_to_index, batch, max_len=None, padding=False, pad_token_id=-1, unk_token_id=-1):\n",
        "    # Truncate every sentence to max_len\n",
        "    # write your code here\n",
        "    if isinstance(max_len, int):\n",
        "        truncated = [s[:max_len] for s in batch]\n",
        "    else:\n",
        "        truncated = batch[:]\n",
        "\n",
        "    # Check the actual maximum length of the (truncated) inputs\n",
        "    # write your code here\n",
        "    current_max = max([len(s) for s in truncated])\n",
        "\n",
        "    batch_ids = []\n",
        "    for tokens in truncated:\n",
        "        token_ids = encode_str(key_to_index, tokens, unk_token_id)\n",
        "        if padding:\n",
        "            # Appends as many padding tokens as necessary to make every\n",
        "            # sentence as long as the actual maximum length\n",
        "            # write your code here\n",
        "            token_ids.extend([pad_token_id] * (current_max - len(token_ids)))\n",
        "        batch_ids.append(token_ids)\n",
        "    return batch_ids"
      ]
    },
    {
      "cell_type": "markdown",
      "source": [
        "Let's retrieve a mini-batch from our training set, tokenize its sentences, and convert the tokens into token IDs using the the encode_batch() helper function. Notice that we're \"saving\" one space in the maximum length to account for the classifier token we'll be prepending to each sequence of tokens.\n",
        "\n",
        "The padded sentence will likely be a different one thanks to the shuffling of the training set. If you don't see any padding tokens, chances are the sentence you got is longer than 100 tokens."
      ],
      "metadata": {
        "id": "4QPal2_YKd-1"
      },
      "id": "4QPal2_YKd-1"
    },
    {
      "cell_type": "code",
      "execution_count": null,
      "id": "e86d323b",
      "metadata": {
        "id": "e86d323b",
        "outputId": "f6c656a6-ad8e-4e75-be75-1a8a059aa662"
      },
      "outputs": [
        {
          "name": "stdout",
          "output_type": "stream",
          "text": [
            "[[516, 10851, 85, 2020, 384, 6099, 3146, 6713, 43, 33, 26, 1574, 98, 555, 214, 1365, 10, 5663, 1435, 6, 614, 1518, 6, 0, 147, 1084, 344, 400000, 400000, 400000, 400000, 400000, 400000, 400000, 400000, 400000, 400000, 400000, 400000, 400000, 400000, 400000, 400000, 400000, 400000, 400000, 400000, 400000, 400000, 400000, 400000, 400000, 400000, 400000, 400000, 400000, 400000, 400000, 400000, 400000, 400000, 400000, 400000, 400000, 400000, 400000, 400000, 400000, 400000, 400000, 400000], [5438, 5, 98222, 4650, 28192, 4869, 10603, 522, 128, 394, 4, 5677, 1790, 5, 8169, 4869, 10603, 46323, 2817, 0, 337, 457, 373, 400000, 400000, 400000, 400000, 400000, 400000, 400000, 400000, 400000, 400000, 400000, 400000, 400000, 400000, 400000, 400000, 400000, 400000, 400000, 400000, 400000, 400000, 400000, 400000, 400000, 400000, 400000, 400000, 400000, 400000, 400000, 400000, 400000, 400000, 400000, 400000, 400000, 400000, 400000, 400000, 400000, 400000, 400000, 400000, 400000, 400000, 400000, 400000], [8517, 25262, 40, 226, 144, 0, 877, 7983, 17, 1686, 4, 282, 19, 0, 1998, 3905, 843, 174, 186, 1529, 3583, 17, 320, 74, 0, 2201, 55740, 13, 277, 364, 400000, 400000, 400000, 400000, 400000, 400000, 400000, 400000, 400000, 400000, 400000, 400000, 400000, 400000, 400000, 400000, 400000, 400000, 400000, 400000, 400000, 400000, 400000, 400000, 400000, 400000, 400000, 400000, 400000, 400000, 400000, 400000, 400000, 400000, 400000, 400000, 400000, 400000, 400000, 400000, 400000]]\n"
          ]
        }
      ],
      "source": [
        "batch = next(iter(dataloaders['train']))\n",
        "\n",
        "labels, sentences = batch['topic'], batch['news']\n",
        "\n",
        "tokenized_X = [tokenizer(d) for d in sentences]\n",
        "\n",
        "padded_X = encode_batch(key_to_index,\n",
        "                        tokenized_X,\n",
        "                        max_len=max_length-1,\n",
        "                        padding=True,\n",
        "                        pad_token_id=pad_token_id,\n",
        "                        unk_token_id=unk_token_id)\n",
        "print(padded_X[:3])"
      ]
    },
    {
      "cell_type": "markdown",
      "source": [
        "There are several padding tokens appended to the sentence, but we'd like to ignore these tokens during classification, since they are meaningless. Therefore, we need a padding mask to determine which tokens come from the original sentence, and which ones are there for padding only.\n",
        "\n",
        "Masks are a big part of Transformers: there are padding masks, target masks, source masks, you name it. Their purpose is always the same, to distinguish between the tokens we want the model to use, and the tokens we want the model to ignore. Keep in mind, though, that the convention used for masking may be the opposite you might expect: some implementations use it as \"tokens you ignore\" while others use it as \"tokens you keep\".\n",
        "\n",
        "In PyTorch, masks are implemented as \"tokens you ignore\", so every padding token should correspond to a True value in the mask, meaning it should be ignored by the model."
      ],
      "metadata": {
        "id": "mVIhl37HKiPR"
      },
      "id": "mVIhl37HKiPR"
    },
    {
      "cell_type": "code",
      "execution_count": null,
      "id": "12244ddc",
      "metadata": {
        "colab": {
          "base_uri": "https://localhost:8080/"
        },
        "id": "12244ddc",
        "outputId": "2d6553af-a257-4dfc-bed1-079da094d934"
      },
      "outputs": [
        {
          "data": {
            "text/plain": [
              "(torch.Size([32, 71]),\n",
              " tensor([False, False, False, False, False, False, False, False, False, False,\n",
              "         False, False, False, False, False, False, False, False, False, False,\n",
              "         False, False, False, False, False, False, False,  True,  True,  True,\n",
              "          True,  True,  True,  True,  True,  True,  True,  True,  True,  True,\n",
              "          True,  True,  True,  True,  True,  True,  True,  True,  True,  True,\n",
              "          True,  True,  True,  True,  True,  True,  True,  True,  True,  True,\n",
              "          True,  True,  True,  True,  True,  True,  True,  True,  True,  True,\n",
              "          True]))"
            ]
          },
          "execution_count": 11,
          "metadata": {},
          "output_type": "execute_result"
        }
      ],
      "source": [
        "import torch\n",
        "\n",
        "# If a BoolTensor is provided, positions with True is not allowed to attend while False values will be unchanged.\n",
        "# https://pytorch.org/tutorials/beginner/translation_transformer.html\n",
        "# src_padding_mask = (src == PAD_IDX).transpose(0, 1)\n",
        "\n",
        "pad_mask = torch.as_tensor(padded_X) == pad_token_id\n",
        "pad_mask.shape, pad_mask[0]"
      ]
    },
    {
      "cell_type": "markdown",
      "source": [
        "As you can see, there are as many True values in the padding mask as there are padding tokens in the sentence.\n",
        "\n",
        "Since your sentence is likely different from the one shown here, the number of positions marked as True will also differ - they must correspond to the padding tokens in the sentence you got. Moreover, the values for the embeddings you'll get in the next few sections are also going to be different because they must correspond to the sentence you got as well."
      ],
      "metadata": {
        "id": "e4apchwIKl2e"
      },
      "id": "e4apchwIKl2e"
    },
    {
      "cell_type": "markdown",
      "id": "b8c712c0",
      "metadata": {
        "id": "b8c712c0"
      },
      "source": [
        "### 16.5.3 Word Embeddings\n",
        "\n",
        "This particular step should already be familiar to you: we're retrieving GloVe embeddings for each token in the input sequence, and concatenating them together. Padding and unknown tokens have zero embeddings and they're concatenated to the GloVe embeddings."
      ]
    },
    {
      "cell_type": "code",
      "execution_count": null,
      "id": "3601a6b0",
      "metadata": {
        "id": "3601a6b0"
      },
      "outputs": [],
      "source": [
        "import torch.nn as nn\n",
        "\n",
        "tensor_glove = torch.as_tensor(vector.vectors).float()\n",
        "# zero embeddings for padding and unknown tokens\n",
        "tensor_glove = torch.cat([tensor_glove, torch.zeros((2, d_model))])\n",
        "\n",
        "embedding = nn.Embedding.from_pretrained(tensor_glove)\n",
        "\n",
        "def get_embeddings(embedding, token_ids):\n",
        "    valid_ids = torch.as_tensor([token_id for token_id in token_ids if token_id >= 0])\n",
        "    embedded_tokens = embedding(valid_ids)\n",
        "    return embedded_tokens\n",
        "\n",
        "def get_batch_embeddings(embedding, token_ids):\n",
        "    # Retrieve embeddings from the Vector object using `get_vecs_by_tokens`\n",
        "    # Make sure to get the shapes right, and concatenate the tensors so\n",
        "    # the resulting shape is N, L, D\n",
        "    embeddings = torch.cat([get_embeddings(embedding, ids).unsqueeze(0)\n",
        "                            for ids in token_ids], dim=0)\n",
        "    return embeddings"
      ]
    },
    {
      "cell_type": "code",
      "execution_count": null,
      "id": "39119a84",
      "metadata": {
        "colab": {
          "base_uri": "https://localhost:8080/"
        },
        "id": "39119a84",
        "outputId": "b94cf888-166b-449b-a53a-7892a324a37c"
      },
      "outputs": [
        {
          "data": {
            "text/plain": [
              "(torch.Size([32, 71, 50]),\n",
              " tensor([[[ 0.0329,  0.9964, -0.6975,  ..., -0.6259,  0.6079, -0.3098],\n",
              "          [-0.1374, -0.2549,  1.8853,  ...,  1.5083,  0.3646,  0.5991],\n",
              "          [-0.4149,  0.7185, -0.3045,  ..., -0.4602, -0.3764, -0.6754],\n",
              "          ...,\n",
              "          [ 0.0000,  0.0000,  0.0000,  ...,  0.0000,  0.0000,  0.0000],\n",
              "          [ 0.0000,  0.0000,  0.0000,  ...,  0.0000,  0.0000,  0.0000],\n",
              "          [ 0.0000,  0.0000,  0.0000,  ...,  0.0000,  0.0000,  0.0000]],\n",
              " \n",
              "         [[-0.3189, -1.5274,  1.8175,  ...,  0.4634, -0.6022,  0.8214],\n",
              "          [ 0.2682,  0.1435, -0.2788,  ..., -0.6321, -0.2503, -0.3810],\n",
              "          [ 0.7177,  0.3447,  1.0785,  ...,  0.6451, -0.9004,  0.3460],\n",
              "          ...,\n",
              "          [ 0.0000,  0.0000,  0.0000,  ...,  0.0000,  0.0000,  0.0000],\n",
              "          [ 0.0000,  0.0000,  0.0000,  ...,  0.0000,  0.0000,  0.0000],\n",
              "          [ 0.0000,  0.0000,  0.0000,  ...,  0.0000,  0.0000,  0.0000]]]))"
            ]
          },
          "execution_count": 13,
          "metadata": {},
          "output_type": "execute_result"
        }
      ],
      "source": [
        "src = get_batch_embeddings(embedding, padded_X)\n",
        "src.shape, src[:2]"
      ]
    },
    {
      "cell_type": "markdown",
      "id": "a9fcf0b5",
      "metadata": {
        "id": "a9fcf0b5"
      },
      "source": [
        "### 16.5.4 Classifier Token\n",
        "\n",
        "![](https://raw.githubusercontent.com/dvgodoy/assets/main/PyTorchInPractice/images/ch0/model_step1.png)"
      ]
    },
    {
      "cell_type": "markdown",
      "source": [
        "This is the \"secret sauce\" of the model, the one embedding it will actually learn, \"one embedding to rule them all\".\n",
        "\n",
        "Notice that we're not explicitly prepending a [CLS] token to the sentences. Instead, we're prepending the same (learnable) embedding to every sequence of embeddings in our mini-batch.\n",
        "\n",
        "If there are 58 tokens in each sequence, and there are four sequences in a mini-batch, our embeddings are (32, 58, 50) in shape. The embedding corresponding to the classifier token is a single vector of the same length as the other embeddings (50), so its shape is (1, 50). The only thing missing is to replicate it over the mini-batch dimension, so we get four identical copies of it and a resulting shape of (32, 1, 50).\n",
        "\n",
        "We could create an embedding layer for a single embedding but, alternatively, we can create it as a parameter instead:"
      ],
      "metadata": {
        "id": "vfPuD9CeLPyg"
      },
      "id": "vfPuD9CeLPyg"
    },
    {
      "cell_type": "code",
      "execution_count": null,
      "id": "ddad9599",
      "metadata": {
        "colab": {
          "base_uri": "https://localhost:8080/"
        },
        "id": "ddad9599",
        "outputId": "5cb3e5b6-c2a6-44a2-8721-a16f017556fe"
      },
      "outputs": [
        {
          "data": {
            "text/plain": [
              "(torch.Size([32, 1, 50]),\n",
              " tensor([[[0., 0., 0.,  ..., 0., 0., 0.]],\n",
              " \n",
              "         [[0., 0., 0.,  ..., 0., 0., 0.]],\n",
              " \n",
              "         [[0., 0., 0.,  ..., 0., 0., 0.]],\n",
              " \n",
              "         ...,\n",
              " \n",
              "         [[0., 0., 0.,  ..., 0., 0., 0.]],\n",
              " \n",
              "         [[0., 0., 0.,  ..., 0., 0., 0.]],\n",
              " \n",
              "         [[0., 0., 0.,  ..., 0., 0., 0.]]], grad_fn=<ExpandBackward0>))"
            ]
          },
          "execution_count": 14,
          "metadata": {},
          "output_type": "execute_result"
        }
      ],
      "source": [
        "import torch.nn as nn\n",
        "\n",
        "cls_token = nn.Parameter(torch.zeros(1, 1, d_model))\n",
        "# Special classifier token\n",
        "# 1, 1, D -> N, 1, D\n",
        "cls_tokens = cls_token.expand(len(padded_X), -1, -1)\n",
        "cls_tokens.shape, cls_tokens"
      ]
    },
    {
      "cell_type": "markdown",
      "source": [
        "The embedding for the classifier token is initialized with zeros, and it will be modified as training progresses.\n",
        "\n",
        "Now that its tensor has the appropriate shape, we can easily concatenate it together with the word embeddings from the previous section (embeddings for the [CLS] token are highlighted in the output):"
      ],
      "metadata": {
        "id": "hi9TJMSdLU72"
      },
      "id": "hi9TJMSdLU72"
    },
    {
      "cell_type": "code",
      "execution_count": null,
      "id": "c21ac074",
      "metadata": {
        "colab": {
          "base_uri": "https://localhost:8080/"
        },
        "id": "c21ac074",
        "outputId": "b1941263-92ae-4e42-d3aa-8e333f4cb520"
      },
      "outputs": [
        {
          "data": {
            "text/plain": [
              "(torch.Size([72, 50]),\n",
              " tensor([[ 0.0000,  0.0000,  0.0000,  ...,  0.0000,  0.0000,  0.0000],\n",
              "         [-0.3189, -1.5274,  1.8175,  ...,  0.4634, -0.6022,  0.8214],\n",
              "         [ 0.2682,  0.1435, -0.2788,  ..., -0.6321, -0.2503, -0.3810],\n",
              "         ...,\n",
              "         [ 0.0000,  0.0000,  0.0000,  ...,  0.0000,  0.0000,  0.0000],\n",
              "         [ 0.0000,  0.0000,  0.0000,  ...,  0.0000,  0.0000,  0.0000],\n",
              "         [ 0.0000,  0.0000,  0.0000,  ...,  0.0000,  0.0000,  0.0000]],\n",
              "        grad_fn=<SelectBackward0>))"
            ]
          },
          "execution_count": 15,
          "metadata": {},
          "output_type": "execute_result"
        }
      ],
      "source": [
        "# Concatenates CLS tokens -> N, 1 + L, D\n",
        "embeddings = torch.cat((cls_tokens, src), dim=1)\n",
        "embeddings[1].shape, embeddings[1]"
      ]
    },
    {
      "cell_type": "markdown",
      "source": [
        "Since there's one more token in each sequence now, we also need to update the mask accordingly, prepending the mask value to each sequence (mask for the [CLS] token is highlighted in the output):"
      ],
      "metadata": {
        "id": "l9y81UPPLZvD"
      },
      "id": "l9y81UPPLZvD"
    },
    {
      "cell_type": "code",
      "execution_count": null,
      "id": "c6145fbd",
      "metadata": {
        "colab": {
          "base_uri": "https://localhost:8080/"
        },
        "id": "c6145fbd",
        "outputId": "2b485d05-b461-45c4-c8b2-6576ba777c2b"
      },
      "outputs": [
        {
          "data": {
            "text/plain": [
              "(torch.Size([32, 72]),\n",
              " tensor([False, False, False, False, False, False, False, False, False, False,\n",
              "         False, False, False, False, False, False, False, False, False, False,\n",
              "         False, False, False, False, False, False, False, False,  True,  True,\n",
              "          True,  True,  True,  True,  True,  True,  True,  True,  True,  True,\n",
              "          True,  True,  True,  True,  True,  True,  True,  True,  True,  True,\n",
              "          True,  True,  True,  True,  True,  True,  True,  True,  True,  True,\n",
              "          True,  True,  True,  True,  True,  True,  True,  True,  True,  True,\n",
              "          True,  True]))"
            ]
          },
          "execution_count": 16,
          "metadata": {},
          "output_type": "execute_result"
        }
      ],
      "source": [
        "cls_mask = torch.zeros(len(padded_X), 1)\n",
        "pad_mask = torch.cat((cls_mask, pad_mask), dim=1).bool()\n",
        "pad_mask.shape, pad_mask[0]"
      ]
    },
    {
      "cell_type": "markdown",
      "source": [
        "We got embeddings and masks ready. What's missing?"
      ],
      "metadata": {
        "id": "PiQqx0YdLdBb"
      },
      "id": "PiQqx0YdLdBb"
    },
    {
      "cell_type": "markdown",
      "id": "3aa50e2c",
      "metadata": {
        "id": "3aa50e2c"
      },
      "source": [
        "### 16.5.5 Positioning\n",
        "\n",
        "![](https://raw.githubusercontent.com/dvgodoy/assets/main/PyTorchInPractice/images/ch0/model_step1.png)"
      ]
    },
    {
      "cell_type": "markdown",
      "source": [
        "We briefly mentioned \"positional encoding\" and \"positional embedding\" before. The general idea behind it is to give the model some information about the position of the token inside a sequence. A relatively simple way of doing so is to compute sine and cosine waves at different frequencies, so each position is \"encoded\" as a unique combination of several pairs of sine and cosine values. We're not getting into any more details than this, though.\n",
        "\n",
        "The positional encoding should cover the maximum sequence length defined by the model, and it should have as many dimensions as the embeddings used by the model, so they can be added together."
      ],
      "metadata": {
        "id": "oTWv9PSfLyvK"
      },
      "id": "oTWv9PSfLyvK"
    },
    {
      "cell_type": "code",
      "execution_count": null,
      "id": "38a86572",
      "metadata": {
        "colab": {
          "base_uri": "https://localhost:8080/"
        },
        "id": "38a86572",
        "outputId": "ff72bd88-b13b-4399-e21b-76f6ab00d649"
      },
      "outputs": [
        {
          "data": {
            "text/plain": [
              "torch.Size([1, 100, 50])"
            ]
          },
          "execution_count": 17,
          "metadata": {},
          "output_type": "execute_result"
        }
      ],
      "source": [
        "pe = PositionalEncoding(max_length, d_model)\n",
        "pe.pe.shape"
      ]
    },
    {
      "cell_type": "code",
      "execution_count": null,
      "id": "dfa87978",
      "metadata": {
        "colab": {
          "base_uri": "https://localhost:8080/"
        },
        "id": "dfa87978",
        "outputId": "adc3c5e6-abd9-4519-d788-aa735cd9447c"
      },
      "outputs": [
        {
          "data": {
            "text/plain": [
              "(torch.Size([72, 50]),\n",
              " tensor([[ 0.0000e+00,  1.0000e+00,  0.0000e+00,  ...,  1.0000e+00,\n",
              "           0.0000e+00,  1.0000e+00],\n",
              "         [-1.4133e+00, -1.0260e+01,  1.3490e+01,  ...,  4.2769e+00,\n",
              "          -4.2581e+00,  6.8081e+00],\n",
              "         [ 2.8056e+00,  5.9827e-01, -9.8866e-01,  ..., -3.4696e+00,\n",
              "          -1.7695e+00, -1.6939e+00],\n",
              "         ...,\n",
              "         [-1.1478e-01,  9.9339e-01, -5.7487e-01,  ...,  9.9990e-01,\n",
              "           9.9734e-03,  9.9995e-01],\n",
              "         [ 7.7389e-01,  6.3332e-01, -9.6469e-01,  ...,  9.9989e-01,\n",
              "           1.0118e-02,  9.9995e-01],\n",
              "         [ 9.5105e-01, -3.0902e-01, -9.1091e-01,  ...,  9.9989e-01,\n",
              "           1.0262e-02,  9.9995e-01]], grad_fn=<SelectBackward0>))"
            ]
          },
          "execution_count": 18,
          "metadata": {},
          "output_type": "execute_result"
        }
      ],
      "source": [
        "embeddings = pe(embeddings)\n",
        "embeddings[1].shape, embeddings[1]"
      ]
    },
    {
      "cell_type": "markdown",
      "source": [
        "The embeddings, after being positionally encoded, have slightly different values. It is easier to notice it in the last few rows, since they correspond to the padding tokens (which were zero). Of course, since these padding tokens are being masked - and thus ignored by the model - adding positional encoding information to them is totally redundant."
      ],
      "metadata": {
        "id": "VBea_IVIL8Yt"
      },
      "id": "VBea_IVIL8Yt"
    },
    {
      "cell_type": "markdown",
      "id": "e4c09a4b",
      "metadata": {
        "id": "e4c09a4b"
      },
      "source": [
        "### 16.5.6 Hidden States\n",
        "\n",
        "We're finally getting to the most interesting part of this walkthrough. Let's build an encoder \"layer\" with two heads, and a Transformer Encoder that has a single copy of that \"layer\". It's a quite minimalistic Transformer Encoder."
      ]
    },
    {
      "cell_type": "code",
      "execution_count": null,
      "id": "3321bf2c",
      "metadata": {
        "id": "3321bf2c"
      },
      "outputs": [],
      "source": [
        "layer = EncoderLayer(n_heads=2, d_model=d_model, ff_units=128)\n",
        "encoder = EncoderTransf(layer, n_layers=1, max_len=max_length)"
      ]
    },
    {
      "cell_type": "markdown",
      "source": [
        "Then, we'll call our encoder using the (positionally-encoded) embeddings and the padding mask as arguments. The output of the Transformer Encoder is a mini-batch of hidden states."
      ],
      "metadata": {
        "id": "nldeHJ3kMXXt"
      },
      "id": "nldeHJ3kMXXt"
    },
    {
      "cell_type": "code",
      "execution_count": null,
      "id": "ffa761d1",
      "metadata": {
        "colab": {
          "base_uri": "https://localhost:8080/"
        },
        "id": "ffa761d1",
        "outputId": "532fcbaa-0682-4940-e157-645df2df7ee3"
      },
      "outputs": [
        {
          "data": {
            "text/plain": [
              "torch.Size([32, 72, 50])"
            ]
          },
          "execution_count": 20,
          "metadata": {},
          "output_type": "execute_result"
        }
      ],
      "source": [
        "hidden_states = encoder(embeddings, pad_mask)\n",
        "hidden_states.shape"
      ]
    },
    {
      "cell_type": "markdown",
      "id": "89a5887b",
      "metadata": {
        "id": "89a5887b"
      },
      "source": [
        "![](https://raw.githubusercontent.com/dvgodoy/assets/main/PyTorchInPractice/images/ch14/cls_hidden_state.png)\n",
        "\n",
        "Hidden states by the Transformer Encoder, by [Daniel Voigt Godoy](https://github.com/dvgodoy/dl-visuals), licensed under CC-BY-4.0"
      ]
    },
    {
      "cell_type": "markdown",
      "source": [
        "Notice that the hidden states have exactly the same shape as the embeddings we used as an argument. For each token in each sequence, there's an embedding vector of 50 values. This is not a coincidence: the hidden states produced by the last layer of a Transformer Encoder may also be used as embeddings. These embeddings, which are produced \"on-the-fly\" for a given input sentence, are known as \"contextual embeddings\". We'll get back to them shortly.\n",
        "\n",
        "Right now, let's focus on the hidden states corresponding to the special classifier token alone, depicted in purple in the figure above."
      ],
      "metadata": {
        "id": "ylMkRYk-M845"
      },
      "id": "ylMkRYk-M845"
    },
    {
      "cell_type": "markdown",
      "id": "ded89e5d",
      "metadata": {
        "id": "ded89e5d"
      },
      "source": [
        "### 16.5.7 Classifier \"Head\"\n",
        "\n",
        "![](https://raw.githubusercontent.com/dvgodoy/assets/main/PyTorchInPractice/images/ch0/model_step1.png)"
      ]
    },
    {
      "cell_type": "markdown",
      "source": [
        "We have already talked about classifier \"heads\" in \"Pretrained Models for Natural Language Processing\" while learning about the RoBERTa model which, by the way, is an encoder-based model as well.\n",
        "\n",
        "The classifier \"head\" is usually a quite simple feed-forward network, perhaps even a single layer, and its task is to transform hidden states into logits. Which states? Those corresponding to the special classifier token."
      ],
      "metadata": {
        "id": "sPgjASf3NB0g"
      },
      "id": "sPgjASf3NB0g"
    },
    {
      "cell_type": "code",
      "execution_count": null,
      "id": "fa2c41ce",
      "metadata": {
        "colab": {
          "base_uri": "https://localhost:8080/"
        },
        "id": "fa2c41ce",
        "outputId": "b0b7570b-b6fb-4755-d21d-b83df032e204"
      },
      "outputs": [
        {
          "data": {
            "text/plain": [
              "torch.Size([32, 50])"
            ]
          },
          "execution_count": 21,
          "metadata": {},
          "output_type": "execute_result"
        }
      ],
      "source": [
        "# Gets state from first token only: [CLS]\n",
        "cls_state = hidden_states[:, 0, :]  # N, D\n",
        "cls_state.shape"
      ]
    },
    {
      "cell_type": "code",
      "execution_count": null,
      "id": "55af7fe9",
      "metadata": {
        "colab": {
          "base_uri": "https://localhost:8080/"
        },
        "id": "55af7fe9",
        "outputId": "9855b5c9-11b2-438d-bb08-a8895b44abcb"
      },
      "outputs": [
        {
          "data": {
            "text/plain": [
              "torch.Size([32, 4])"
            ]
          },
          "execution_count": 22,
          "metadata": {},
          "output_type": "execute_result"
        }
      ],
      "source": [
        "mlp = nn.Linear(d_model, n_outputs)\n",
        "\n",
        "logits = mlp(cls_state) # N, outputs\n",
        "logits.shape"
      ]
    },
    {
      "cell_type": "markdown",
      "source": [
        "Logits at last! Congratulations, you have gone through the whole journey of a sentence, from being tokenized all the way to its logits used for classification. You're almost ready to train a Transformer Encoder! We have organized everything into the TransfClassifier class, so you can more easily build your model and, as a bonus, also visualize what the attention heads are actually paying attention to!"
      ],
      "metadata": {
        "id": "WTj03K4sOziG"
      },
      "id": "WTj03K4sOziG"
    },
    {
      "cell_type": "code",
      "execution_count": null,
      "id": "3ea863ea",
      "metadata": {
        "id": "3ea863ea"
      },
      "outputs": [],
      "source": [
        "class TransfClassifier(nn.Module):\n",
        "    def __init__(self, tokenizer, vector, encoder, n_outputs):\n",
        "        super().__init__()\n",
        "        # Our \"hybrid\" transformer takes an instance of the\n",
        "        # Vector class, such as GloVe to retrieve the word\n",
        "        # embeddings\n",
        "        self.vector = vector\n",
        "        # The number of dimensions (D) of the model is the\n",
        "        # same as the size of the embeddings\n",
        "\n",
        "        self.d_model = vector.vector_size\n",
        "\n",
        "        tensor_glove = torch.as_tensor(vector.vectors).float()\n",
        "        tensor_glove = torch.cat([tensor_glove, torch.zeros((2, self.d_model))])\n",
        "        self.fixed_embeddings = nn.Embedding.from_pretrained(tensor_glove)\n",
        "        self.pad_token_id = len(self.vector.key_to_index)\n",
        "        self.unk_token_id = self.pad_token_id + 1\n",
        "\n",
        "        # The tokenizer that will be used - it needs to\n",
        "        # produce tokens that are understood by the Vector\n",
        "        # GloVe's vocabulary is made of full words (not subwords)\n",
        "        # so the tokenizer must produce full words as well\n",
        "        self.tokenizer = tokenizer\n",
        "        # The number of outputs/classes the model should\n",
        "        # produce logits for\n",
        "        self.n_outputs = n_outputs\n",
        "\n",
        "        # The underlying structure of the model is\n",
        "        # made of a Transformer Encoder\n",
        "        self.encoder = encoder\n",
        "        # The MLP is the classifier \"head\" that maps\n",
        "        # the hidden state produced by the classifier token\n",
        "        # to the number of outputs (logits)\n",
        "        self.mlp = nn.Linear(self.d_model, n_outputs)\n",
        "        # These are the embeddings corresponding to the\n",
        "        # special classifier token, which are going to\n",
        "        # be learned during training - they are a parameter\n",
        "        self.cls_token = nn.Parameter(torch.zeros(1, 1, self.d_model))\n",
        "\n",
        "        # Positional encoding will add positional information\n",
        "        # according to the maximum sequence length, and number\n",
        "        # of dimenions of the embeddings\n",
        "        self.pe = PositionalEncoding(self.encoder.pe.max_len, self.d_model)\n",
        "\n",
        "    def _get_batch_embeddings(self, token_ids):\n",
        "        device = next(iter(self.parameters())).device\n",
        "        # Retrieve embeddings from the Vector object using `get_vecs_by_tokens`\n",
        "        # Make sure to get the shapes right, and concatenate the tensors so\n",
        "        # the resulting shape is N, L, D\n",
        "        embeddings = torch.cat([self.fixed_embeddings(torch.as_tensor(ids, device=device)).unsqueeze(0)\n",
        "                                for ids in token_ids], dim=0)\n",
        "        return embeddings\n",
        "\n",
        "    def preprocess(self, X):\n",
        "        # in a mini-batch of N sequences\n",
        "        # gets embeddings (size D) for each token\n",
        "        # in the sequence (size L)\n",
        "        # N, L -> N, L, D\n",
        "        src = self._get_batch_embeddings(X)\n",
        "\n",
        "        # creates a mini-batch (size N) of special classifier tokens\n",
        "        # each token has same size as embeddings (D)\n",
        "        # 1, 1, D -> N, 1, D\n",
        "        # it's part of the model (created as nn.Parameter), so it is sent to the device\n",
        "        # with the rest of the model\n",
        "        cls_tokens = self.cls_token.expand(len(X), -1, -1)\n",
        "\n",
        "        # Concatenates CLS tokens to the source embeddings\n",
        "        # N, 1 + L, D\n",
        "        src = torch.cat((cls_tokens, src.to(cls_tokens.device)), dim=1)\n",
        "        return src\n",
        "\n",
        "    def encode(self, source, source_mask=None):\n",
        "        # Encoder generates \"hidden states\"\n",
        "        # src to L, N, D and output states back to N, L, D\n",
        "        states = self.encoder(source, source_mask)\n",
        "        return states\n",
        "\n",
        "    def source_mask(self, X):\n",
        "        # If a BoolTensor is provided, positions with True is not allowed to attend\n",
        "        # while False values will be unchanged.\n",
        "\n",
        "        # Original code\n",
        "        # https://pytorch.org/tutorials/beginner/translation_transformer.html\n",
        "        # src_padding_mask = (src == PAD_IDX).transpose(0, 1)\n",
        "\n",
        "        # the classifier token shouldn't be ignored, so its mask is zero/False\n",
        "        cls_mask = torch.zeros(len(X), 1)\n",
        "        # for every padding token, we set the mask to True\n",
        "        pad_mask = torch.as_tensor(X) == self.pad_token_id\n",
        "\n",
        "        # concatenates the mask for the classifier tokens to\n",
        "        # the regular padding mask\n",
        "        pad_mask = torch.cat((cls_mask, pad_mask), dim=1).bool()\n",
        "        return pad_mask # N, D\n",
        "\n",
        "    def forward(self, X):\n",
        "        # tokenizes each sentence in the mini-batch\n",
        "        tokenized_X = [self.tokenizer(d) for d in X]\n",
        "        # pads all tokenized sequences to max length minus one\n",
        "        # subtracts one bc we're adding the CLS token\n",
        "        padded_X = encode_batch(self.vector.key_to_index,\n",
        "                        tokenized_X,\n",
        "                        max_len=99,\n",
        "                        padding=True,\n",
        "                        pad_token_id=self.pad_token_id,\n",
        "                        unk_token_id=self.unk_token_id)\n",
        "\n",
        "        device = next(iter(self.parameters())).device\n",
        "\n",
        "        # calls the preprocess method to get the embeddings\n",
        "        # and the special token embedding prepended to it\n",
        "        embeddings = self.preprocess(padded_X).to(device)\n",
        "        # add positional information to the embeddings\n",
        "        src = self.pe(embeddings)\n",
        "        # generates the mask to identify the padding tokens\n",
        "        mask = self.source_mask(padded_X).to(device)\n",
        "\n",
        "        # Featurizer - uses a Transformer Encoder to\n",
        "        # produce hidden states (same size as embeddings)\n",
        "        # which are going to used as features\n",
        "        states = self.encode(src, mask)\n",
        "        # Gets state from first token only: [CLS]\n",
        "        cls_state = states[:, 0, :]  # N, 1, D\n",
        "        # Uses the state produced by the classifier token\n",
        "        # to feed the classifier \"head\" (MLP) that\n",
        "        # produces logits\n",
        "        out = self.mlp(cls_state) # N, 1, outputs\n",
        "\n",
        "        # Gets the attention scores of the attention heads\n",
        "        # in the last encoder layer to visualize them later\n",
        "        alphas = self.encoder.layers[-1].self_attn_heads.alphas\n",
        "        return {'hidden_states': states,\n",
        "                'logits': out,\n",
        "                'embeddings': embeddings,\n",
        "                'alphas': alphas[:, :, 0, :].squeeze()}"
      ]
    },
    {
      "cell_type": "markdown",
      "source": [
        "Let's abstract away all these details and use the class above to instantiate a model:"
      ],
      "metadata": {
        "id": "shB6yAk4O9yk"
      },
      "id": "shB6yAk4O9yk"
    },
    {
      "cell_type": "code",
      "execution_count": null,
      "id": "4eac7433",
      "metadata": {
        "id": "4eac7433"
      },
      "outputs": [],
      "source": [
        "vector = downloader.load('glove-wiki-gigaword-50')\n",
        "tokenizer = simple_preprocess\n",
        "d_model = vector.vector_size\n",
        "\n",
        "max_length = 100\n",
        "n_outputs = 4\n",
        "\n",
        "layer = EncoderLayer(n_heads=2, d_model=d_model, ff_units=128)\n",
        "encoder = EncoderTransf(layer, n_layers=1, max_len=max_length)\n",
        "model = TransfClassifier(tokenizer, vector, encoder, n_outputs=4)"
      ]
    },
    {
      "cell_type": "markdown",
      "id": "162ec9a9",
      "metadata": {
        "id": "162ec9a9"
      },
      "source": [
        "***\n",
        "**ASIDE: Transformer in PyTorch**\n",
        "\n",
        "Although we've used simplified and custom version of the components used to build a Transformer Encoder for educational purposes (which will allows us to easily visualize the attention scores), PyTorch has its own, full, implementation of every component:\n",
        "\n",
        "- [TransformerEncoderLayer](https://pytorch.org/docs/stable/generated/torch.nn.TransformerEncoderLayer.html)\n",
        "- [TransformerEncoder](https://pytorch.org/docs/stable/generated/torch.nn.TransformerEncoder.html)\n",
        "- [TransformerDecoderLayer](https://pytorch.org/docs/stable/generated/torch.nn.TransformerDecoderLayer.html)\n",
        "- [TransformerDecoder](https://pytorch.org/docs/stable/generated/torch.nn.TransformerDecoder.html)\n",
        "- [Transformer](https://pytorch.org/docs/stable/generated/torch.nn.Transformer.html)\n",
        "\n",
        "Keep in mind that, by default, PyTorch's Transformer uses sequence-first mini-batches. In order to use mini-batches of the regular shape, as returned by a typical data loader, make sure to set the `batch_first` argument to `True`.\n",
        "\n",
        "Using PyTorch's own components, we could recreate our encoder in a quite similar way:\n",
        "\n",
        "```python\n",
        "encoder_layer = nn.TransformerEncoderLayer(nhead=2, d_model=d_model, dim_feedforward=128, batch_first=True)\n",
        "transformer_encoder = nn.TransformerEncoder(encoder_layer, num_layers=1)\n",
        "```\n",
        "\n",
        "Note that, unlike our own, PyTorch's Transformer Encoder does not implement positional encoding.\n",
        "***"
      ]
    },
    {
      "cell_type": "code",
      "execution_count": null,
      "id": "54cc3d7f",
      "metadata": {
        "colab": {
          "base_uri": "https://localhost:8080/"
        },
        "id": "54cc3d7f",
        "outputId": "3dab5cfd-42a1-43ad-ed64-2c8c9438ebf9",
        "scrolled": true
      },
      "outputs": [
        {
          "data": {
            "text/plain": [
              "dict_keys(['hidden_states', 'logits', 'embeddings', 'alphas'])"
            ]
          },
          "execution_count": 25,
          "metadata": {},
          "output_type": "execute_result"
        }
      ],
      "source": [
        "batch = next(iter(dataloaders['train']))\n",
        "labels, sentences = batch['topic'], batch['news']\n",
        "\n",
        "model.eval()\n",
        "out = model(sentences)\n",
        "out.keys()"
      ]
    },
    {
      "cell_type": "markdown",
      "source": [
        "Our model returns a dictionary containing the hidden states (as returned by the encoder's last - and only - layer), the logits (as returned by the classifier \"head\"), the original word embeddings (as retrieved from GloVe), and attention scores, also known as \"alphas\".\n",
        "\n",
        "The alphas tell us how much attention (weight) is paid to each word in a sentence for the purpose of classifying it. There are as many alphas as there are sentences, attention heads, and tokens. Padding tokens will have an alpha of zero because we're telling the model to ignore them. By looking into the highest alpha values computed for a given sentence, we can peek inside the model's \"reasoning\" to classify the sentence."
      ],
      "metadata": {
        "id": "WD5VfLZTPK_Q"
      },
      "id": "WD5VfLZTPK_Q"
    },
    {
      "cell_type": "code",
      "execution_count": null,
      "id": "957d40de",
      "metadata": {
        "colab": {
          "base_uri": "https://localhost:8080/"
        },
        "id": "957d40de",
        "outputId": "89692e11-cec2-442f-838e-8938695cae12"
      },
      "outputs": [
        {
          "data": {
            "text/plain": [
              "(torch.Size([32, 2, 41]),\n",
              " tensor([[[0.0626, 0.0425, 0.0403,  ..., 0.0000, 0.0000, 0.0000],\n",
              "          [0.0801, 0.0759, 0.0520,  ..., 0.0000, 0.0000, 0.0000]],\n",
              " \n",
              "         [[0.0393, 0.0259, 0.0345,  ..., 0.0000, 0.0000, 0.0000],\n",
              "          [0.0389, 0.0319, 0.0279,  ..., 0.0000, 0.0000, 0.0000]],\n",
              " \n",
              "         [[0.0433, 0.0257, 0.0323,  ..., 0.0000, 0.0000, 0.0000],\n",
              "          [0.0325, 0.0316, 0.0124,  ..., 0.0000, 0.0000, 0.0000]],\n",
              " \n",
              "         ...,\n",
              " \n",
              "         [[0.1268, 0.0542, 0.0596,  ..., 0.0000, 0.0000, 0.0000],\n",
              "          [0.1534, 0.0403, 0.0488,  ..., 0.0000, 0.0000, 0.0000]],\n",
              " \n",
              "         [[0.0501, 0.0349, 0.0825,  ..., 0.0000, 0.0000, 0.0000],\n",
              "          [0.0593, 0.0259, 0.0237,  ..., 0.0000, 0.0000, 0.0000]],\n",
              " \n",
              "         [[0.0799, 0.0477, 0.0525,  ..., 0.0000, 0.0000, 0.0000],\n",
              "          [0.0586, 0.0989, 0.0635,  ..., 0.0000, 0.0000, 0.0000]]]))"
            ]
          },
          "execution_count": 26,
          "metadata": {},
          "output_type": "execute_result"
        }
      ],
      "source": [
        "out['alphas'].shape, out['alphas']"
      ]
    },
    {
      "cell_type": "markdown",
      "source": [
        "The sum of the alphas for each sentence should add up to exactly one, the total attention \"budget\". However, if you call the model in training mode, you'll notice that the sum isn't exactly one anymore, and that's due to the existence of dropout in the attention mechanism.\n",
        "\n",
        "Of course, the values above still come from an untrained model and thus are meaningless. Let's train a model and see what they look like afterward!"
      ],
      "metadata": {
        "id": "zopb-v0QPZk0"
      },
      "id": "zopb-v0QPZk0"
    },
    {
      "cell_type": "markdown",
      "id": "e403b14c",
      "metadata": {
        "id": "e403b14c"
      },
      "source": [
        "### 16.5.8 Training\n",
        "\n",
        "There isn't anything different in the training procedure. As usual, we instantiate a model, a loss function, and an optimizer, and go over our training set in a standard training loop."
      ]
    },
    {
      "cell_type": "markdown",
      "id": "138bb5f4",
      "metadata": {
        "id": "138bb5f4"
      },
      "source": [
        "![](https://raw.githubusercontent.com/dvgodoy/assets/main/PyTorchInPractice/images/ch0/model_step1.png)"
      ]
    },
    {
      "cell_type": "code",
      "execution_count": null,
      "id": "5cf8ff7d",
      "metadata": {
        "id": "5cf8ff7d"
      },
      "outputs": [],
      "source": [
        "torch.manual_seed(11)\n",
        "\n",
        "vector = downloader.load('glove-wiki-gigaword-50')\n",
        "tokenizer = simple_preprocess\n",
        "d_model = vector.vector_size\n",
        "\n",
        "max_length = 100\n",
        "n_outputs = 4\n",
        "\n",
        "layer = EncoderLayer(n_heads=2, d_model=d_model, ff_units=128)\n",
        "encoder = EncoderTransf(layer, n_layers=1, max_len=max_length)\n",
        "model = TransfClassifier(tokenizer, vector, encoder, n_outputs=4)"
      ]
    },
    {
      "cell_type": "markdown",
      "id": "709282b1",
      "metadata": {
        "id": "709282b1"
      },
      "source": [
        "![](https://raw.githubusercontent.com/dvgodoy/assets/main/PyTorchInPractice/images/ch0/model_step2.png)"
      ]
    },
    {
      "cell_type": "markdown",
      "source": [
        "There are four categories to classify sentences into, so we need an appropriate loss function that takes two or more logits in: the cross-entropy loss."
      ],
      "metadata": {
        "id": "4WwUBTQyPlBf"
      },
      "id": "4WwUBTQyPlBf"
    },
    {
      "cell_type": "code",
      "execution_count": null,
      "id": "4b4e9b6e",
      "metadata": {
        "id": "4b4e9b6e"
      },
      "outputs": [],
      "source": [
        "loss_fn = nn.CrossEntropyLoss()"
      ]
    },
    {
      "cell_type": "markdown",
      "id": "5346d1e1",
      "metadata": {
        "id": "5346d1e1"
      },
      "source": [
        "![](https://raw.githubusercontent.com/dvgodoy/assets/main/PyTorchInPractice/images/ch0/model_step3.png)"
      ]
    },
    {
      "cell_type": "markdown",
      "source": [
        "As an optimizer, we'll stick with Adam, which is always a good choice to start with."
      ],
      "metadata": {
        "id": "_F0cP30PPo7a"
      },
      "id": "_F0cP30PPo7a"
    },
    {
      "cell_type": "code",
      "execution_count": null,
      "id": "07ce2f9d",
      "metadata": {
        "id": "07ce2f9d"
      },
      "outputs": [],
      "source": [
        "import torch.optim as optim\n",
        "\n",
        "optimizer = optim.Adam(model.parameters(), lr=1e-3)"
      ]
    },
    {
      "cell_type": "markdown",
      "id": "0340d387",
      "metadata": {
        "id": "0340d387"
      },
      "source": [
        "![](https://raw.githubusercontent.com/dvgodoy/assets/main/PyTorchInPractice/images/ch0/model_step4.png)"
      ]
    },
    {
      "cell_type": "markdown",
      "source": [
        "We have all the pieces needed to put together a training loop:"
      ],
      "metadata": {
        "id": "SNyOJ-uGPsSR"
      },
      "id": "SNyOJ-uGPsSR"
    },
    {
      "cell_type": "code",
      "execution_count": null,
      "id": "2808ad6f",
      "metadata": {
        "id": "2808ad6f"
      },
      "outputs": [],
      "source": [
        "batch_losses = []\n",
        "\n",
        "device = 'cuda' if torch.cuda.is_available() else 'cpu'\n",
        "\n",
        "model.to(device)\n",
        "\n",
        "## Training\n",
        "for i, batch in enumerate(dataloaders['train']):\n",
        "    model.train()\n",
        "\n",
        "    labels, sentences = batch['topic'], batch['news']\n",
        "    labels = labels.to(device)\n",
        "\n",
        "    # Step 1 - forward pass\n",
        "    predictions = model(sentences)['logits']\n",
        "\n",
        "    # Step 2 - computing the loss\n",
        "    loss = loss_fn(predictions, labels)\n",
        "\n",
        "    # Step 3 - computing the gradients\n",
        "    loss.backward()\n",
        "    batch_losses.append(loss.item())\n",
        "\n",
        "    # Step 4 - updating parameters and zeroing gradients\n",
        "    optimizer.step()\n",
        "    optimizer.zero_grad()"
      ]
    },
    {
      "cell_type": "markdown",
      "source": [
        "If we take a quick look at the losses, they look like this (your plot might be slightly different):"
      ],
      "metadata": {
        "id": "Tw61v1EnPvgj"
      },
      "id": "Tw61v1EnPvgj"
    },
    {
      "cell_type": "code",
      "execution_count": null,
      "id": "621daf05",
      "metadata": {
        "colab": {
          "base_uri": "https://localhost:8080/",
          "height": 447
        },
        "id": "621daf05",
        "outputId": "6cc646ab-d661-4642-edd8-66dfc9d3a368"
      },
      "outputs": [
        {
          "data": {
            "text/plain": [
              "[<matplotlib.lines.Line2D at 0x7fe2bd2c0610>]"
            ]
          },
          "execution_count": 32,
          "metadata": {},
          "output_type": "execute_result"
        },
        {
          "data": {
            "image/png": "[encoded data removed]",
            "text/plain": [
              "<Figure size 640x480 with 1 Axes>"
            ]
          },
          "metadata": {},
          "output_type": "display_data"
        }
      ],
      "source": [
        "from matplotlib import pyplot as plt\n",
        "plt.plot(batch_losses)"
      ]
    },
    {
      "cell_type": "markdown",
      "source": [
        "Training losses over mini-batches"
      ],
      "metadata": {
        "id": "fqfu768rPy9W"
      },
      "id": "fqfu768rPy9W"
    },
    {
      "cell_type": "markdown",
      "id": "e3eb50dc",
      "metadata": {
        "id": "e3eb50dc"
      },
      "source": [
        "### 16.5.9 Evaluation\n",
        "\n",
        "![](https://raw.githubusercontent.com/dvgodoy/assets/main/PyTorchInPractice/images/ch0/model_step5.png)"
      ]
    },
    {
      "cell_type": "markdown",
      "source": [
        "We can run the very same evaluation as in the lab, except for the fact that we need to unpack the logits first."
      ],
      "metadata": {
        "id": "5HPQF4udP4jU"
      },
      "id": "5HPQF4udP4jU"
    },
    {
      "cell_type": "code",
      "execution_count": null,
      "id": "09521407",
      "metadata": {
        "id": "09521407"
      },
      "outputs": [],
      "source": [
        "import evaluate\n",
        "\n",
        "metric1 = evaluate.load('precision', average=None)\n",
        "metric2 = evaluate.load('recall', average=None)\n",
        "metric3 = evaluate.load('accuracy')"
      ]
    },
    {
      "cell_type": "code",
      "execution_count": null,
      "id": "adb5f038",
      "metadata": {
        "id": "adb5f038"
      },
      "outputs": [],
      "source": [
        "model.eval()\n",
        "\n",
        "for batch in dataloaders['test']:\n",
        "    labels, sentences = batch['topic'], batch['news']\n",
        "    labels = labels.to(device)\n",
        "\n",
        "    # Step 1 - forward pass\n",
        "    predictions = model(sentences)['logits']\n",
        "\n",
        "    pred_class = predictions.argmax(dim=1).tolist()\n",
        "    labels = labels.tolist()\n",
        "\n",
        "    metric1.add_batch(references=labels, predictions=pred_class)\n",
        "    metric2.add_batch(references=labels, predictions=pred_class)\n",
        "    metric3.add_batch(references=labels, predictions=pred_class)"
      ]
    },
    {
      "cell_type": "code",
      "execution_count": null,
      "id": "d9f947cf",
      "metadata": {
        "colab": {
          "base_uri": "https://localhost:8080/"
        },
        "id": "d9f947cf",
        "outputId": "ce515923-afd3-4864-d13f-e55473d263ba"
      },
      "outputs": [
        {
          "data": {
            "text/plain": [
              "({'precision': array([0.9329806 , 0.95064935, 0.84829545, 0.78139115])},\n",
              " {'recall': array([0.83526316, 0.96315789, 0.78578947, 0.91052632])},\n",
              " {'accuracy': 0.8736842105263158})"
            ]
          },
          "execution_count": 35,
          "metadata": {},
          "output_type": "execute_result"
        }
      ],
      "source": [
        "metric1.compute(average=None), metric2.compute(average=None), metric3.compute()"
      ]
    },
    {
      "cell_type": "markdown",
      "source": [
        "That's only two percentage points better than the single-layer linear model we used before! A little disappointing, isn't it? Perhaps we can improve our metrics even further if we switch to contextual embeddings, that is, embeddings produced by encoder-based models such as BERT and RoBERTa.\n",
        "\n",
        "Nonetheless, our model is quite good and, even better, it allows us to explore what's happening inside its head(s), literally. Let's see what's in there!"
      ],
      "metadata": {
        "id": "yDGNhDDxP8HC"
      },
      "id": "yDGNhDDxP8HC"
    },
    {
      "cell_type": "markdown",
      "id": "5800edba",
      "metadata": {
        "id": "5800edba"
      },
      "source": [
        "### 16.5.10 Visualizing Attention\n",
        "\n",
        "In order to visualize the attention scores (alphas), we need to feed our model a mini-batch of sentences:"
      ]
    },
    {
      "cell_type": "code",
      "execution_count": null,
      "id": "abc67ddb",
      "metadata": {
        "colab": {
          "base_uri": "https://localhost:8080/"
        },
        "id": "abc67ddb",
        "outputId": "dde41f1e-9b64-458e-acdd-221c92c8ec15"
      },
      "outputs": [
        {
          "data": {
            "text/plain": [
              "torch.Size([32, 2, 48])"
            ]
          },
          "execution_count": 36,
          "metadata": {},
          "output_type": "execute_result"
        }
      ],
      "source": [
        "batch = next(iter(dataloaders['train']))\n",
        "labels, sentences = batch['topic'], batch['news']\n",
        "\n",
        "model.eval()\n",
        "out = model(sentences)\n",
        "scores = out['alphas']\n",
        "scores.shape"
      ]
    },
    {
      "cell_type": "markdown",
      "source": [
        "There are two heads, and several tokens they may pay attention to. Let's take the index corresponding to the highest score (disregarding the first score that corresponds to the classifier token we prepended to each sentence inside our model):"
      ],
      "metadata": {
        "id": "ttkjf5i-RdAZ"
      },
      "id": "ttkjf5i-RdAZ"
    },
    {
      "cell_type": "code",
      "execution_count": null,
      "id": "9f7c45a0",
      "metadata": {
        "colab": {
          "base_uri": "https://localhost:8080/"
        },
        "id": "9f7c45a0",
        "outputId": "5ff95e27-cefa-4ef7-98c6-775b636c9eed"
      },
      "outputs": [
        {
          "data": {
            "text/plain": [
              "[[6, 1], [1, 15], [12, 0]]"
            ]
          },
          "execution_count": 37,
          "metadata": {},
          "output_type": "execute_result"
        }
      ],
      "source": [
        "top_idxs = scores[:, :, 1:].argmax(dim=2).tolist()\n",
        "top_idxs[:3]"
      ]
    },
    {
      "cell_type": "markdown",
      "source": [
        "Now, let's use these indices to inspect which tokens (words) were assigned the higher score by each one of the attention heads, and compare the predicted and actual labels:"
      ],
      "metadata": {
        "id": "qRxQFJNnRrFw"
      },
      "id": "qRxQFJNnRrFw"
    },
    {
      "cell_type": "code",
      "execution_count": null,
      "id": "9836b79d",
      "metadata": {
        "colab": {
          "base_uri": "https://localhost:8080/",
          "height": 1000
        },
        "id": "9836b79d",
        "outputId": "e30fba1a-0bb7-48e6-a878-571ff9bd2bed"
      },
      "outputs": [
        {
          "data": {
            "text/html": [
              "<div>\n",
              "<style scoped>\n",
              "    .dataframe tbody tr th:only-of-type {\n",
              "        vertical-align: middle;\n",
              "    }\n",
              "\n",
              "    .dataframe tbody tr th {\n",
              "        vertical-align: top;\n",
              "    }\n",
              "\n",
              "    .dataframe thead th {\n",
              "        text-align: right;\n",
              "    }\n",
              "</style>\n",
              "<table border=\"1\" class=\"dataframe\">\n",
              "  <thead>\n",
              "    <tr style=\"text-align: right;\">\n",
              "      <th></th>\n",
              "      <th>Label</th>\n",
              "      <th>Prediction</th>\n",
              "      <th>Head #1</th>\n",
              "      <th>Head #2</th>\n",
              "      <th>News</th>\n",
              "    </tr>\n",
              "  </thead>\n",
              "  <tbody>\n",
              "    <tr>\n",
              "      <th>0</th>\n",
              "      <td>sci/tech</td>\n",
              "      <td>sci/tech</td>\n",
              "      <td>blog</td>\n",
              "      <td>com</td>\n",
              "      <td>washingtonpost.com - The idea of penning a blo...</td>\n",
              "    </tr>\n",
              "    <tr>\n",
              "      <th>1</th>\n",
              "      <td>business</td>\n",
              "      <td>business</td>\n",
              "      <td>reuters</td>\n",
              "      <td>pondered</td>\n",
              "      <td>LONDON (Reuters) - U.S. Treasury prices drifte...</td>\n",
              "    </tr>\n",
              "    <tr>\n",
              "      <th>2</th>\n",
              "      <td>sports</td>\n",
              "      <td>sports</td>\n",
              "      <td>resume</td>\n",
              "      <td>andruw</td>\n",
              "      <td>Andruw Jones has notched another Gold Glove Aw...</td>\n",
              "    </tr>\n",
              "    <tr>\n",
              "      <th>3</th>\n",
              "      <td>business</td>\n",
              "      <td>business</td>\n",
              "      <td>reported</td>\n",
              "      <td>shares</td>\n",
              "      <td>American Express' reported revenue was  $7.2 b...</td>\n",
              "    </tr>\n",
              "    <tr>\n",
              "      <th>4</th>\n",
              "      <td>world</td>\n",
              "      <td>world</td>\n",
              "      <td>nuclear</td>\n",
              "      <td>experiment</td>\n",
              "      <td>The government doesn't believe Seoul intended ...</td>\n",
              "    </tr>\n",
              "    <tr>\n",
              "      <th>5</th>\n",
              "      <td>world</td>\n",
              "      <td>world</td>\n",
              "      <td>abuja</td>\n",
              "      <td>flights</td>\n",
              "      <td>ABUJA (Reuters) - Sudan bowed to international...</td>\n",
              "    </tr>\n",
              "    <tr>\n",
              "      <th>6</th>\n",
              "      <td>world</td>\n",
              "      <td>world</td>\n",
              "      <td>peace</td>\n",
              "      <td>game</td>\n",
              "      <td>Another round of India-Pakistan peace talks ov...</td>\n",
              "    </tr>\n",
              "    <tr>\n",
              "      <th>7</th>\n",
              "      <td>sports</td>\n",
              "      <td>sports</td>\n",
              "      <td>fallon</td>\n",
              "      <td>fergal</td>\n",
              "      <td>LONDON - Champion jockey Kieron Fallon and col...</td>\n",
              "    </tr>\n",
              "    <tr>\n",
              "      <th>8</th>\n",
              "      <td>world</td>\n",
              "      <td>world</td>\n",
              "      <td>ap</td>\n",
              "      <td>lecturing</td>\n",
              "      <td>AP - Tom Daschle says he might consider writin...</td>\n",
              "    </tr>\n",
              "    <tr>\n",
              "      <th>9</th>\n",
              "      <td>sci/tech</td>\n",
              "      <td>sci/tech</td>\n",
              "      <td>inc</td>\n",
              "      <td>paypal</td>\n",
              "      <td>NEW YORK -- Apple Computer Inc.'s online music...</td>\n",
              "    </tr>\n",
              "    <tr>\n",
              "      <th>10</th>\n",
              "      <td>business</td>\n",
              "      <td>business</td>\n",
              "      <td>national</td>\n",
              "      <td>regulators</td>\n",
              "      <td>Spanish bank Santander Central Hispano says th...</td>\n",
              "    </tr>\n",
              "    <tr>\n",
              "      <th>11</th>\n",
              "      <td>sports</td>\n",
              "      <td>sports</td>\n",
              "      <td>panathinaiko</td>\n",
              "      <td>panathinaiko</td>\n",
              "      <td>ATHENS - No question where to watch the sun se...</td>\n",
              "    </tr>\n",
              "    <tr>\n",
              "      <th>12</th>\n",
              "      <td>business</td>\n",
              "      <td>business</td>\n",
              "      <td>inc</td>\n",
              "      <td>giant</td>\n",
              "      <td>US entertainment giant Time Warner Inc. said M...</td>\n",
              "    </tr>\n",
              "    <tr>\n",
              "      <th>13</th>\n",
              "      <td>sports</td>\n",
              "      <td>sports</td>\n",
              "      <td>reuters</td>\n",
              "      <td>propel</td>\n",
              "      <td>NEW YORK (Reuters) - Richard Hamilton posted 2...</td>\n",
              "    </tr>\n",
              "    <tr>\n",
              "      <th>14</th>\n",
              "      <td>world</td>\n",
              "      <td>world</td>\n",
              "      <td>tehran</td>\n",
              "      <td>deal</td>\n",
              "      <td>Reuters - The United States would deal with Ir...</td>\n",
              "    </tr>\n",
              "    <tr>\n",
              "      <th>15</th>\n",
              "      <td>sci/tech</td>\n",
              "      <td>sci/tech</td>\n",
              "      <td>officials</td>\n",
              "      <td>charliecard</td>\n",
              "      <td>Nearly a decade in the making, the MBTA is ent...</td>\n",
              "    </tr>\n",
              "    <tr>\n",
              "      <th>16</th>\n",
              "      <td>business</td>\n",
              "      <td>business</td>\n",
              "      <td>inc</td>\n",
              "      <td>lucent</td>\n",
              "      <td>Lucent Technologies Inc. (LU.N: Quote, Profile...</td>\n",
              "    </tr>\n",
              "    <tr>\n",
              "      <th>17</th>\n",
              "      <td>sci/tech</td>\n",
              "      <td>sci/tech</td>\n",
              "      <td>technology</td>\n",
              "      <td>intel</td>\n",
              "      <td>Despite Intel's support of the emerging wirele...</td>\n",
              "    </tr>\n",
              "    <tr>\n",
              "      <th>18</th>\n",
              "      <td>business</td>\n",
              "      <td>business</td>\n",
              "      <td>reuters</td>\n",
              "      <td>lamy</td>\n",
              "      <td>WASHINGTON (Reuters) - U.S. trade officials sa...</td>\n",
              "    </tr>\n",
              "    <tr>\n",
              "      <th>19</th>\n",
              "      <td>sci/tech</td>\n",
              "      <td>sci/tech</td>\n",
              "      <td>gvu</td>\n",
              "      <td>software</td>\n",
              "      <td>Continuing its crackdown on software pirates, ...</td>\n",
              "    </tr>\n",
              "    <tr>\n",
              "      <th>20</th>\n",
              "      <td>sports</td>\n",
              "      <td>sports</td>\n",
              "      <td>clock</td>\n",
              "      <td>pointer</td>\n",
              "      <td>Ewing's last 3-pointer came in the final minut...</td>\n",
              "    </tr>\n",
              "    <tr>\n",
              "      <th>21</th>\n",
              "      <td>sports</td>\n",
              "      <td>sports</td>\n",
              "      <td>ap</td>\n",
              "      <td>mavericks</td>\n",
              "      <td>AP - Dallas Mavericks center Erick Dampier lef...</td>\n",
              "    </tr>\n",
              "    <tr>\n",
              "      <th>22</th>\n",
              "      <td>sci/tech</td>\n",
              "      <td>sci/tech</td>\n",
              "      <td>blogosphere</td>\n",
              "      <td>microsoft</td>\n",
              "      <td>Microsoft is throwing its hat into the blogosp...</td>\n",
              "    </tr>\n",
              "    <tr>\n",
              "      <th>23</th>\n",
              "      <td>sports</td>\n",
              "      <td>sports</td>\n",
              "      <td>ap</td>\n",
              "      <td>francisco</td>\n",
              "      <td>AP - The San Francisco Giants and catcher Mike...</td>\n",
              "    </tr>\n",
              "    <tr>\n",
              "      <th>24</th>\n",
              "      <td>business</td>\n",
              "      <td>business</td>\n",
              "      <td>iraqi</td>\n",
              "      <td>stocks</td>\n",
              "      <td>SINGAPORE (Reuters) - Oil prices held steady o...</td>\n",
              "    </tr>\n",
              "    <tr>\n",
              "      <th>25</th>\n",
              "      <td>world</td>\n",
              "      <td>world</td>\n",
              "      <td>kirkuk</td>\n",
              "      <td>tall</td>\n",
              "      <td>Violence flared in Iraq on Saturday with a sui...</td>\n",
              "    </tr>\n",
              "    <tr>\n",
              "      <th>26</th>\n",
              "      <td>sports</td>\n",
              "      <td>sports</td>\n",
              "      <td>ap</td>\n",
              "      <td>pavano</td>\n",
              "      <td>AP - Carl Pavano met with Yankees officials an...</td>\n",
              "    </tr>\n",
              "    <tr>\n",
              "      <th>27</th>\n",
              "      <td>world</td>\n",
              "      <td>world</td>\n",
              "      <td>pakistani</td>\n",
              "      <td>midtown</td>\n",
              "      <td>NEW YORK - A U.S. citizen and a Pakistani nati...</td>\n",
              "    </tr>\n",
              "    <tr>\n",
              "      <th>28</th>\n",
              "      <td>business</td>\n",
              "      <td>business</td>\n",
              "      <td>us</td>\n",
              "      <td>monopoly</td>\n",
              "      <td>Mexican state oil monopoly Petroleos Mexicanos...</td>\n",
              "    </tr>\n",
              "    <tr>\n",
              "      <th>29</th>\n",
              "      <td>business</td>\n",
              "      <td>business</td>\n",
              "      <td>said</td>\n",
              "      <td>rate</td>\n",
              "      <td>OTTAWA - The economy created another 34,300 jo...</td>\n",
              "    </tr>\n",
              "    <tr>\n",
              "      <th>30</th>\n",
              "      <td>world</td>\n",
              "      <td>world</td>\n",
              "      <td>samarra</td>\n",
              "      <td>stealing</td>\n",
              "      <td>Guerrillas carried out a series of raids in th...</td>\n",
              "    </tr>\n",
              "    <tr>\n",
              "      <th>31</th>\n",
              "      <td>sci/tech</td>\n",
              "      <td>sci/tech</td>\n",
              "      <td>fighting</td>\n",
              "      <td>chip</td>\n",
              "      <td>Figuring it's had enough of fighting over opti...</td>\n",
              "    </tr>\n",
              "  </tbody>\n",
              "</table>\n",
              "</div>"
            ],
            "text/plain": [
              "       Label Prediction       Head #1       Head #2  \\\n",
              "0   sci/tech   sci/tech          blog           com   \n",
              "1   business   business       reuters      pondered   \n",
              "2     sports     sports        resume        andruw   \n",
              "3   business   business      reported        shares   \n",
              "4      world      world       nuclear    experiment   \n",
              "5      world      world         abuja       flights   \n",
              "6      world      world         peace          game   \n",
              "7     sports     sports        fallon        fergal   \n",
              "8      world      world            ap     lecturing   \n",
              "9   sci/tech   sci/tech           inc        paypal   \n",
              "10  business   business      national    regulators   \n",
              "11    sports     sports  panathinaiko  panathinaiko   \n",
              "12  business   business           inc         giant   \n",
              "13    sports     sports       reuters        propel   \n",
              "14     world      world        tehran          deal   \n",
              "15  sci/tech   sci/tech     officials   charliecard   \n",
              "16  business   business           inc        lucent   \n",
              "17  sci/tech   sci/tech    technology         intel   \n",
              "18  business   business       reuters          lamy   \n",
              "19  sci/tech   sci/tech           gvu      software   \n",
              "20    sports     sports         clock       pointer   \n",
              "21    sports     sports            ap     mavericks   \n",
              "22  sci/tech   sci/tech   blogosphere     microsoft   \n",
              "23    sports     sports            ap     francisco   \n",
              "24  business   business         iraqi        stocks   \n",
              "25     world      world        kirkuk          tall   \n",
              "26    sports     sports            ap        pavano   \n",
              "27     world      world     pakistani       midtown   \n",
              "28  business   business            us      monopoly   \n",
              "29  business   business          said          rate   \n",
              "30     world      world       samarra      stealing   \n",
              "31  sci/tech   sci/tech      fighting          chip   \n",
              "\n",
              "                                                 News  \n",
              "0   washingtonpost.com - The idea of penning a blo...  \n",
              "1   LONDON (Reuters) - U.S. Treasury prices drifte...  \n",
              "2   Andruw Jones has notched another Gold Glove Aw...  \n",
              "3   American Express' reported revenue was  $7.2 b...  \n",
              "4   The government doesn't believe Seoul intended ...  \n",
              "5   ABUJA (Reuters) - Sudan bowed to international...  \n",
              "6   Another round of India-Pakistan peace talks ov...  \n",
              "7   LONDON - Champion jockey Kieron Fallon and col...  \n",
              "8   AP - Tom Daschle says he might consider writin...  \n",
              "9   NEW YORK -- Apple Computer Inc.'s online music...  \n",
              "10  Spanish bank Santander Central Hispano says th...  \n",
              "11  ATHENS - No question where to watch the sun se...  \n",
              "12  US entertainment giant Time Warner Inc. said M...  \n",
              "13  NEW YORK (Reuters) - Richard Hamilton posted 2...  \n",
              "14  Reuters - The United States would deal with Ir...  \n",
              "15  Nearly a decade in the making, the MBTA is ent...  \n",
              "16  Lucent Technologies Inc. (LU.N: Quote, Profile...  \n",
              "17  Despite Intel's support of the emerging wirele...  \n",
              "18  WASHINGTON (Reuters) - U.S. trade officials sa...  \n",
              "19  Continuing its crackdown on software pirates, ...  \n",
              "20  Ewing's last 3-pointer came in the final minut...  \n",
              "21  AP - Dallas Mavericks center Erick Dampier lef...  \n",
              "22  Microsoft is throwing its hat into the blogosp...  \n",
              "23  AP - The San Francisco Giants and catcher Mike...  \n",
              "24  SINGAPORE (Reuters) - Oil prices held steady o...  \n",
              "25  Violence flared in Iraq on Saturday with a sui...  \n",
              "26  AP - Carl Pavano met with Yankees officials an...  \n",
              "27  NEW YORK - A U.S. citizen and a Pakistani nati...  \n",
              "28  Mexican state oil monopoly Petroleos Mexicanos...  \n",
              "29  OTTAWA - The economy created another 34,300 jo...  \n",
              "30  Guerrillas carried out a series of raids in th...  \n",
              "31  Figuring it's had enough of fighting over opti...  "
            ]
          },
          "execution_count": 38,
          "metadata": {},
          "output_type": "execute_result"
        }
      ],
      "source": [
        "import pandas as pd\n",
        "\n",
        "class_labels = ['world', 'sports', 'business', 'sci/tech']\n",
        "\n",
        "results = [(class_labels[label], class_labels[prediction], tokens[idxs[0]], tokens[idxs[1]], description)\n",
        " for tokens, idxs, label, prediction, description in\n",
        " zip([tokenizer(s) for s in sentences], top_idxs, labels.tolist(), out['logits'].argmax(dim=1).tolist(), sentences)]\n",
        "\n",
        "pd.DataFrame(results, columns=['Label', 'Prediction', 'Head #1', 'Head #2', 'News'])"
      ]
    },
    {
      "cell_type": "markdown",
      "source": [
        "Take some time to go over the examples above, and notice the similarities among the words chosen by the heads to classify sentences into a given topic, say, sports.\n",
        "\n",
        "You'll see that the heads often choose team names or sports celebrities as the most important token for classifying a sentence. The same holds true for country names, which usually drive a classification into the \"world\" class."
      ],
      "metadata": {
        "id": "__iL0-oQRwh2"
      },
      "id": "__iL0-oQRwh2"
    },
    {
      "cell_type": "markdown",
      "id": "6ca639da",
      "metadata": {
        "id": "6ca639da"
      },
      "source": [
        "## 16.6 Contextual Embeddings\n",
        "\n",
        "####Contextual Embeddings: Overview\n",
        "Traditional word embeddings such as GloVe do not take into account the context surrounding the word, so they give you exactly the same embeddings even if the word has a completely different meaning. For example, take the word \"bank\" in the following sentences:\n",
        "\n",
        "\"I am going to the bank to make a deposit\"\n",
        "\"I am walking by the river bank\"\n",
        "Same word, totally different meaning. Contextual embeddings tackle this by taking the whole sentence as input, and producing an embedding for each word. We've seen it already, these embeddings are the hidden states returned by a Transformer Encoder.\n",
        "\n",
        "Let's go over another example, step-by-step:"
      ]
    },
    {
      "cell_type": "code",
      "execution_count": null,
      "id": "a8c6897f",
      "metadata": {
        "id": "a8c6897f"
      },
      "outputs": [],
      "source": [
        "sentences = (\"The core of the planet is becoming unstable.\",\n",
        "             \"The shift in the company's core business markets had impacted their quartely results.\")"
      ]
    },
    {
      "cell_type": "markdown",
      "source": [
        "The word \"core\" has two different meanings in the sentences above. What happens if we use our model to classify them?"
      ],
      "metadata": {
        "id": "T2szBo0wR-8G"
      },
      "id": "T2szBo0wR-8G"
    },
    {
      "cell_type": "code",
      "execution_count": null,
      "id": "deca505f",
      "metadata": {
        "colab": {
          "base_uri": "https://localhost:8080/"
        },
        "id": "deca505f",
        "outputId": "2e26467b-70a6-4725-ca97-462b872af46b"
      },
      "outputs": [
        {
          "data": {
            "text/plain": [
              "[3, 2]"
            ]
          },
          "execution_count": 40,
          "metadata": {},
          "output_type": "execute_result"
        }
      ],
      "source": [
        "model.eval()\n",
        "out = model(sentences)\n",
        "out['logits'].argmax(dim=1).tolist()"
      ]
    },
    {
      "cell_type": "markdown",
      "source": [
        "The first sentence was classified as \"sci/tech\" and the second, as \"business\". We made up those sentences, so there are no true labels for them, but the classification seems alright.\n",
        "\n",
        "Now, let's get the corresponding token index for the word \"core\" in each sentence, taking care of accounting for the prepended classifier token:"
      ],
      "metadata": {
        "id": "L2tdOaCPSCrw"
      },
      "id": "L2tdOaCPSCrw"
    },
    {
      "cell_type": "code",
      "execution_count": null,
      "id": "fc1b36ca",
      "metadata": {
        "colab": {
          "base_uri": "https://localhost:8080/"
        },
        "id": "fc1b36ca",
        "outputId": "f3c7327c-e5c1-4524-c357-6b162be17ec0"
      },
      "outputs": [
        {
          "data": {
            "text/plain": [
              "(2, 6)"
            ]
          },
          "execution_count": 41,
          "metadata": {},
          "output_type": "execute_result"
        }
      ],
      "source": [
        "idx0 = tokenizer(sentences[0]).index('core') + 1  # because [CLS] is 0th index\n",
        "idx1 = tokenizer(sentences[1]).index('core') + 1  # because [CLS] is 0th index\n",
        "idx0, idx1"
      ]
    },
    {
      "cell_type": "markdown",
      "source": [
        "The output of our model is a dictionary containing both word embeddings (from GloVe) and hidden states (returned by the encoder). As expected, GloVe embeddings for \"core\" are exactly the same in both sentences:"
      ],
      "metadata": {
        "id": "o417AJ5dSF_i"
      },
      "id": "o417AJ5dSF_i"
    },
    {
      "cell_type": "code",
      "execution_count": null,
      "id": "266654cd",
      "metadata": {
        "colab": {
          "base_uri": "https://localhost:8080/"
        },
        "id": "266654cd",
        "outputId": "9b90e6db-4ed5-4a22-8324-014eb069302d"
      },
      "outputs": [
        {
          "data": {
            "text/plain": [
              "tensor(True, device='cuda:0')"
            ]
          },
          "execution_count": 42,
          "metadata": {},
          "output_type": "execute_result"
        }
      ],
      "source": [
        "(out['embeddings'][0][idx0] == out['embeddings'][1][idx1]).all()"
      ]
    },
    {
      "cell_type": "markdown",
      "source": [
        "The hidden states corresponding to the word \"core\", though, are quite different from one another - they are contextual:"
      ],
      "metadata": {
        "id": "PiSYY2FES9UQ"
      },
      "id": "PiSYY2FES9UQ"
    },
    {
      "cell_type": "code",
      "execution_count": null,
      "id": "ce48e8a2",
      "metadata": {
        "colab": {
          "base_uri": "https://localhost:8080/"
        },
        "id": "ce48e8a2",
        "outputId": "37aaaef7-c5b8-4f5c-b176-2c1afb2f4453"
      },
      "outputs": [
        {
          "data": {
            "text/plain": [
              "(tensor([-0.4497, -0.2366,  1.3119,  0.0328,  1.6568,  0.4824,  0.4708, -1.9531,\n",
              "         -0.2213,  0.5173,  0.8217, -0.8885, -0.5456,  0.5007, -1.4362,  0.8634,\n",
              "          0.0875,  1.1094,  0.8987, -0.8079,  0.1854, -0.5527, -0.1230, -0.1543,\n",
              "         -0.6870, -0.6386, -0.7477,  0.1236,  0.2323,  0.5025,  5.1051, -0.1390,\n",
              "         -0.1227, -1.0278, -0.2210,  0.1615, -1.0884, -0.1216, -0.3719, -0.4975,\n",
              "         -0.3412, -1.5703, -0.8033,  0.4210,  0.1574,  0.7238,  0.4053,  0.6086,\n",
              "         -0.7680, -0.2086], device='cuda:0', grad_fn=<SelectBackward0>),\n",
              " tensor([-8.5940e-01,  1.7247e-01,  9.1704e-01, -7.4935e-02,  1.4693e+00,\n",
              "          7.9795e-02,  5.5029e-01, -2.2418e+00, -1.8272e-01,  3.9973e-01,\n",
              "          9.8661e-01, -9.4012e-01, -5.1435e-01,  6.0205e-01, -1.2629e+00,\n",
              "          8.1216e-01,  3.7704e-02,  1.1156e+00,  8.7030e-01, -8.7857e-01,\n",
              "          3.4521e-01, -4.9385e-01, -1.6959e-01, -1.3015e-02, -5.8358e-01,\n",
              "         -7.1567e-01, -6.1075e-01,  5.5590e-02,  2.5342e-01,  5.8203e-01,\n",
              "          5.0790e+00, -1.2109e-01, -1.9226e-03, -9.3227e-01, -2.1598e-01,\n",
              "          1.0505e-01, -1.0385e+00, -1.4173e-01, -3.5116e-01, -5.8806e-01,\n",
              "         -2.0014e-01, -1.6348e+00, -8.4773e-01,  4.5834e-01,  1.2630e-01,\n",
              "          7.8577e-01,  5.3298e-01,  7.8315e-01, -8.2731e-01, -7.1345e-02],\n",
              "        device='cuda:0', grad_fn=<SelectBackward0>))"
            ]
          },
          "execution_count": 43,
          "metadata": {},
          "output_type": "execute_result"
        }
      ],
      "source": [
        "out['hidden_states'][0][idx0], out['hidden_states'][1][idx1]"
      ]
    },
    {
      "cell_type": "markdown",
      "source": [
        "Of course, we're just illustrating the general idea behind contextual word embeddings here. Encoder-based models such as BERT and RoBERTa were extensively trained in particular tasks such as \"masked language modeling (MLM)\" and \"next sentence prediction (NSP)\", to produce high-quality contextual word embeddings.\n",
        "\n",
        "Contextual embeddings are great, but it may be unwieldy to handle sequences of embeddings, especially if the sequences are particularly long. Before, we used a bag of embeddings approach, averaging them all. But, wouldn't it be great to get \"one embedding to rule them all\" instead?"
      ],
      "metadata": {
        "id": "2Rm7DPohTCd6"
      },
      "id": "2Rm7DPohTCd6"
    },
    {
      "cell_type": "markdown",
      "id": "56ccab00",
      "metadata": {
        "id": "56ccab00"
      },
      "source": [
        "### 16.6.1 Sentence Embeddings"
      ]
    },
    {
      "cell_type": "markdown",
      "source": [
        "Sentence embeddings are the logical step that follows contextual embeddings. Besides, we sort of have used them already: remember the hidden state corresponding to the classifier token?\n",
        "\n",
        "The purpose of the classifier token was to offer a \"summary\" of sorts of all the tokens in a sequence, thus allowing the classifier \"head\" to focus on a single input - the hidden state associated with the classifier token itself.\n",
        "\n",
        "Guess what? We may use the very same hidden state as the overall sentence embedding."
      ],
      "metadata": {
        "id": "MNjzhvM5TIBm"
      },
      "id": "MNjzhvM5TIBm"
    },
    {
      "cell_type": "code",
      "execution_count": null,
      "id": "97aac750",
      "metadata": {
        "colab": {
          "base_uri": "https://localhost:8080/"
        },
        "id": "97aac750",
        "outputId": "36374916-bebc-4059-aee0-1d58cbcd9804"
      },
      "outputs": [
        {
          "data": {
            "text/plain": [
              "tensor([[-0.2649, -0.4512, -1.2975,  0.7224, -0.0888, -0.7343, -0.3766, -0.0643,\n",
              "          0.3939,  0.6378,  0.5645, -0.0503,  1.4437, -1.2197, -1.5841,  1.3188,\n",
              "          0.8534, -0.9925,  0.7877,  0.0731, -1.4056,  0.6505, -0.1062, -0.7274,\n",
              "         -0.1227,  2.4503, -1.8520, -0.1285, -1.4311, -0.4462,  0.8929,  1.0598,\n",
              "          0.3906, -0.5520,  1.0586,  1.4380, -0.4611,  1.6221, -0.6855,  1.9875,\n",
              "         -1.5243,  0.8238,  0.3206, -0.5692, -1.3963,  1.8590, -0.8841, -1.0449,\n",
              "          0.8445, -0.7141],\n",
              "        [-1.9259,  0.1091, -1.2457,  1.3248, -1.0880, -0.7220, -0.6054, -0.1259,\n",
              "         -1.0274,  1.5982,  0.7647,  0.0962,  0.6510,  0.1553, -0.7496,  0.6452,\n",
              "         -0.5879, -1.0634, -0.3218, -0.7500, -0.2992,  1.2060, -1.0453,  0.6467,\n",
              "          1.0017,  1.8005, -0.6342, -1.0862, -1.6887,  0.3719, -0.2944,  1.1814,\n",
              "          1.4689,  0.5045,  0.8382,  0.8718,  0.1059,  1.3380, -1.0117,  1.0391,\n",
              "         -0.4653, -0.0238, -0.6908, -0.5729, -2.3675,  2.6230, -0.1142,  0.7013,\n",
              "         -0.2336,  0.7865]], device='cuda:0', grad_fn=<SelectBackward0>)"
            ]
          },
          "execution_count": 44,
          "metadata": {},
          "output_type": "execute_result"
        }
      ],
      "source": [
        "sentence_embeddings = out['hidden_states'][:, 0]\n",
        "sentence_embeddings"
      ]
    },
    {
      "cell_type": "markdown",
      "source": [
        "Of course, our little model isn't quite the best choice for embedding full sentences. There are much better choices out there, like sentence_transformers, a popular Python package for embedding sentences."
      ],
      "metadata": {
        "id": "3XUrjTDyTMdA"
      },
      "id": "3XUrjTDyTMdA"
    },
    {
      "cell_type": "markdown",
      "id": "be832b28",
      "metadata": {
        "id": "be832b28"
      },
      "source": [
        "### 16.6.2 SentenceTransformers\n",
        "\n",
        "[SentenceTransformers](https://www.sbert.net/) \"_is a Python framework for state-of-the-art sentence, text and image embeddings_\" and it can be used to compute text embeddings in more than 100 languages. It is based on PyTorch and HuggingFace Transformers and it offers a large collection of [pretrained models](https://www.sbert.net/docs/pretrained_models.html).\n",
        "\n",
        "SentenceBERT, or sBERT for short, was the initial model developed to efficiently compute sentence embeddings. It is based on a siamese architecture, as if there were two identical BERT models side-by-side with identical (hence siamese) weights. If you want to learn more details about it, check its [documentation](https://www.sbert.net/docs/quickstart.html), and also the [\"Sentence Transformers: Meanings in Disguise\"](https://www.pinecone.io/learn/sentence-embeddings/) blog post."
      ]
    },
    {
      "cell_type": "markdown",
      "source": [
        "Let's try using some sentence embeddings to perform zero-shot text classification!"
      ],
      "metadata": {
        "id": "0h6FicH9Tzae"
      },
      "id": "0h6FicH9Tzae"
    },
    {
      "cell_type": "markdown",
      "id": "184e7407",
      "metadata": {
        "id": "184e7407"
      },
      "source": [
        "### 16.6.3 Zero-Shot Text Classification Revisited\n",
        "\n",
        "![](https://raw.githubusercontent.com/dvgodoy/assets/main/PyTorchInPractice/images/ch0/model_step5.png)"
      ]
    },
    {
      "cell_type": "markdown",
      "source": [
        "Last time, we tried zero-shot text classification by computing the cosine similarity between bags of word embeddings, for sentences and labels. We found out that it performed poorly, especially for the \"sports\" class. Perhaps we can do better if we use sentence embeddings instead?\n",
        "\n",
        "Let's load a pretrained SentenceTransformer model, the all-MiniLM-L6-v2, one of the most commonly used models for embedding sentences. Then, let's encode our label candidates:"
      ],
      "metadata": {
        "id": "sGYRCHSzT4Ef"
      },
      "id": "sGYRCHSzT4Ef"
    },
    {
      "cell_type": "code",
      "execution_count": null,
      "id": "2dfe6db8",
      "metadata": {
        "colab": {
          "base_uri": "https://localhost:8080/",
          "height": 482,
          "referenced_widgets": [
            "03ac0182f13b4e47afd212433cd2a6b8",
            "f68338016d2d445ab4d2d9313bba9cf2",
            "35914c4597834ddf8c04b53368457efe",
            "50d23e59d3bd447d83137834b15bbec4",
            "e9527fc61e9c4d24a13b0422b60158be",
            "c4f81e71fe254a91a684b3cae21384a0",
            "f5b90f489f954b4da415d1bd7de7d6b4",
            "4944c7a59ec448e68c2660a3b9a23236",
            "ed00cb6c11d5428082445d02b9775578",
            "cd633c2e351e4fa896a0a8b57a7ec127",
            "dd4f52b3d7fe4647a210b4471716026a",
            "27a76981c14543d3b7279e6b67bdbc58",
            "2fc1e75d4c434fa8a14bd05abf0a84bd",
            "65b0920b13b14f2b9a9ca92a0549741c",
            "15b726a447c9466da34dd90312fe1265",
            "1befcbb78809477aa1cffd627aeae79e",
            "10bb6da748e640368478b02a7f14d98d",
            "c484b2a8267c470d9112e2c64060473f",
            "0ef468aecc5f426190db7d52e2f6a962",
            "8151c4f984c34e16bc580ed718ad546d",
            "c0937dae19fe4a0abe7b376df55443ba",
            "8e10080977e04f41a8a9c82acec5ab9b",
            "f9928b34e27e408da7de7366cd72f701",
            "5beb35c9467d4c4ebfd09e48117f9600",
            "62115c8ceaab4779b110a72924a5238d",
            "08c5d2926c37477bbe7a61af74e83c6e",
            "2573a37de0904681b1044bdd36328aa6",
            "3386f92fac814677b3b56f4a9d17af0b",
            "697340a98ba643cbbcf24f110ac48b75",
            "bf0ca4d7968340a4a66e1217ec1170fa",
            "4665a7d8831e428cbc6a1ff9cfdb8143",
            "87dadfc4cd114666a4a99b1399132bab",
            "4e65e8180c014d9db45f4f2a764e9d61",
            "bed3962b7c8c4cc2b85b2c4971b13b0a",
            "01966cfede4342f392ee0db6786f52e8",
            "126aca4fb8364e79a82becaef00df277",
            "d7808867c37e41e689b41942ee4f80f5",
            "5b7bb9eb08994aeab6c788a3fbadb984",
            "fca35845d28d4665af742dd0e0c6e8ef",
            "29a0aaa8694e4dbb9bd394dfcbb02872",
            "3948d996095c48aba306d2b01a732d6d",
            "29afd03972d649aca39cb9a8f4246ea6",
            "6a2a138c36414c55bb00fab87f25c358",
            "b1d5e00f594f4450aa940fc59826ca2a",
            "bbd8bc3923a24791b816fd89103fc466",
            "26a1c30740174fd4b71531f22024a1ce",
            "58e0a891d72d407fa2396cda17a9e41f",
            "8b7bc7e9fe6642889416bb67198c1541",
            "c9f35d83061d47e0909051672b3ab392",
            "ac3c9cee4e71400289ad5dbcc44086e3",
            "b8dc127816f6491b900ca8158a79a15b",
            "f057a653737c4531a43c4d55164f0b08",
            "396d9e3bfbaf48c2addef7b2eef99f03",
            "f05498418fb247469a83e5c6c39206eb",
            "cf5ed93c89d2418592a84d02170958a6",
            "a956e5e96a4d4cfab31f50aab266bd06",
            "0fd84d59bc4640ce94298cd8e561924d",
            "e09905e2ce8146f2b154eed0a23db1ec",
            "9d06ee3b4e8e4180a94f57acf88a2b1c",
            "6ada8151e8db4a76b67844787a4ec5dc",
            "75c787505d374fe1b800879a5841ff9c",
            "85abd10021ad4adb973dc9255614046c",
            "a65d7596f12c446884958e19f175d76b",
            "4ce54970756141c69313adf0ea126b4b",
            "ca6830b94e494afdb62c03e10883c2ce",
            "7aa299f9796b4f04a6fb009ac3f16b83",
            "afb45ace5f0647f79a107e67a88c912c",
            "05496f35aa4247c6955ee794e6c0f431",
            "1c731b2746c548308b2005e11c47f6a3",
            "a7ef9ca4855c4c42acec599a3c1d007a",
            "a341f850282c49bab40176e317295d46",
            "55b1307246df4d978c453e0cfc62ebe1",
            "556bf3728b314f3b9f2b88458c9358da",
            "f9fd189f715c48c18d788b9d3484359c",
            "c353e067282d4a4dbb9877c441703898",
            "9f012e5bb04444979291be343e44242f",
            "f2fd1611f6144e258cd4957c8f6a424a",
            "792edc56b0104dd5919c364ece285bb1",
            "44a5bb853b9b4c9e8f646e7c2c2db580",
            "45bf34a2d3f540fcbbecb78e2a2e3b39",
            "9a750805f6d44b8184335107ccf681a6",
            "1cdc16242ca64b8288ebbe1809ae3901",
            "38f9a8b595ca425c97bcf08f2d645231",
            "a829ddb88c9f4ea6ab4efa55bd212b64",
            "870bce7c56784b36bd94f81ca346a506",
            "00e376bd4f2c4c0c84ee11c6c9c90193",
            "98e5968c75cf4177835539cbae0d0d9a",
            "10b0abf0f1514d8581ee31d799f9b3a9",
            "3f80e44ea47d4a229d3162b1b1a002e9",
            "98460034ef7b4de896756a55dd34a8de",
            "d5ab1a176cc44c2fb91efe6d463ebc8e",
            "a8f219822cd74446ac6a67b2b001338d",
            "eb1175d50e5947c18d1b17d133ea09b3",
            "cf99c9c09c4b46abb1cb01615559b80e",
            "f219e1bdf0504a078af32f3f361b71bf",
            "94e06efc14ac47b6995dc5c2364c4746",
            "124139020a15454698272f4034772ab5",
            "820fb9a6f62f4514b32cce68ba73a91a",
            "2004814a848c4fe8a2e10fe30a720db0",
            "fbc4c85520194bab876a36065c8932a7",
            "2d06da15c86c4e14bb237305d51195e0",
            "3128fe95a3fe40cb8dd558f50e1bf5fe",
            "52282d4e69194c62b0ee37320ec74329",
            "5f5d6f8133384a48a08e97965aaf6a95",
            "fc7f5281b11d4453a1538cf4471bc9af",
            "ef59bd27d8ba4366b6c94a3b73139969",
            "7d5be019e96e44ffab5690a426d058dc",
            "fcf8afcfe7f5444eb077e9a4ea28c143",
            "2e53125f025c49dbaa28857d318e2bf6",
            "f5b320867dad49e3af9371128e31980c",
            "c307b14262b1420793eeb78e70289007",
            "6a844dd1982f45b1a395609acec1194d",
            "00e62eb747bf448f833ff09dbc71525d",
            "972d204a1bb84901b9e9cba82d8fccea",
            "9bee58f150e34fa0a8dccd5b1e32c89f",
            "88fa57432bcd4bdea9ec26e1d728fcbd",
            "eda142eb822e414da96a6a511a4dca3e",
            "f322a9d436bb437599f7a6544045e5a3",
            "f27bbe0244a34bd1a789a85ceceddc8e",
            "fb6ee1e15e274d9c9d2f0abb2c0f6b97",
            "06bbb8f22854472eab972953fc04779f",
            "9080962e2ef447b2a365e5a2ea6782cd",
            "a30c2e6ecba1499ca668758139efc2b7",
            "36b1ca4a0d4c42139749d99345e8f91e",
            "4fd6cb0be8744b6881001092699c878d",
            "919ddb19870a4682adef22dd2f742ace",
            "f8014f54dedd419386ef3929a68bcb7f",
            "e7c9e4014ca740c8a279aa2e68f8f9dc",
            "3690894cce9a49949811f6fb345f6c5b",
            "40dbe4e6058a4cc9be1be3ef83d121a5",
            "263534084ccd421796f341af42c6c6f4",
            "4c346e779c954ba49e1acc36c1f0e82a",
            "448a2d15e3c344ff8a21146589eeb890",
            "87861103690f49dfb64378b29ac20e83",
            "865b29672d494e518f275f5d3bd331fe",
            "889c051bb17b4cc6a9752f0cbeb0393a",
            "723aa16a951b40788651c83e6e970ead",
            "a92caa28d1584ed681960467c8b4b8c1",
            "11b140566f6a4d16af2425be0d5a2d2f",
            "ef2518ecd7574d68ab5e5dca8837bf85",
            "0ad4d2820ae449c79681d2f3b31896d6",
            "35c621bda9614ab5a6f393518273ef2e",
            "a724e0c7a2ea4352b169464e8b53db19",
            "98f66ef12b284987aaf104f80a00de35",
            "5e2aaf268f594809a7b15c8d32f4a440",
            "c0d9f7a2c8484ba587ece26c034598b9",
            "f080cb1e2ced4a1c9a35a5dbac43bb93",
            "4ac559405ca546f48ec711e10c7e93bf",
            "f90cbb1f09f9426c8e9f23d6d09070d2",
            "43608d83a2654a12abb6d1860ae1112b",
            "e5cd83db0ede4fff9b4f5de0b0c51dc8",
            "b739f5c8a31f4484867531a3cd5be1a5",
            "71ba65fb30f14c8d90677ed6227e8f84",
            "ce532e63ae504e418d10058b11485962"
          ]
        },
        "id": "2dfe6db8",
        "outputId": "39de0c89-d205-4cdd-be45-583b1b9ab25c"
      },
      "outputs": [
        {
          "name": "stderr",
          "output_type": "stream",
          "text": [
            "/home/dvgodoy/anaconda3/envs/pyt20/lib/python3.9/site-packages/torch/_utils.py:776: UserWarning: TypedStorage is deprecated. It will be removed in the future and UntypedStorage will be the only storage class. This should only matter to you if you are using storages directly.  To access UntypedStorage directly, use tensor.untyped_storage() instead of tensor.storage()\n",
            "  return self.fget.__get__(instance, owner)()\n",
            "/home/dvgodoy/anaconda3/envs/pyt20/lib/python3.9/site-packages/transformers/tokenization_utils_base.py:1601: FutureWarning: `clean_up_tokenization_spaces` was not set. It will be set to `True` by default. This behavior will be depracted in transformers v4.45, and will be then set to `False` by default. For more details check this issue: https://github.com/huggingface/transformers/issues/31884\n",
            "  warnings.warn(\n"
          ]
        },
        {
          "data": {
            "text/plain": [
              "torch.Size([4, 384])"
            ]
          },
          "execution_count": 45,
          "metadata": {},
          "output_type": "execute_result"
        }
      ],
      "source": [
        "from sentence_transformers import SentenceTransformer, util\n",
        "\n",
        "model = SentenceTransformer('sentence-transformers/all-MiniLM-L6-v2')\n",
        "\n",
        "sentences = ['world', 'sports', 'business', 'science and technology']\n",
        "labels_emb = model.encode(sentences, convert_to_tensor=True)\n",
        "labels_emb.shape"
      ]
    },
    {
      "cell_type": "markdown",
      "source": [
        "Four labels, four embeddings. Each embedding has 384 dimensions (as opposed to 50 from our former GloVe vectors).\n",
        "\n",
        "Now that we have embeddings for the candidate labels, we can loop over our test set, encode the sentences in the mini-batches, and compare their embeddings using cosine similarity just like before:"
      ],
      "metadata": {
        "id": "1JBtrrwOUHZa"
      },
      "id": "1JBtrrwOUHZa"
    },
    {
      "cell_type": "code",
      "execution_count": null,
      "id": "9e40d29c",
      "metadata": {
        "id": "9e40d29c"
      },
      "outputs": [],
      "source": [
        "import evaluate\n",
        "\n",
        "metric1 = evaluate.load('precision', average=None)\n",
        "metric2 = evaluate.load('recall', average=None)\n",
        "metric3 = evaluate.load('accuracy')"
      ]
    },
    {
      "cell_type": "code",
      "execution_count": null,
      "id": "f3e3aa95",
      "metadata": {
        "id": "f3e3aa95"
      },
      "outputs": [],
      "source": [
        "cos = nn.CosineSimilarity(dim=-1)\n",
        "\n",
        "for i, batch in enumerate(dataloaders['test']):\n",
        "    labels, sentences = batch['topic'], batch['news']\n",
        "\n",
        "    embeddings = model.encode(sentences, convert_to_tensor=True)\n",
        "\n",
        "    distances = cos(embeddings.unsqueeze(1), labels_emb)\n",
        "\n",
        "    pred_class = distances.argmax(dim=1)\n",
        "\n",
        "    metric1.add_batch(references=labels, predictions=pred_class)\n",
        "    metric2.add_batch(references=labels, predictions=pred_class)\n",
        "    metric3.add_batch(references=labels, predictions=pred_class)"
      ]
    },
    {
      "cell_type": "code",
      "execution_count": null,
      "id": "4f3f192f",
      "metadata": {
        "colab": {
          "base_uri": "https://localhost:8080/"
        },
        "id": "4f3f192f",
        "outputId": "2edee395-34e9-4d81-c8b1-2ed01a6bc641"
      },
      "outputs": [
        {
          "data": {
            "text/plain": [
              "({'precision': array([0.6580743 , 0.75671982, 0.55060571, 0.57694826])},\n",
              " {'recall': array([0.45684211, 0.87421053, 0.74157895, 0.46368421])},\n",
              " {'accuracy': 0.6340789473684211})"
            ]
          },
          "execution_count": 48,
          "metadata": {},
          "output_type": "execute_result"
        }
      ],
      "source": [
        "metric1.compute(average=None), metric2.compute(average=None), metric3.compute()"
      ]
    },
    {
      "cell_type": "markdown",
      "source": [
        "Much better than last time, right?"
      ],
      "metadata": {
        "id": "GI1938oQULh8"
      },
      "id": "GI1938oQULh8"
    }
  ],
  "metadata": {
    "accelerator": "GPU",
    "colab": {
      "gpuType": "T4",
      "provenance": []
    },
    "kernelspec": {
      "display_name": "Python 3 (ipykernel)",
      "language": "python",
      "name": "python3"
    },
    "language_info": {
      "codemirror_mode": {
        "name": "ipython",
        "version": 3
      },
      "file_extension": ".py",
      "mimetype": "text/x-python",
      "name": "python",
      "nbconvert_exporter": "python",
      "pygments_lexer": "ipython3",
      "version": "3.9.0"
    },
    "widgets": {
      "application/vnd.jupyter.widget-state+json": {
        "00e376bd4f2c4c0c84ee11c6c9c90193": {
          "model_module": "@jupyter-widgets/controls",
          "model_module_version": "1.5.0",
          "model_name": "ProgressStyleModel",
          "state": {
            "_model_module": "@jupyter-widgets/controls",
            "_model_module_version": "1.5.0",
            "_model_name": "ProgressStyleModel",
            "_view_count": null,
            "_view_module": "@jupyter-widgets/base",
            "_view_module_version": "1.2.0",
            "_view_name": "StyleView",
            "bar_color": null,
            "description_width": ""
          }
        },
        "00e62eb747bf448f833ff09dbc71525d": {
          "model_module": "@jupyter-widgets/controls",
          "model_module_version": "1.5.0",
          "model_name": "FloatProgressModel",
          "state": {
            "_dom_classes": [],
            "_model_module": "@jupyter-widgets/controls",
            "_model_module_version": "1.5.0",
            "_model_name": "FloatProgressModel",
            "_view_count": null,
            "_view_module": "@jupyter-widgets/controls",
            "_view_module_version": "1.5.0",
            "_view_name": "ProgressView",
            "bar_style": "success",
            "description": "",
            "description_tooltip": null,
            "layout": "IPY_MODEL_f322a9d436bb437599f7a6544045e5a3",
            "max": 350,
            "min": 0,
            "orientation": "horizontal",
            "style": "IPY_MODEL_f27bbe0244a34bd1a789a85ceceddc8e",
            "value": 350
          }
        },
        "01966cfede4342f392ee0db6786f52e8": {
          "model_module": "@jupyter-widgets/controls",
          "model_module_version": "1.5.0",
          "model_name": "HTMLModel",
          "state": {
            "_dom_classes": [],
            "_model_module": "@jupyter-widgets/controls",
            "_model_module_version": "1.5.0",
            "_model_name": "HTMLModel",
            "_view_count": null,
            "_view_module": "@jupyter-widgets/controls",
            "_view_module_version": "1.5.0",
            "_view_name": "HTMLView",
            "description": "",
            "description_tooltip": null,
            "layout": "IPY_MODEL_fca35845d28d4665af742dd0e0c6e8ef",
            "placeholder": "​",
            "style": "IPY_MODEL_29a0aaa8694e4dbb9bd394dfcbb02872",
            "value": "Downloading (…)55de9125/config.json: 100%"
          }
        },
        "03ac0182f13b4e47afd212433cd2a6b8": {
          "model_module": "@jupyter-widgets/controls",
          "model_module_version": "1.5.0",
          "model_name": "HBoxModel",
          "state": {
            "_dom_classes": [],
            "_model_module": "@jupyter-widgets/controls",
            "_model_module_version": "1.5.0",
            "_model_name": "HBoxModel",
            "_view_count": null,
            "_view_module": "@jupyter-widgets/controls",
            "_view_module_version": "1.5.0",
            "_view_name": "HBoxView",
            "box_style": "",
            "children": [
              "IPY_MODEL_f68338016d2d445ab4d2d9313bba9cf2",
              "IPY_MODEL_35914c4597834ddf8c04b53368457efe",
              "IPY_MODEL_50d23e59d3bd447d83137834b15bbec4"
            ],
            "layout": "IPY_MODEL_e9527fc61e9c4d24a13b0422b60158be"
          }
        },
        "05496f35aa4247c6955ee794e6c0f431": {
          "model_module": "@jupyter-widgets/controls",
          "model_module_version": "1.5.0",
          "model_name": "HTMLModel",
          "state": {
            "_dom_classes": [],
            "_model_module": "@jupyter-widgets/controls",
            "_model_module_version": "1.5.0",
            "_model_name": "HTMLModel",
            "_view_count": null,
            "_view_module": "@jupyter-widgets/controls",
            "_view_module_version": "1.5.0",
            "_view_name": "HTMLView",
            "description": "",
            "description_tooltip": null,
            "layout": "IPY_MODEL_55b1307246df4d978c453e0cfc62ebe1",
            "placeholder": "​",
            "style": "IPY_MODEL_556bf3728b314f3b9f2b88458c9358da",
            "value": "Downloading pytorch_model.bin: 100%"
          }
        },
        "06bbb8f22854472eab972953fc04779f": {
          "model_module": "@jupyter-widgets/controls",
          "model_module_version": "1.5.0",
          "model_name": "DescriptionStyleModel",
          "state": {
            "_model_module": "@jupyter-widgets/controls",
            "_model_module_version": "1.5.0",
            "_model_name": "DescriptionStyleModel",
            "_view_count": null,
            "_view_module": "@jupyter-widgets/base",
            "_view_module_version": "1.2.0",
            "_view_name": "StyleView",
            "description_width": ""
          }
        },
        "08c5d2926c37477bbe7a61af74e83c6e": {
          "model_module": "@jupyter-widgets/controls",
          "model_module_version": "1.5.0",
          "model_name": "HTMLModel",
          "state": {
            "_dom_classes": [],
            "_model_module": "@jupyter-widgets/controls",
            "_model_module_version": "1.5.0",
            "_model_name": "HTMLModel",
            "_view_count": null,
            "_view_module": "@jupyter-widgets/controls",
            "_view_module_version": "1.5.0",
            "_view_name": "HTMLView",
            "description": "",
            "description_tooltip": null,
            "layout": "IPY_MODEL_87dadfc4cd114666a4a99b1399132bab",
            "placeholder": "​",
            "style": "IPY_MODEL_4e65e8180c014d9db45f4f2a764e9d61",
            "value": " 10.6k/10.6k [00:00&lt;00:00, 621kB/s]"
          }
        },
        "0ad4d2820ae449c79681d2f3b31896d6": {
          "model_module": "@jupyter-widgets/controls",
          "model_module_version": "1.5.0",
          "model_name": "ProgressStyleModel",
          "state": {
            "_model_module": "@jupyter-widgets/controls",
            "_model_module_version": "1.5.0",
            "_model_name": "ProgressStyleModel",
            "_view_count": null,
            "_view_module": "@jupyter-widgets/base",
            "_view_module_version": "1.2.0",
            "_view_name": "StyleView",
            "bar_color": null,
            "description_width": ""
          }
        },
        "0ef468aecc5f426190db7d52e2f6a962": {
          "model_module": "@jupyter-widgets/base",
          "model_module_version": "1.2.0",
          "model_name": "LayoutModel",
          "state": {
            "_model_module": "@jupyter-widgets/base",
            "_model_module_version": "1.2.0",
            "_model_name": "LayoutModel",
            "_view_count": null,
            "_view_module": "@jupyter-widgets/base",
            "_view_module_version": "1.2.0",
            "_view_name": "LayoutView",
            "align_content": null,
            "align_items": null,
            "align_self": null,
            "border": null,
            "bottom": null,
            "display": null,
            "flex": null,
            "flex_flow": null,
            "grid_area": null,
            "grid_auto_columns": null,
            "grid_auto_flow": null,
            "grid_auto_rows": null,
            "grid_column": null,
            "grid_gap": null,
            "grid_row": null,
            "grid_template_areas": null,
            "grid_template_columns": null,
            "grid_template_rows": null,
            "height": null,
            "justify_content": null,
            "justify_items": null,
            "left": null,
            "margin": null,
            "max_height": null,
            "max_width": null,
            "min_height": null,
            "min_width": null,
            "object_fit": null,
            "object_position": null,
            "order": null,
            "overflow": null,
            "overflow_x": null,
            "overflow_y": null,
            "padding": null,
            "right": null,
            "top": null,
            "visibility": null,
            "width": null
          }
        },
        "0fd84d59bc4640ce94298cd8e561924d": {
          "model_module": "@jupyter-widgets/controls",
          "model_module_version": "1.5.0",
          "model_name": "HTMLModel",
          "state": {
            "_dom_classes": [],
            "_model_module": "@jupyter-widgets/controls",
            "_model_module_version": "1.5.0",
            "_model_name": "HTMLModel",
            "_view_count": null,
            "_view_module": "@jupyter-widgets/controls",
            "_view_module_version": "1.5.0",
            "_view_name": "HTMLView",
            "description": "",
            "description_tooltip": null,
            "layout": "IPY_MODEL_75c787505d374fe1b800879a5841ff9c",
            "placeholder": "​",
            "style": "IPY_MODEL_85abd10021ad4adb973dc9255614046c",
            "value": "Downloading (…)125/data_config.json: 100%"
          }
        },
        "10b0abf0f1514d8581ee31d799f9b3a9": {
          "model_module": "@jupyter-widgets/controls",
          "model_module_version": "1.5.0",
          "model_name": "DescriptionStyleModel",
          "state": {
            "_model_module": "@jupyter-widgets/controls",
            "_model_module_version": "1.5.0",
            "_model_name": "DescriptionStyleModel",
            "_view_count": null,
            "_view_module": "@jupyter-widgets/base",
            "_view_module_version": "1.2.0",
            "_view_name": "StyleView",
            "description_width": ""
          }
        },
        "10bb6da748e640368478b02a7f14d98d": {
          "model_module": "@jupyter-widgets/base",
          "model_module_version": "1.2.0",
          "model_name": "LayoutModel",
          "state": {
            "_model_module": "@jupyter-widgets/base",
            "_model_module_version": "1.2.0",
            "_model_name": "LayoutModel",
            "_view_count": null,
            "_view_module": "@jupyter-widgets/base",
            "_view_module_version": "1.2.0",
            "_view_name": "LayoutView",
            "align_content": null,
            "align_items": null,
            "align_self": null,
            "border": null,
            "bottom": null,
            "display": null,
            "flex": null,
            "flex_flow": null,
            "grid_area": null,
            "grid_auto_columns": null,
            "grid_auto_flow": null,
            "grid_auto_rows": null,
            "grid_column": null,
            "grid_gap": null,
            "grid_row": null,
            "grid_template_areas": null,
            "grid_template_columns": null,
            "grid_template_rows": null,
            "height": null,
            "justify_content": null,
            "justify_items": null,
            "left": null,
            "margin": null,
            "max_height": null,
            "max_width": null,
            "min_height": null,
            "min_width": null,
            "object_fit": null,
            "object_position": null,
            "order": null,
            "overflow": null,
            "overflow_x": null,
            "overflow_y": null,
            "padding": null,
            "right": null,
            "top": null,
            "visibility": null,
            "width": null
          }
        },
        "11b140566f6a4d16af2425be0d5a2d2f": {
          "model_module": "@jupyter-widgets/controls",
          "model_module_version": "1.5.0",
          "model_name": "DescriptionStyleModel",
          "state": {
            "_model_module": "@jupyter-widgets/controls",
            "_model_module_version": "1.5.0",
            "_model_name": "DescriptionStyleModel",
            "_view_count": null,
            "_view_module": "@jupyter-widgets/base",
            "_view_module_version": "1.2.0",
            "_view_name": "StyleView",
            "description_width": ""
          }
        },
        "124139020a15454698272f4034772ab5": {
          "model_module": "@jupyter-widgets/controls",
          "model_module_version": "1.5.0",
          "model_name": "ProgressStyleModel",
          "state": {
            "_model_module": "@jupyter-widgets/controls",
            "_model_module_version": "1.5.0",
            "_model_name": "ProgressStyleModel",
            "_view_count": null,
            "_view_module": "@jupyter-widgets/base",
            "_view_module_version": "1.2.0",
            "_view_name": "StyleView",
            "bar_color": null,
            "description_width": ""
          }
        },
        "126aca4fb8364e79a82becaef00df277": {
          "model_module": "@jupyter-widgets/controls",
          "model_module_version": "1.5.0",
          "model_name": "FloatProgressModel",
          "state": {
            "_dom_classes": [],
            "_model_module": "@jupyter-widgets/controls",
            "_model_module_version": "1.5.0",
            "_model_name": "FloatProgressModel",
            "_view_count": null,
            "_view_module": "@jupyter-widgets/controls",
            "_view_module_version": "1.5.0",
            "_view_name": "ProgressView",
            "bar_style": "success",
            "description": "",
            "description_tooltip": null,
            "layout": "IPY_MODEL_3948d996095c48aba306d2b01a732d6d",
            "max": 612,
            "min": 0,
            "orientation": "horizontal",
            "style": "IPY_MODEL_29afd03972d649aca39cb9a8f4246ea6",
            "value": 612
          }
        },
        "15b726a447c9466da34dd90312fe1265": {
          "model_module": "@jupyter-widgets/controls",
          "model_module_version": "1.5.0",
          "model_name": "HTMLModel",
          "state": {
            "_dom_classes": [],
            "_model_module": "@jupyter-widgets/controls",
            "_model_module_version": "1.5.0",
            "_model_name": "HTMLModel",
            "_view_count": null,
            "_view_module": "@jupyter-widgets/controls",
            "_view_module_version": "1.5.0",
            "_view_name": "HTMLView",
            "description": "",
            "description_tooltip": null,
            "layout": "IPY_MODEL_c0937dae19fe4a0abe7b376df55443ba",
            "placeholder": "​",
            "style": "IPY_MODEL_8e10080977e04f41a8a9c82acec5ab9b",
            "value": " 190/190 [00:00&lt;00:00, 2.76kB/s]"
          }
        },
        "1befcbb78809477aa1cffd627aeae79e": {
          "model_module": "@jupyter-widgets/base",
          "model_module_version": "1.2.0",
          "model_name": "LayoutModel",
          "state": {
            "_model_module": "@jupyter-widgets/base",
            "_model_module_version": "1.2.0",
            "_model_name": "LayoutModel",
            "_view_count": null,
            "_view_module": "@jupyter-widgets/base",
            "_view_module_version": "1.2.0",
            "_view_name": "LayoutView",
            "align_content": null,
            "align_items": null,
            "align_self": null,
            "border": null,
            "bottom": null,
            "display": null,
            "flex": null,
            "flex_flow": null,
            "grid_area": null,
            "grid_auto_columns": null,
            "grid_auto_flow": null,
            "grid_auto_rows": null,
            "grid_column": null,
            "grid_gap": null,
            "grid_row": null,
            "grid_template_areas": null,
            "grid_template_columns": null,
            "grid_template_rows": null,
            "height": null,
            "justify_content": null,
            "justify_items": null,
            "left": null,
            "margin": null,
            "max_height": null,
            "max_width": null,
            "min_height": null,
            "min_width": null,
            "object_fit": null,
            "object_position": null,
            "order": null,
            "overflow": null,
            "overflow_x": null,
            "overflow_y": null,
            "padding": null,
            "right": null,
            "top": null,
            "visibility": null,
            "width": null
          }
        },
        "1c731b2746c548308b2005e11c47f6a3": {
          "model_module": "@jupyter-widgets/controls",
          "model_module_version": "1.5.0",
          "model_name": "FloatProgressModel",
          "state": {
            "_dom_classes": [],
            "_model_module": "@jupyter-widgets/controls",
            "_model_module_version": "1.5.0",
            "_model_name": "FloatProgressModel",
            "_view_count": null,
            "_view_module": "@jupyter-widgets/controls",
            "_view_module_version": "1.5.0",
            "_view_name": "ProgressView",
            "bar_style": "success",
            "description": "",
            "description_tooltip": null,
            "layout": "IPY_MODEL_f9fd189f715c48c18d788b9d3484359c",
            "max": 90888945,
            "min": 0,
            "orientation": "horizontal",
            "style": "IPY_MODEL_c353e067282d4a4dbb9877c441703898",
            "value": 90888945
          }
        },
        "1cdc16242ca64b8288ebbe1809ae3901": {
          "model_module": "@jupyter-widgets/base",
          "model_module_version": "1.2.0",
          "model_name": "LayoutModel",
          "state": {
            "_model_module": "@jupyter-widgets/base",
            "_model_module_version": "1.2.0",
            "_model_name": "LayoutModel",
            "_view_count": null,
            "_view_module": "@jupyter-widgets/base",
            "_view_module_version": "1.2.0",
            "_view_name": "LayoutView",
            "align_content": null,
            "align_items": null,
            "align_self": null,
            "border": null,
            "bottom": null,
            "display": null,
            "flex": null,
            "flex_flow": null,
            "grid_area": null,
            "grid_auto_columns": null,
            "grid_auto_flow": null,
            "grid_auto_rows": null,
            "grid_column": null,
            "grid_gap": null,
            "grid_row": null,
            "grid_template_areas": null,
            "grid_template_columns": null,
            "grid_template_rows": null,
            "height": null,
            "justify_content": null,
            "justify_items": null,
            "left": null,
            "margin": null,
            "max_height": null,
            "max_width": null,
            "min_height": null,
            "min_width": null,
            "object_fit": null,
            "object_position": null,
            "order": null,
            "overflow": null,
            "overflow_x": null,
            "overflow_y": null,
            "padding": null,
            "right": null,
            "top": null,
            "visibility": null,
            "width": null
          }
        },
        "2004814a848c4fe8a2e10fe30a720db0": {
          "model_module": "@jupyter-widgets/controls",
          "model_module_version": "1.5.0",
          "model_name": "DescriptionStyleModel",
          "state": {
            "_model_module": "@jupyter-widgets/controls",
            "_model_module_version": "1.5.0",
            "_model_name": "DescriptionStyleModel",
            "_view_count": null,
            "_view_module": "@jupyter-widgets/base",
            "_view_module_version": "1.2.0",
            "_view_name": "StyleView",
            "description_width": ""
          }
        },
        "2573a37de0904681b1044bdd36328aa6": {
          "model_module": "@jupyter-widgets/base",
          "model_module_version": "1.2.0",
          "model_name": "LayoutModel",
          "state": {
            "_model_module": "@jupyter-widgets/base",
            "_model_module_version": "1.2.0",
            "_model_name": "LayoutModel",
            "_view_count": null,
            "_view_module": "@jupyter-widgets/base",
            "_view_module_version": "1.2.0",
            "_view_name": "LayoutView",
            "align_content": null,
            "align_items": null,
            "align_self": null,
            "border": null,
            "bottom": null,
            "display": null,
            "flex": null,
            "flex_flow": null,
            "grid_area": null,
            "grid_auto_columns": null,
            "grid_auto_flow": null,
            "grid_auto_rows": null,
            "grid_column": null,
            "grid_gap": null,
            "grid_row": null,
            "grid_template_areas": null,
            "grid_template_columns": null,
            "grid_template_rows": null,
            "height": null,
            "justify_content": null,
            "justify_items": null,
            "left": null,
            "margin": null,
            "max_height": null,
            "max_width": null,
            "min_height": null,
            "min_width": null,
            "object_fit": null,
            "object_position": null,
            "order": null,
            "overflow": null,
            "overflow_x": null,
            "overflow_y": null,
            "padding": null,
            "right": null,
            "top": null,
            "visibility": null,
            "width": null
          }
        },
        "263534084ccd421796f341af42c6c6f4": {
          "model_module": "@jupyter-widgets/base",
          "model_module_version": "1.2.0",
          "model_name": "LayoutModel",
          "state": {
            "_model_module": "@jupyter-widgets/base",
            "_model_module_version": "1.2.0",
            "_model_name": "LayoutModel",
            "_view_count": null,
            "_view_module": "@jupyter-widgets/base",
            "_view_module_version": "1.2.0",
            "_view_name": "LayoutView",
            "align_content": null,
            "align_items": null,
            "align_self": null,
            "border": null,
            "bottom": null,
            "display": null,
            "flex": null,
            "flex_flow": null,
            "grid_area": null,
            "grid_auto_columns": null,
            "grid_auto_flow": null,
            "grid_auto_rows": null,
            "grid_column": null,
            "grid_gap": null,
            "grid_row": null,
            "grid_template_areas": null,
            "grid_template_columns": null,
            "grid_template_rows": null,
            "height": null,
            "justify_content": null,
            "justify_items": null,
            "left": null,
            "margin": null,
            "max_height": null,
            "max_width": null,
            "min_height": null,
            "min_width": null,
            "object_fit": null,
            "object_position": null,
            "order": null,
            "overflow": null,
            "overflow_x": null,
            "overflow_y": null,
            "padding": null,
            "right": null,
            "top": null,
            "visibility": null,
            "width": null
          }
        },
        "26a1c30740174fd4b71531f22024a1ce": {
          "model_module": "@jupyter-widgets/controls",
          "model_module_version": "1.5.0",
          "model_name": "HTMLModel",
          "state": {
            "_dom_classes": [],
            "_model_module": "@jupyter-widgets/controls",
            "_model_module_version": "1.5.0",
            "_model_name": "HTMLModel",
            "_view_count": null,
            "_view_module": "@jupyter-widgets/controls",
            "_view_module_version": "1.5.0",
            "_view_name": "HTMLView",
            "description": "",
            "description_tooltip": null,
            "layout": "IPY_MODEL_ac3c9cee4e71400289ad5dbcc44086e3",
            "placeholder": "​",
            "style": "IPY_MODEL_b8dc127816f6491b900ca8158a79a15b",
            "value": "Downloading (…)ce_transformers.json: 100%"
          }
        },
        "27a76981c14543d3b7279e6b67bdbc58": {
          "model_module": "@jupyter-widgets/controls",
          "model_module_version": "1.5.0",
          "model_name": "HBoxModel",
          "state": {
            "_dom_classes": [],
            "_model_module": "@jupyter-widgets/controls",
            "_model_module_version": "1.5.0",
            "_model_name": "HBoxModel",
            "_view_count": null,
            "_view_module": "@jupyter-widgets/controls",
            "_view_module_version": "1.5.0",
            "_view_name": "HBoxView",
            "box_style": "",
            "children": [
              "IPY_MODEL_2fc1e75d4c434fa8a14bd05abf0a84bd",
              "IPY_MODEL_65b0920b13b14f2b9a9ca92a0549741c",
              "IPY_MODEL_15b726a447c9466da34dd90312fe1265"
            ],
            "layout": "IPY_MODEL_1befcbb78809477aa1cffd627aeae79e"
          }
        },
        "29a0aaa8694e4dbb9bd394dfcbb02872": {
          "model_module": "@jupyter-widgets/controls",
          "model_module_version": "1.5.0",
          "model_name": "DescriptionStyleModel",
          "state": {
            "_model_module": "@jupyter-widgets/controls",
            "_model_module_version": "1.5.0",
            "_model_name": "DescriptionStyleModel",
            "_view_count": null,
            "_view_module": "@jupyter-widgets/base",
            "_view_module_version": "1.2.0",
            "_view_name": "StyleView",
            "description_width": ""
          }
        },
        "29afd03972d649aca39cb9a8f4246ea6": {
          "model_module": "@jupyter-widgets/controls",
          "model_module_version": "1.5.0",
          "model_name": "ProgressStyleModel",
          "state": {
            "_model_module": "@jupyter-widgets/controls",
            "_model_module_version": "1.5.0",
            "_model_name": "ProgressStyleModel",
            "_view_count": null,
            "_view_module": "@jupyter-widgets/base",
            "_view_module_version": "1.2.0",
            "_view_name": "StyleView",
            "bar_color": null,
            "description_width": ""
          }
        },
        "2d06da15c86c4e14bb237305d51195e0": {
          "model_module": "@jupyter-widgets/controls",
          "model_module_version": "1.5.0",
          "model_name": "HTMLModel",
          "state": {
            "_dom_classes": [],
            "_model_module": "@jupyter-widgets/controls",
            "_model_module_version": "1.5.0",
            "_model_name": "HTMLModel",
            "_view_count": null,
            "_view_module": "@jupyter-widgets/controls",
            "_view_module_version": "1.5.0",
            "_view_name": "HTMLView",
            "description": "",
            "description_tooltip": null,
            "layout": "IPY_MODEL_fc7f5281b11d4453a1538cf4471bc9af",
            "placeholder": "​",
            "style": "IPY_MODEL_ef59bd27d8ba4366b6c94a3b73139969",
            "value": "Downloading (…)e9125/tokenizer.json: 100%"
          }
        },
        "2e53125f025c49dbaa28857d318e2bf6": {
          "model_module": "@jupyter-widgets/base",
          "model_module_version": "1.2.0",
          "model_name": "LayoutModel",
          "state": {
            "_model_module": "@jupyter-widgets/base",
            "_model_module_version": "1.2.0",
            "_model_name": "LayoutModel",
            "_view_count": null,
            "_view_module": "@jupyter-widgets/base",
            "_view_module_version": "1.2.0",
            "_view_name": "LayoutView",
            "align_content": null,
            "align_items": null,
            "align_self": null,
            "border": null,
            "bottom": null,
            "display": null,
            "flex": null,
            "flex_flow": null,
            "grid_area": null,
            "grid_auto_columns": null,
            "grid_auto_flow": null,
            "grid_auto_rows": null,
            "grid_column": null,
            "grid_gap": null,
            "grid_row": null,
            "grid_template_areas": null,
            "grid_template_columns": null,
            "grid_template_rows": null,
            "height": null,
            "justify_content": null,
            "justify_items": null,
            "left": null,
            "margin": null,
            "max_height": null,
            "max_width": null,
            "min_height": null,
            "min_width": null,
            "object_fit": null,
            "object_position": null,
            "order": null,
            "overflow": null,
            "overflow_x": null,
            "overflow_y": null,
            "padding": null,
            "right": null,
            "top": null,
            "visibility": null,
            "width": null
          }
        },
        "2fc1e75d4c434fa8a14bd05abf0a84bd": {
          "model_module": "@jupyter-widgets/controls",
          "model_module_version": "1.5.0",
          "model_name": "HTMLModel",
          "state": {
            "_dom_classes": [],
            "_model_module": "@jupyter-widgets/controls",
            "_model_module_version": "1.5.0",
            "_model_name": "HTMLModel",
            "_view_count": null,
            "_view_module": "@jupyter-widgets/controls",
            "_view_module_version": "1.5.0",
            "_view_name": "HTMLView",
            "description": "",
            "description_tooltip": null,
            "layout": "IPY_MODEL_10bb6da748e640368478b02a7f14d98d",
            "placeholder": "​",
            "style": "IPY_MODEL_c484b2a8267c470d9112e2c64060473f",
            "value": "Downloading (…)_Pooling/config.json: 100%"
          }
        },
        "3128fe95a3fe40cb8dd558f50e1bf5fe": {
          "model_module": "@jupyter-widgets/controls",
          "model_module_version": "1.5.0",
          "model_name": "FloatProgressModel",
          "state": {
            "_dom_classes": [],
            "_model_module": "@jupyter-widgets/controls",
            "_model_module_version": "1.5.0",
            "_model_name": "FloatProgressModel",
            "_view_count": null,
            "_view_module": "@jupyter-widgets/controls",
            "_view_module_version": "1.5.0",
            "_view_name": "ProgressView",
            "bar_style": "success",
            "description": "",
            "description_tooltip": null,
            "layout": "IPY_MODEL_7d5be019e96e44ffab5690a426d058dc",
            "max": 466247,
            "min": 0,
            "orientation": "horizontal",
            "style": "IPY_MODEL_fcf8afcfe7f5444eb077e9a4ea28c143",
            "value": 466247
          }
        },
        "3386f92fac814677b3b56f4a9d17af0b": {
          "model_module": "@jupyter-widgets/base",
          "model_module_version": "1.2.0",
          "model_name": "LayoutModel",
          "state": {
            "_model_module": "@jupyter-widgets/base",
            "_model_module_version": "1.2.0",
            "_model_name": "LayoutModel",
            "_view_count": null,
            "_view_module": "@jupyter-widgets/base",
            "_view_module_version": "1.2.0",
            "_view_name": "LayoutView",
            "align_content": null,
            "align_items": null,
            "align_self": null,
            "border": null,
            "bottom": null,
            "display": null,
            "flex": null,
            "flex_flow": null,
            "grid_area": null,
            "grid_auto_columns": null,
            "grid_auto_flow": null,
            "grid_auto_rows": null,
            "grid_column": null,
            "grid_gap": null,
            "grid_row": null,
            "grid_template_areas": null,
            "grid_template_columns": null,
            "grid_template_rows": null,
            "height": null,
            "justify_content": null,
            "justify_items": null,
            "left": null,
            "margin": null,
            "max_height": null,
            "max_width": null,
            "min_height": null,
            "min_width": null,
            "object_fit": null,
            "object_position": null,
            "order": null,
            "overflow": null,
            "overflow_x": null,
            "overflow_y": null,
            "padding": null,
            "right": null,
            "top": null,
            "visibility": null,
            "width": null
          }
        },
        "35914c4597834ddf8c04b53368457efe": {
          "model_module": "@jupyter-widgets/controls",
          "model_module_version": "1.5.0",
          "model_name": "FloatProgressModel",
          "state": {
            "_dom_classes": [],
            "_model_module": "@jupyter-widgets/controls",
            "_model_module_version": "1.5.0",
            "_model_name": "FloatProgressModel",
            "_view_count": null,
            "_view_module": "@jupyter-widgets/controls",
            "_view_module_version": "1.5.0",
            "_view_name": "ProgressView",
            "bar_style": "success",
            "description": "",
            "description_tooltip": null,
            "layout": "IPY_MODEL_4944c7a59ec448e68c2660a3b9a23236",
            "max": 1175,
            "min": 0,
            "orientation": "horizontal",
            "style": "IPY_MODEL_ed00cb6c11d5428082445d02b9775578",
            "value": 1175
          }
        },
        "35c621bda9614ab5a6f393518273ef2e": {
          "model_module": "@jupyter-widgets/base",
          "model_module_version": "1.2.0",
          "model_name": "LayoutModel",
          "state": {
            "_model_module": "@jupyter-widgets/base",
            "_model_module_version": "1.2.0",
            "_model_name": "LayoutModel",
            "_view_count": null,
            "_view_module": "@jupyter-widgets/base",
            "_view_module_version": "1.2.0",
            "_view_name": "LayoutView",
            "align_content": null,
            "align_items": null,
            "align_self": null,
            "border": null,
            "bottom": null,
            "display": null,
            "flex": null,
            "flex_flow": null,
            "grid_area": null,
            "grid_auto_columns": null,
            "grid_auto_flow": null,
            "grid_auto_rows": null,
            "grid_column": null,
            "grid_gap": null,
            "grid_row": null,
            "grid_template_areas": null,
            "grid_template_columns": null,
            "grid_template_rows": null,
            "height": null,
            "justify_content": null,
            "justify_items": null,
            "left": null,
            "margin": null,
            "max_height": null,
            "max_width": null,
            "min_height": null,
            "min_width": null,
            "object_fit": null,
            "object_position": null,
            "order": null,
            "overflow": null,
            "overflow_x": null,
            "overflow_y": null,
            "padding": null,
            "right": null,
            "top": null,
            "visibility": null,
            "width": null
          }
        },
        "3690894cce9a49949811f6fb345f6c5b": {
          "model_module": "@jupyter-widgets/base",
          "model_module_version": "1.2.0",
          "model_name": "LayoutModel",
          "state": {
            "_model_module": "@jupyter-widgets/base",
            "_model_module_version": "1.2.0",
            "_model_name": "LayoutModel",
            "_view_count": null,
            "_view_module": "@jupyter-widgets/base",
            "_view_module_version": "1.2.0",
            "_view_name": "LayoutView",
            "align_content": null,
            "align_items": null,
            "align_self": null,
            "border": null,
            "bottom": null,
            "display": null,
            "flex": null,
            "flex_flow": null,
            "grid_area": null,
            "grid_auto_columns": null,
            "grid_auto_flow": null,
            "grid_auto_rows": null,
            "grid_column": null,
            "grid_gap": null,
            "grid_row": null,
            "grid_template_areas": null,
            "grid_template_columns": null,
            "grid_template_rows": null,
            "height": null,
            "justify_content": null,
            "justify_items": null,
            "left": null,
            "margin": null,
            "max_height": null,
            "max_width": null,
            "min_height": null,
            "min_width": null,
            "object_fit": null,
            "object_position": null,
            "order": null,
            "overflow": null,
            "overflow_x": null,
            "overflow_y": null,
            "padding": null,
            "right": null,
            "top": null,
            "visibility": null,
            "width": null
          }
        },
        "36b1ca4a0d4c42139749d99345e8f91e": {
          "model_module": "@jupyter-widgets/controls",
          "model_module_version": "1.5.0",
          "model_name": "FloatProgressModel",
          "state": {
            "_dom_classes": [],
            "_model_module": "@jupyter-widgets/controls",
            "_model_module_version": "1.5.0",
            "_model_name": "FloatProgressModel",
            "_view_count": null,
            "_view_module": "@jupyter-widgets/controls",
            "_view_module_version": "1.5.0",
            "_view_name": "ProgressView",
            "bar_style": "success",
            "description": "",
            "description_tooltip": null,
            "layout": "IPY_MODEL_3690894cce9a49949811f6fb345f6c5b",
            "max": 13156,
            "min": 0,
            "orientation": "horizontal",
            "style": "IPY_MODEL_40dbe4e6058a4cc9be1be3ef83d121a5",
            "value": 13156
          }
        },
        "38f9a8b595ca425c97bcf08f2d645231": {
          "model_module": "@jupyter-widgets/base",
          "model_module_version": "1.2.0",
          "model_name": "LayoutModel",
          "state": {
            "_model_module": "@jupyter-widgets/base",
            "_model_module_version": "1.2.0",
            "_model_name": "LayoutModel",
            "_view_count": null,
            "_view_module": "@jupyter-widgets/base",
            "_view_module_version": "1.2.0",
            "_view_name": "LayoutView",
            "align_content": null,
            "align_items": null,
            "align_self": null,
            "border": null,
            "bottom": null,
            "display": null,
            "flex": null,
            "flex_flow": null,
            "grid_area": null,
            "grid_auto_columns": null,
            "grid_auto_flow": null,
            "grid_auto_rows": null,
            "grid_column": null,
            "grid_gap": null,
            "grid_row": null,
            "grid_template_areas": null,
            "grid_template_columns": null,
            "grid_template_rows": null,
            "height": null,
            "justify_content": null,
            "justify_items": null,
            "left": null,
            "margin": null,
            "max_height": null,
            "max_width": null,
            "min_height": null,
            "min_width": null,
            "object_fit": null,
            "object_position": null,
            "order": null,
            "overflow": null,
            "overflow_x": null,
            "overflow_y": null,
            "padding": null,
            "right": null,
            "top": null,
            "visibility": null,
            "width": null
          }
        },
        "3948d996095c48aba306d2b01a732d6d": {
          "model_module": "@jupyter-widgets/base",
          "model_module_version": "1.2.0",
          "model_name": "LayoutModel",
          "state": {
            "_model_module": "@jupyter-widgets/base",
            "_model_module_version": "1.2.0",
            "_model_name": "LayoutModel",
            "_view_count": null,
            "_view_module": "@jupyter-widgets/base",
            "_view_module_version": "1.2.0",
            "_view_name": "LayoutView",
            "align_content": null,
            "align_items": null,
            "align_self": null,
            "border": null,
            "bottom": null,
            "display": null,
            "flex": null,
            "flex_flow": null,
            "grid_area": null,
            "grid_auto_columns": null,
            "grid_auto_flow": null,
            "grid_auto_rows": null,
            "grid_column": null,
            "grid_gap": null,
            "grid_row": null,
            "grid_template_areas": null,
            "grid_template_columns": null,
            "grid_template_rows": null,
            "height": null,
            "justify_content": null,
            "justify_items": null,
            "left": null,
            "margin": null,
            "max_height": null,
            "max_width": null,
            "min_height": null,
            "min_width": null,
            "object_fit": null,
            "object_position": null,
            "order": null,
            "overflow": null,
            "overflow_x": null,
            "overflow_y": null,
            "padding": null,
            "right": null,
            "top": null,
            "visibility": null,
            "width": null
          }
        },
        "396d9e3bfbaf48c2addef7b2eef99f03": {
          "model_module": "@jupyter-widgets/controls",
          "model_module_version": "1.5.0",
          "model_name": "ProgressStyleModel",
          "state": {
            "_model_module": "@jupyter-widgets/controls",
            "_model_module_version": "1.5.0",
            "_model_name": "ProgressStyleModel",
            "_view_count": null,
            "_view_module": "@jupyter-widgets/base",
            "_view_module_version": "1.2.0",
            "_view_name": "StyleView",
            "bar_color": null,
            "description_width": ""
          }
        },
        "3f80e44ea47d4a229d3162b1b1a002e9": {
          "model_module": "@jupyter-widgets/controls",
          "model_module_version": "1.5.0",
          "model_name": "HBoxModel",
          "state": {
            "_dom_classes": [],
            "_model_module": "@jupyter-widgets/controls",
            "_model_module_version": "1.5.0",
            "_model_name": "HBoxModel",
            "_view_count": null,
            "_view_module": "@jupyter-widgets/controls",
            "_view_module_version": "1.5.0",
            "_view_name": "HBoxView",
            "box_style": "",
            "children": [
              "IPY_MODEL_98460034ef7b4de896756a55dd34a8de",
              "IPY_MODEL_d5ab1a176cc44c2fb91efe6d463ebc8e",
              "IPY_MODEL_a8f219822cd74446ac6a67b2b001338d"
            ],
            "layout": "IPY_MODEL_eb1175d50e5947c18d1b17d133ea09b3"
          }
        },
        "40dbe4e6058a4cc9be1be3ef83d121a5": {
          "model_module": "@jupyter-widgets/controls",
          "model_module_version": "1.5.0",
          "model_name": "ProgressStyleModel",
          "state": {
            "_model_module": "@jupyter-widgets/controls",
            "_model_module_version": "1.5.0",
            "_model_name": "ProgressStyleModel",
            "_view_count": null,
            "_view_module": "@jupyter-widgets/base",
            "_view_module_version": "1.2.0",
            "_view_name": "StyleView",
            "bar_color": null,
            "description_width": ""
          }
        },
        "43608d83a2654a12abb6d1860ae1112b": {
          "model_module": "@jupyter-widgets/controls",
          "model_module_version": "1.5.0",
          "model_name": "DescriptionStyleModel",
          "state": {
            "_model_module": "@jupyter-widgets/controls",
            "_model_module_version": "1.5.0",
            "_model_name": "DescriptionStyleModel",
            "_view_count": null,
            "_view_module": "@jupyter-widgets/base",
            "_view_module_version": "1.2.0",
            "_view_name": "StyleView",
            "description_width": ""
          }
        },
        "448a2d15e3c344ff8a21146589eeb890": {
          "model_module": "@jupyter-widgets/controls",
          "model_module_version": "1.5.0",
          "model_name": "HBoxModel",
          "state": {
            "_dom_classes": [],
            "_model_module": "@jupyter-widgets/controls",
            "_model_module_version": "1.5.0",
            "_model_name": "HBoxModel",
            "_view_count": null,
            "_view_module": "@jupyter-widgets/controls",
            "_view_module_version": "1.5.0",
            "_view_name": "HBoxView",
            "box_style": "",
            "children": [
              "IPY_MODEL_87861103690f49dfb64378b29ac20e83",
              "IPY_MODEL_865b29672d494e518f275f5d3bd331fe",
              "IPY_MODEL_889c051bb17b4cc6a9752f0cbeb0393a"
            ],
            "layout": "IPY_MODEL_723aa16a951b40788651c83e6e970ead"
          }
        },
        "44a5bb853b9b4c9e8f646e7c2c2db580": {
          "model_module": "@jupyter-widgets/controls",
          "model_module_version": "1.5.0",
          "model_name": "HTMLModel",
          "state": {
            "_dom_classes": [],
            "_model_module": "@jupyter-widgets/controls",
            "_model_module_version": "1.5.0",
            "_model_name": "HTMLModel",
            "_view_count": null,
            "_view_module": "@jupyter-widgets/controls",
            "_view_module_version": "1.5.0",
            "_view_name": "HTMLView",
            "description": "",
            "description_tooltip": null,
            "layout": "IPY_MODEL_38f9a8b595ca425c97bcf08f2d645231",
            "placeholder": "​",
            "style": "IPY_MODEL_a829ddb88c9f4ea6ab4efa55bd212b64",
            "value": "Downloading (…)nce_bert_config.json: 100%"
          }
        },
        "45bf34a2d3f540fcbbecb78e2a2e3b39": {
          "model_module": "@jupyter-widgets/controls",
          "model_module_version": "1.5.0",
          "model_name": "FloatProgressModel",
          "state": {
            "_dom_classes": [],
            "_model_module": "@jupyter-widgets/controls",
            "_model_module_version": "1.5.0",
            "_model_name": "FloatProgressModel",
            "_view_count": null,
            "_view_module": "@jupyter-widgets/controls",
            "_view_module_version": "1.5.0",
            "_view_name": "ProgressView",
            "bar_style": "success",
            "description": "",
            "description_tooltip": null,
            "layout": "IPY_MODEL_870bce7c56784b36bd94f81ca346a506",
            "max": 53,
            "min": 0,
            "orientation": "horizontal",
            "style": "IPY_MODEL_00e376bd4f2c4c0c84ee11c6c9c90193",
            "value": 53
          }
        },
        "4665a7d8831e428cbc6a1ff9cfdb8143": {
          "model_module": "@jupyter-widgets/controls",
          "model_module_version": "1.5.0",
          "model_name": "ProgressStyleModel",
          "state": {
            "_model_module": "@jupyter-widgets/controls",
            "_model_module_version": "1.5.0",
            "_model_name": "ProgressStyleModel",
            "_view_count": null,
            "_view_module": "@jupyter-widgets/base",
            "_view_module_version": "1.2.0",
            "_view_name": "StyleView",
            "bar_color": null,
            "description_width": ""
          }
        },
        "4944c7a59ec448e68c2660a3b9a23236": {
          "model_module": "@jupyter-widgets/base",
          "model_module_version": "1.2.0",
          "model_name": "LayoutModel",
          "state": {
            "_model_module": "@jupyter-widgets/base",
            "_model_module_version": "1.2.0",
            "_model_name": "LayoutModel",
            "_view_count": null,
            "_view_module": "@jupyter-widgets/base",
            "_view_module_version": "1.2.0",
            "_view_name": "LayoutView",
            "align_content": null,
            "align_items": null,
            "align_self": null,
            "border": null,
            "bottom": null,
            "display": null,
            "flex": null,
            "flex_flow": null,
            "grid_area": null,
            "grid_auto_columns": null,
            "grid_auto_flow": null,
            "grid_auto_rows": null,
            "grid_column": null,
            "grid_gap": null,
            "grid_row": null,
            "grid_template_areas": null,
            "grid_template_columns": null,
            "grid_template_rows": null,
            "height": null,
            "justify_content": null,
            "justify_items": null,
            "left": null,
            "margin": null,
            "max_height": null,
            "max_width": null,
            "min_height": null,
            "min_width": null,
            "object_fit": null,
            "object_position": null,
            "order": null,
            "overflow": null,
            "overflow_x": null,
            "overflow_y": null,
            "padding": null,
            "right": null,
            "top": null,
            "visibility": null,
            "width": null
          }
        },
        "4ac559405ca546f48ec711e10c7e93bf": {
          "model_module": "@jupyter-widgets/base",
          "model_module_version": "1.2.0",
          "model_name": "LayoutModel",
          "state": {
            "_model_module": "@jupyter-widgets/base",
            "_model_module_version": "1.2.0",
            "_model_name": "LayoutModel",
            "_view_count": null,
            "_view_module": "@jupyter-widgets/base",
            "_view_module_version": "1.2.0",
            "_view_name": "LayoutView",
            "align_content": null,
            "align_items": null,
            "align_self": null,
            "border": null,
            "bottom": null,
            "display": null,
            "flex": null,
            "flex_flow": null,
            "grid_area": null,
            "grid_auto_columns": null,
            "grid_auto_flow": null,
            "grid_auto_rows": null,
            "grid_column": null,
            "grid_gap": null,
            "grid_row": null,
            "grid_template_areas": null,
            "grid_template_columns": null,
            "grid_template_rows": null,
            "height": null,
            "justify_content": null,
            "justify_items": null,
            "left": null,
            "margin": null,
            "max_height": null,
            "max_width": null,
            "min_height": null,
            "min_width": null,
            "object_fit": null,
            "object_position": null,
            "order": null,
            "overflow": null,
            "overflow_x": null,
            "overflow_y": null,
            "padding": null,
            "right": null,
            "top": null,
            "visibility": null,
            "width": null
          }
        },
        "4c346e779c954ba49e1acc36c1f0e82a": {
          "model_module": "@jupyter-widgets/controls",
          "model_module_version": "1.5.0",
          "model_name": "DescriptionStyleModel",
          "state": {
            "_model_module": "@jupyter-widgets/controls",
            "_model_module_version": "1.5.0",
            "_model_name": "DescriptionStyleModel",
            "_view_count": null,
            "_view_module": "@jupyter-widgets/base",
            "_view_module_version": "1.2.0",
            "_view_name": "StyleView",
            "description_width": ""
          }
        },
        "4ce54970756141c69313adf0ea126b4b": {
          "model_module": "@jupyter-widgets/controls",
          "model_module_version": "1.5.0",
          "model_name": "ProgressStyleModel",
          "state": {
            "_model_module": "@jupyter-widgets/controls",
            "_model_module_version": "1.5.0",
            "_model_name": "ProgressStyleModel",
            "_view_count": null,
            "_view_module": "@jupyter-widgets/base",
            "_view_module_version": "1.2.0",
            "_view_name": "StyleView",
            "bar_color": null,
            "description_width": ""
          }
        },
        "4e65e8180c014d9db45f4f2a764e9d61": {
          "model_module": "@jupyter-widgets/controls",
          "model_module_version": "1.5.0",
          "model_name": "DescriptionStyleModel",
          "state": {
            "_model_module": "@jupyter-widgets/controls",
            "_model_module_version": "1.5.0",
            "_model_name": "DescriptionStyleModel",
            "_view_count": null,
            "_view_module": "@jupyter-widgets/base",
            "_view_module_version": "1.2.0",
            "_view_name": "StyleView",
            "description_width": ""
          }
        },
        "4fd6cb0be8744b6881001092699c878d": {
          "model_module": "@jupyter-widgets/controls",
          "model_module_version": "1.5.0",
          "model_name": "HTMLModel",
          "state": {
            "_dom_classes": [],
            "_model_module": "@jupyter-widgets/controls",
            "_model_module_version": "1.5.0",
            "_model_name": "HTMLModel",
            "_view_count": null,
            "_view_module": "@jupyter-widgets/controls",
            "_view_module_version": "1.5.0",
            "_view_name": "HTMLView",
            "description": "",
            "description_tooltip": null,
            "layout": "IPY_MODEL_263534084ccd421796f341af42c6c6f4",
            "placeholder": "​",
            "style": "IPY_MODEL_4c346e779c954ba49e1acc36c1f0e82a",
            "value": " 13.2k/13.2k [00:00&lt;00:00, 762kB/s]"
          }
        },
        "50d23e59d3bd447d83137834b15bbec4": {
          "model_module": "@jupyter-widgets/controls",
          "model_module_version": "1.5.0",
          "model_name": "HTMLModel",
          "state": {
            "_dom_classes": [],
            "_model_module": "@jupyter-widgets/controls",
            "_model_module_version": "1.5.0",
            "_model_name": "HTMLModel",
            "_view_count": null,
            "_view_module": "@jupyter-widgets/controls",
            "_view_module_version": "1.5.0",
            "_view_name": "HTMLView",
            "description": "",
            "description_tooltip": null,
            "layout": "IPY_MODEL_cd633c2e351e4fa896a0a8b57a7ec127",
            "placeholder": "​",
            "style": "IPY_MODEL_dd4f52b3d7fe4647a210b4471716026a",
            "value": " 1.18k/1.18k [00:00&lt;00:00, 15.9kB/s]"
          }
        },
        "52282d4e69194c62b0ee37320ec74329": {
          "model_module": "@jupyter-widgets/controls",
          "model_module_version": "1.5.0",
          "model_name": "HTMLModel",
          "state": {
            "_dom_classes": [],
            "_model_module": "@jupyter-widgets/controls",
            "_model_module_version": "1.5.0",
            "_model_name": "HTMLModel",
            "_view_count": null,
            "_view_module": "@jupyter-widgets/controls",
            "_view_module_version": "1.5.0",
            "_view_name": "HTMLView",
            "description": "",
            "description_tooltip": null,
            "layout": "IPY_MODEL_2e53125f025c49dbaa28857d318e2bf6",
            "placeholder": "​",
            "style": "IPY_MODEL_f5b320867dad49e3af9371128e31980c",
            "value": " 466k/466k [00:00&lt;00:00, 2.20MB/s]"
          }
        },
        "556bf3728b314f3b9f2b88458c9358da": {
          "model_module": "@jupyter-widgets/controls",
          "model_module_version": "1.5.0",
          "model_name": "DescriptionStyleModel",
          "state": {
            "_model_module": "@jupyter-widgets/controls",
            "_model_module_version": "1.5.0",
            "_model_name": "DescriptionStyleModel",
            "_view_count": null,
            "_view_module": "@jupyter-widgets/base",
            "_view_module_version": "1.2.0",
            "_view_name": "StyleView",
            "description_width": ""
          }
        },
        "55b1307246df4d978c453e0cfc62ebe1": {
          "model_module": "@jupyter-widgets/base",
          "model_module_version": "1.2.0",
          "model_name": "LayoutModel",
          "state": {
            "_model_module": "@jupyter-widgets/base",
            "_model_module_version": "1.2.0",
            "_model_name": "LayoutModel",
            "_view_count": null,
            "_view_module": "@jupyter-widgets/base",
            "_view_module_version": "1.2.0",
            "_view_name": "LayoutView",
            "align_content": null,
            "align_items": null,
            "align_self": null,
            "border": null,
            "bottom": null,
            "display": null,
            "flex": null,
            "flex_flow": null,
            "grid_area": null,
            "grid_auto_columns": null,
            "grid_auto_flow": null,
            "grid_auto_rows": null,
            "grid_column": null,
            "grid_gap": null,
            "grid_row": null,
            "grid_template_areas": null,
            "grid_template_columns": null,
            "grid_template_rows": null,
            "height": null,
            "justify_content": null,
            "justify_items": null,
            "left": null,
            "margin": null,
            "max_height": null,
            "max_width": null,
            "min_height": null,
            "min_width": null,
            "object_fit": null,
            "object_position": null,
            "order": null,
            "overflow": null,
            "overflow_x": null,
            "overflow_y": null,
            "padding": null,
            "right": null,
            "top": null,
            "visibility": null,
            "width": null
          }
        },
        "58e0a891d72d407fa2396cda17a9e41f": {
          "model_module": "@jupyter-widgets/controls",
          "model_module_version": "1.5.0",
          "model_name": "FloatProgressModel",
          "state": {
            "_dom_classes": [],
            "_model_module": "@jupyter-widgets/controls",
            "_model_module_version": "1.5.0",
            "_model_name": "FloatProgressModel",
            "_view_count": null,
            "_view_module": "@jupyter-widgets/controls",
            "_view_module_version": "1.5.0",
            "_view_name": "ProgressView",
            "bar_style": "success",
            "description": "",
            "description_tooltip": null,
            "layout": "IPY_MODEL_f057a653737c4531a43c4d55164f0b08",
            "max": 116,
            "min": 0,
            "orientation": "horizontal",
            "style": "IPY_MODEL_396d9e3bfbaf48c2addef7b2eef99f03",
            "value": 116
          }
        },
        "5b7bb9eb08994aeab6c788a3fbadb984": {
          "model_module": "@jupyter-widgets/base",
          "model_module_version": "1.2.0",
          "model_name": "LayoutModel",
          "state": {
            "_model_module": "@jupyter-widgets/base",
            "_model_module_version": "1.2.0",
            "_model_name": "LayoutModel",
            "_view_count": null,
            "_view_module": "@jupyter-widgets/base",
            "_view_module_version": "1.2.0",
            "_view_name": "LayoutView",
            "align_content": null,
            "align_items": null,
            "align_self": null,
            "border": null,
            "bottom": null,
            "display": null,
            "flex": null,
            "flex_flow": null,
            "grid_area": null,
            "grid_auto_columns": null,
            "grid_auto_flow": null,
            "grid_auto_rows": null,
            "grid_column": null,
            "grid_gap": null,
            "grid_row": null,
            "grid_template_areas": null,
            "grid_template_columns": null,
            "grid_template_rows": null,
            "height": null,
            "justify_content": null,
            "justify_items": null,
            "left": null,
            "margin": null,
            "max_height": null,
            "max_width": null,
            "min_height": null,
            "min_width": null,
            "object_fit": null,
            "object_position": null,
            "order": null,
            "overflow": null,
            "overflow_x": null,
            "overflow_y": null,
            "padding": null,
            "right": null,
            "top": null,
            "visibility": null,
            "width": null
          }
        },
        "5beb35c9467d4c4ebfd09e48117f9600": {
          "model_module": "@jupyter-widgets/controls",
          "model_module_version": "1.5.0",
          "model_name": "HTMLModel",
          "state": {
            "_dom_classes": [],
            "_model_module": "@jupyter-widgets/controls",
            "_model_module_version": "1.5.0",
            "_model_name": "HTMLModel",
            "_view_count": null,
            "_view_module": "@jupyter-widgets/controls",
            "_view_module_version": "1.5.0",
            "_view_name": "HTMLView",
            "description": "",
            "description_tooltip": null,
            "layout": "IPY_MODEL_3386f92fac814677b3b56f4a9d17af0b",
            "placeholder": "​",
            "style": "IPY_MODEL_697340a98ba643cbbcf24f110ac48b75",
            "value": "Downloading (…)7e55de9125/README.md: 100%"
          }
        },
        "5e2aaf268f594809a7b15c8d32f4a440": {
          "model_module": "@jupyter-widgets/controls",
          "model_module_version": "1.5.0",
          "model_name": "HTMLModel",
          "state": {
            "_dom_classes": [],
            "_model_module": "@jupyter-widgets/controls",
            "_model_module_version": "1.5.0",
            "_model_name": "HTMLModel",
            "_view_count": null,
            "_view_module": "@jupyter-widgets/controls",
            "_view_module_version": "1.5.0",
            "_view_name": "HTMLView",
            "description": "",
            "description_tooltip": null,
            "layout": "IPY_MODEL_f90cbb1f09f9426c8e9f23d6d09070d2",
            "placeholder": "​",
            "style": "IPY_MODEL_43608d83a2654a12abb6d1860ae1112b",
            "value": "Downloading (…)5de9125/modules.json: 100%"
          }
        },
        "5f5d6f8133384a48a08e97965aaf6a95": {
          "model_module": "@jupyter-widgets/base",
          "model_module_version": "1.2.0",
          "model_name": "LayoutModel",
          "state": {
            "_model_module": "@jupyter-widgets/base",
            "_model_module_version": "1.2.0",
            "_model_name": "LayoutModel",
            "_view_count": null,
            "_view_module": "@jupyter-widgets/base",
            "_view_module_version": "1.2.0",
            "_view_name": "LayoutView",
            "align_content": null,
            "align_items": null,
            "align_self": null,
            "border": null,
            "bottom": null,
            "display": null,
            "flex": null,
            "flex_flow": null,
            "grid_area": null,
            "grid_auto_columns": null,
            "grid_auto_flow": null,
            "grid_auto_rows": null,
            "grid_column": null,
            "grid_gap": null,
            "grid_row": null,
            "grid_template_areas": null,
            "grid_template_columns": null,
            "grid_template_rows": null,
            "height": null,
            "justify_content": null,
            "justify_items": null,
            "left": null,
            "margin": null,
            "max_height": null,
            "max_width": null,
            "min_height": null,
            "min_width": null,
            "object_fit": null,
            "object_position": null,
            "order": null,
            "overflow": null,
            "overflow_x": null,
            "overflow_y": null,
            "padding": null,
            "right": null,
            "top": null,
            "visibility": null,
            "width": null
          }
        },
        "62115c8ceaab4779b110a72924a5238d": {
          "model_module": "@jupyter-widgets/controls",
          "model_module_version": "1.5.0",
          "model_name": "FloatProgressModel",
          "state": {
            "_dom_classes": [],
            "_model_module": "@jupyter-widgets/controls",
            "_model_module_version": "1.5.0",
            "_model_name": "FloatProgressModel",
            "_view_count": null,
            "_view_module": "@jupyter-widgets/controls",
            "_view_module_version": "1.5.0",
            "_view_name": "ProgressView",
            "bar_style": "success",
            "description": "",
            "description_tooltip": null,
            "layout": "IPY_MODEL_bf0ca4d7968340a4a66e1217ec1170fa",
            "max": 10610,
            "min": 0,
            "orientation": "horizontal",
            "style": "IPY_MODEL_4665a7d8831e428cbc6a1ff9cfdb8143",
            "value": 10610
          }
        },
        "65b0920b13b14f2b9a9ca92a0549741c": {
          "model_module": "@jupyter-widgets/controls",
          "model_module_version": "1.5.0",
          "model_name": "FloatProgressModel",
          "state": {
            "_dom_classes": [],
            "_model_module": "@jupyter-widgets/controls",
            "_model_module_version": "1.5.0",
            "_model_name": "FloatProgressModel",
            "_view_count": null,
            "_view_module": "@jupyter-widgets/controls",
            "_view_module_version": "1.5.0",
            "_view_name": "ProgressView",
            "bar_style": "success",
            "description": "",
            "description_tooltip": null,
            "layout": "IPY_MODEL_0ef468aecc5f426190db7d52e2f6a962",
            "max": 190,
            "min": 0,
            "orientation": "horizontal",
            "style": "IPY_MODEL_8151c4f984c34e16bc580ed718ad546d",
            "value": 190
          }
        },
        "697340a98ba643cbbcf24f110ac48b75": {
          "model_module": "@jupyter-widgets/controls",
          "model_module_version": "1.5.0",
          "model_name": "DescriptionStyleModel",
          "state": {
            "_model_module": "@jupyter-widgets/controls",
            "_model_module_version": "1.5.0",
            "_model_name": "DescriptionStyleModel",
            "_view_count": null,
            "_view_module": "@jupyter-widgets/base",
            "_view_module_version": "1.2.0",
            "_view_name": "StyleView",
            "description_width": ""
          }
        },
        "6a2a138c36414c55bb00fab87f25c358": {
          "model_module": "@jupyter-widgets/base",
          "model_module_version": "1.2.0",
          "model_name": "LayoutModel",
          "state": {
            "_model_module": "@jupyter-widgets/base",
            "_model_module_version": "1.2.0",
            "_model_name": "LayoutModel",
            "_view_count": null,
            "_view_module": "@jupyter-widgets/base",
            "_view_module_version": "1.2.0",
            "_view_name": "LayoutView",
            "align_content": null,
            "align_items": null,
            "align_self": null,
            "border": null,
            "bottom": null,
            "display": null,
            "flex": null,
            "flex_flow": null,
            "grid_area": null,
            "grid_auto_columns": null,
            "grid_auto_flow": null,
            "grid_auto_rows": null,
            "grid_column": null,
            "grid_gap": null,
            "grid_row": null,
            "grid_template_areas": null,
            "grid_template_columns": null,
            "grid_template_rows": null,
            "height": null,
            "justify_content": null,
            "justify_items": null,
            "left": null,
            "margin": null,
            "max_height": null,
            "max_width": null,
            "min_height": null,
            "min_width": null,
            "object_fit": null,
            "object_position": null,
            "order": null,
            "overflow": null,
            "overflow_x": null,
            "overflow_y": null,
            "padding": null,
            "right": null,
            "top": null,
            "visibility": null,
            "width": null
          }
        },
        "6a844dd1982f45b1a395609acec1194d": {
          "model_module": "@jupyter-widgets/controls",
          "model_module_version": "1.5.0",
          "model_name": "HTMLModel",
          "state": {
            "_dom_classes": [],
            "_model_module": "@jupyter-widgets/controls",
            "_model_module_version": "1.5.0",
            "_model_name": "HTMLModel",
            "_view_count": null,
            "_view_module": "@jupyter-widgets/controls",
            "_view_module_version": "1.5.0",
            "_view_name": "HTMLView",
            "description": "",
            "description_tooltip": null,
            "layout": "IPY_MODEL_88fa57432bcd4bdea9ec26e1d728fcbd",
            "placeholder": "​",
            "style": "IPY_MODEL_eda142eb822e414da96a6a511a4dca3e",
            "value": "Downloading (…)okenizer_config.json: 100%"
          }
        },
        "6ada8151e8db4a76b67844787a4ec5dc": {
          "model_module": "@jupyter-widgets/base",
          "model_module_version": "1.2.0",
          "model_name": "LayoutModel",
          "state": {
            "_model_module": "@jupyter-widgets/base",
            "_model_module_version": "1.2.0",
            "_model_name": "LayoutModel",
            "_view_count": null,
            "_view_module": "@jupyter-widgets/base",
            "_view_module_version": "1.2.0",
            "_view_name": "LayoutView",
            "align_content": null,
            "align_items": null,
            "align_self": null,
            "border": null,
            "bottom": null,
            "display": null,
            "flex": null,
            "flex_flow": null,
            "grid_area": null,
            "grid_auto_columns": null,
            "grid_auto_flow": null,
            "grid_auto_rows": null,
            "grid_column": null,
            "grid_gap": null,
            "grid_row": null,
            "grid_template_areas": null,
            "grid_template_columns": null,
            "grid_template_rows": null,
            "height": null,
            "justify_content": null,
            "justify_items": null,
            "left": null,
            "margin": null,
            "max_height": null,
            "max_width": null,
            "min_height": null,
            "min_width": null,
            "object_fit": null,
            "object_position": null,
            "order": null,
            "overflow": null,
            "overflow_x": null,
            "overflow_y": null,
            "padding": null,
            "right": null,
            "top": null,
            "visibility": null,
            "width": null
          }
        },
        "71ba65fb30f14c8d90677ed6227e8f84": {
          "model_module": "@jupyter-widgets/base",
          "model_module_version": "1.2.0",
          "model_name": "LayoutModel",
          "state": {
            "_model_module": "@jupyter-widgets/base",
            "_model_module_version": "1.2.0",
            "_model_name": "LayoutModel",
            "_view_count": null,
            "_view_module": "@jupyter-widgets/base",
            "_view_module_version": "1.2.0",
            "_view_name": "LayoutView",
            "align_content": null,
            "align_items": null,
            "align_self": null,
            "border": null,
            "bottom": null,
            "display": null,
            "flex": null,
            "flex_flow": null,
            "grid_area": null,
            "grid_auto_columns": null,
            "grid_auto_flow": null,
            "grid_auto_rows": null,
            "grid_column": null,
            "grid_gap": null,
            "grid_row": null,
            "grid_template_areas": null,
            "grid_template_columns": null,
            "grid_template_rows": null,
            "height": null,
            "justify_content": null,
            "justify_items": null,
            "left": null,
            "margin": null,
            "max_height": null,
            "max_width": null,
            "min_height": null,
            "min_width": null,
            "object_fit": null,
            "object_position": null,
            "order": null,
            "overflow": null,
            "overflow_x": null,
            "overflow_y": null,
            "padding": null,
            "right": null,
            "top": null,
            "visibility": null,
            "width": null
          }
        },
        "723aa16a951b40788651c83e6e970ead": {
          "model_module": "@jupyter-widgets/base",
          "model_module_version": "1.2.0",
          "model_name": "LayoutModel",
          "state": {
            "_model_module": "@jupyter-widgets/base",
            "_model_module_version": "1.2.0",
            "_model_name": "LayoutModel",
            "_view_count": null,
            "_view_module": "@jupyter-widgets/base",
            "_view_module_version": "1.2.0",
            "_view_name": "LayoutView",
            "align_content": null,
            "align_items": null,
            "align_self": null,
            "border": null,
            "bottom": null,
            "display": null,
            "flex": null,
            "flex_flow": null,
            "grid_area": null,
            "grid_auto_columns": null,
            "grid_auto_flow": null,
            "grid_auto_rows": null,
            "grid_column": null,
            "grid_gap": null,
            "grid_row": null,
            "grid_template_areas": null,
            "grid_template_columns": null,
            "grid_template_rows": null,
            "height": null,
            "justify_content": null,
            "justify_items": null,
            "left": null,
            "margin": null,
            "max_height": null,
            "max_width": null,
            "min_height": null,
            "min_width": null,
            "object_fit": null,
            "object_position": null,
            "order": null,
            "overflow": null,
            "overflow_x": null,
            "overflow_y": null,
            "padding": null,
            "right": null,
            "top": null,
            "visibility": null,
            "width": null
          }
        },
        "75c787505d374fe1b800879a5841ff9c": {
          "model_module": "@jupyter-widgets/base",
          "model_module_version": "1.2.0",
          "model_name": "LayoutModel",
          "state": {
            "_model_module": "@jupyter-widgets/base",
            "_model_module_version": "1.2.0",
            "_model_name": "LayoutModel",
            "_view_count": null,
            "_view_module": "@jupyter-widgets/base",
            "_view_module_version": "1.2.0",
            "_view_name": "LayoutView",
            "align_content": null,
            "align_items": null,
            "align_self": null,
            "border": null,
            "bottom": null,
            "display": null,
            "flex": null,
            "flex_flow": null,
            "grid_area": null,
            "grid_auto_columns": null,
            "grid_auto_flow": null,
            "grid_auto_rows": null,
            "grid_column": null,
            "grid_gap": null,
            "grid_row": null,
            "grid_template_areas": null,
            "grid_template_columns": null,
            "grid_template_rows": null,
            "height": null,
            "justify_content": null,
            "justify_items": null,
            "left": null,
            "margin": null,
            "max_height": null,
            "max_width": null,
            "min_height": null,
            "min_width": null,
            "object_fit": null,
            "object_position": null,
            "order": null,
            "overflow": null,
            "overflow_x": null,
            "overflow_y": null,
            "padding": null,
            "right": null,
            "top": null,
            "visibility": null,
            "width": null
          }
        },
        "792edc56b0104dd5919c364ece285bb1": {
          "model_module": "@jupyter-widgets/controls",
          "model_module_version": "1.5.0",
          "model_name": "HBoxModel",
          "state": {
            "_dom_classes": [],
            "_model_module": "@jupyter-widgets/controls",
            "_model_module_version": "1.5.0",
            "_model_name": "HBoxModel",
            "_view_count": null,
            "_view_module": "@jupyter-widgets/controls",
            "_view_module_version": "1.5.0",
            "_view_name": "HBoxView",
            "box_style": "",
            "children": [
              "IPY_MODEL_44a5bb853b9b4c9e8f646e7c2c2db580",
              "IPY_MODEL_45bf34a2d3f540fcbbecb78e2a2e3b39",
              "IPY_MODEL_9a750805f6d44b8184335107ccf681a6"
            ],
            "layout": "IPY_MODEL_1cdc16242ca64b8288ebbe1809ae3901"
          }
        },
        "7aa299f9796b4f04a6fb009ac3f16b83": {
          "model_module": "@jupyter-widgets/controls",
          "model_module_version": "1.5.0",
          "model_name": "DescriptionStyleModel",
          "state": {
            "_model_module": "@jupyter-widgets/controls",
            "_model_module_version": "1.5.0",
            "_model_name": "DescriptionStyleModel",
            "_view_count": null,
            "_view_module": "@jupyter-widgets/base",
            "_view_module_version": "1.2.0",
            "_view_name": "StyleView",
            "description_width": ""
          }
        },
        "7d5be019e96e44ffab5690a426d058dc": {
          "model_module": "@jupyter-widgets/base",
          "model_module_version": "1.2.0",
          "model_name": "LayoutModel",
          "state": {
            "_model_module": "@jupyter-widgets/base",
            "_model_module_version": "1.2.0",
            "_model_name": "LayoutModel",
            "_view_count": null,
            "_view_module": "@jupyter-widgets/base",
            "_view_module_version": "1.2.0",
            "_view_name": "LayoutView",
            "align_content": null,
            "align_items": null,
            "align_self": null,
            "border": null,
            "bottom": null,
            "display": null,
            "flex": null,
            "flex_flow": null,
            "grid_area": null,
            "grid_auto_columns": null,
            "grid_auto_flow": null,
            "grid_auto_rows": null,
            "grid_column": null,
            "grid_gap": null,
            "grid_row": null,
            "grid_template_areas": null,
            "grid_template_columns": null,
            "grid_template_rows": null,
            "height": null,
            "justify_content": null,
            "justify_items": null,
            "left": null,
            "margin": null,
            "max_height": null,
            "max_width": null,
            "min_height": null,
            "min_width": null,
            "object_fit": null,
            "object_position": null,
            "order": null,
            "overflow": null,
            "overflow_x": null,
            "overflow_y": null,
            "padding": null,
            "right": null,
            "top": null,
            "visibility": null,
            "width": null
          }
        },
        "8151c4f984c34e16bc580ed718ad546d": {
          "model_module": "@jupyter-widgets/controls",
          "model_module_version": "1.5.0",
          "model_name": "ProgressStyleModel",
          "state": {
            "_model_module": "@jupyter-widgets/controls",
            "_model_module_version": "1.5.0",
            "_model_name": "ProgressStyleModel",
            "_view_count": null,
            "_view_module": "@jupyter-widgets/base",
            "_view_module_version": "1.2.0",
            "_view_name": "StyleView",
            "bar_color": null,
            "description_width": ""
          }
        },
        "820fb9a6f62f4514b32cce68ba73a91a": {
          "model_module": "@jupyter-widgets/base",
          "model_module_version": "1.2.0",
          "model_name": "LayoutModel",
          "state": {
            "_model_module": "@jupyter-widgets/base",
            "_model_module_version": "1.2.0",
            "_model_name": "LayoutModel",
            "_view_count": null,
            "_view_module": "@jupyter-widgets/base",
            "_view_module_version": "1.2.0",
            "_view_name": "LayoutView",
            "align_content": null,
            "align_items": null,
            "align_self": null,
            "border": null,
            "bottom": null,
            "display": null,
            "flex": null,
            "flex_flow": null,
            "grid_area": null,
            "grid_auto_columns": null,
            "grid_auto_flow": null,
            "grid_auto_rows": null,
            "grid_column": null,
            "grid_gap": null,
            "grid_row": null,
            "grid_template_areas": null,
            "grid_template_columns": null,
            "grid_template_rows": null,
            "height": null,
            "justify_content": null,
            "justify_items": null,
            "left": null,
            "margin": null,
            "max_height": null,
            "max_width": null,
            "min_height": null,
            "min_width": null,
            "object_fit": null,
            "object_position": null,
            "order": null,
            "overflow": null,
            "overflow_x": null,
            "overflow_y": null,
            "padding": null,
            "right": null,
            "top": null,
            "visibility": null,
            "width": null
          }
        },
        "85abd10021ad4adb973dc9255614046c": {
          "model_module": "@jupyter-widgets/controls",
          "model_module_version": "1.5.0",
          "model_name": "DescriptionStyleModel",
          "state": {
            "_model_module": "@jupyter-widgets/controls",
            "_model_module_version": "1.5.0",
            "_model_name": "DescriptionStyleModel",
            "_view_count": null,
            "_view_module": "@jupyter-widgets/base",
            "_view_module_version": "1.2.0",
            "_view_name": "StyleView",
            "description_width": ""
          }
        },
        "865b29672d494e518f275f5d3bd331fe": {
          "model_module": "@jupyter-widgets/controls",
          "model_module_version": "1.5.0",
          "model_name": "FloatProgressModel",
          "state": {
            "_dom_classes": [],
            "_model_module": "@jupyter-widgets/controls",
            "_model_module_version": "1.5.0",
            "_model_name": "FloatProgressModel",
            "_view_count": null,
            "_view_module": "@jupyter-widgets/controls",
            "_view_module_version": "1.5.0",
            "_view_name": "ProgressView",
            "bar_style": "success",
            "description": "",
            "description_tooltip": null,
            "layout": "IPY_MODEL_ef2518ecd7574d68ab5e5dca8837bf85",
            "max": 231508,
            "min": 0,
            "orientation": "horizontal",
            "style": "IPY_MODEL_0ad4d2820ae449c79681d2f3b31896d6",
            "value": 231508
          }
        },
        "870bce7c56784b36bd94f81ca346a506": {
          "model_module": "@jupyter-widgets/base",
          "model_module_version": "1.2.0",
          "model_name": "LayoutModel",
          "state": {
            "_model_module": "@jupyter-widgets/base",
            "_model_module_version": "1.2.0",
            "_model_name": "LayoutModel",
            "_view_count": null,
            "_view_module": "@jupyter-widgets/base",
            "_view_module_version": "1.2.0",
            "_view_name": "LayoutView",
            "align_content": null,
            "align_items": null,
            "align_self": null,
            "border": null,
            "bottom": null,
            "display": null,
            "flex": null,
            "flex_flow": null,
            "grid_area": null,
            "grid_auto_columns": null,
            "grid_auto_flow": null,
            "grid_auto_rows": null,
            "grid_column": null,
            "grid_gap": null,
            "grid_row": null,
            "grid_template_areas": null,
            "grid_template_columns": null,
            "grid_template_rows": null,
            "height": null,
            "justify_content": null,
            "justify_items": null,
            "left": null,
            "margin": null,
            "max_height": null,
            "max_width": null,
            "min_height": null,
            "min_width": null,
            "object_fit": null,
            "object_position": null,
            "order": null,
            "overflow": null,
            "overflow_x": null,
            "overflow_y": null,
            "padding": null,
            "right": null,
            "top": null,
            "visibility": null,
            "width": null
          }
        },
        "87861103690f49dfb64378b29ac20e83": {
          "model_module": "@jupyter-widgets/controls",
          "model_module_version": "1.5.0",
          "model_name": "HTMLModel",
          "state": {
            "_dom_classes": [],
            "_model_module": "@jupyter-widgets/controls",
            "_model_module_version": "1.5.0",
            "_model_name": "HTMLModel",
            "_view_count": null,
            "_view_module": "@jupyter-widgets/controls",
            "_view_module_version": "1.5.0",
            "_view_name": "HTMLView",
            "description": "",
            "description_tooltip": null,
            "layout": "IPY_MODEL_a92caa28d1584ed681960467c8b4b8c1",
            "placeholder": "​",
            "style": "IPY_MODEL_11b140566f6a4d16af2425be0d5a2d2f",
            "value": "Downloading (…)7e55de9125/vocab.txt: 100%"
          }
        },
        "87dadfc4cd114666a4a99b1399132bab": {
          "model_module": "@jupyter-widgets/base",
          "model_module_version": "1.2.0",
          "model_name": "LayoutModel",
          "state": {
            "_model_module": "@jupyter-widgets/base",
            "_model_module_version": "1.2.0",
            "_model_name": "LayoutModel",
            "_view_count": null,
            "_view_module": "@jupyter-widgets/base",
            "_view_module_version": "1.2.0",
            "_view_name": "LayoutView",
            "align_content": null,
            "align_items": null,
            "align_self": null,
            "border": null,
            "bottom": null,
            "display": null,
            "flex": null,
            "flex_flow": null,
            "grid_area": null,
            "grid_auto_columns": null,
            "grid_auto_flow": null,
            "grid_auto_rows": null,
            "grid_column": null,
            "grid_gap": null,
            "grid_row": null,
            "grid_template_areas": null,
            "grid_template_columns": null,
            "grid_template_rows": null,
            "height": null,
            "justify_content": null,
            "justify_items": null,
            "left": null,
            "margin": null,
            "max_height": null,
            "max_width": null,
            "min_height": null,
            "min_width": null,
            "object_fit": null,
            "object_position": null,
            "order": null,
            "overflow": null,
            "overflow_x": null,
            "overflow_y": null,
            "padding": null,
            "right": null,
            "top": null,
            "visibility": null,
            "width": null
          }
        },
        "889c051bb17b4cc6a9752f0cbeb0393a": {
          "model_module": "@jupyter-widgets/controls",
          "model_module_version": "1.5.0",
          "model_name": "HTMLModel",
          "state": {
            "_dom_classes": [],
            "_model_module": "@jupyter-widgets/controls",
            "_model_module_version": "1.5.0",
            "_model_name": "HTMLModel",
            "_view_count": null,
            "_view_module": "@jupyter-widgets/controls",
            "_view_module_version": "1.5.0",
            "_view_name": "HTMLView",
            "description": "",
            "description_tooltip": null,
            "layout": "IPY_MODEL_35c621bda9614ab5a6f393518273ef2e",
            "placeholder": "​",
            "style": "IPY_MODEL_a724e0c7a2ea4352b169464e8b53db19",
            "value": " 232k/232k [00:00&lt;00:00, 1.05MB/s]"
          }
        },
        "88fa57432bcd4bdea9ec26e1d728fcbd": {
          "model_module": "@jupyter-widgets/base",
          "model_module_version": "1.2.0",
          "model_name": "LayoutModel",
          "state": {
            "_model_module": "@jupyter-widgets/base",
            "_model_module_version": "1.2.0",
            "_model_name": "LayoutModel",
            "_view_count": null,
            "_view_module": "@jupyter-widgets/base",
            "_view_module_version": "1.2.0",
            "_view_name": "LayoutView",
            "align_content": null,
            "align_items": null,
            "align_self": null,
            "border": null,
            "bottom": null,
            "display": null,
            "flex": null,
            "flex_flow": null,
            "grid_area": null,
            "grid_auto_columns": null,
            "grid_auto_flow": null,
            "grid_auto_rows": null,
            "grid_column": null,
            "grid_gap": null,
            "grid_row": null,
            "grid_template_areas": null,
            "grid_template_columns": null,
            "grid_template_rows": null,
            "height": null,
            "justify_content": null,
            "justify_items": null,
            "left": null,
            "margin": null,
            "max_height": null,
            "max_width": null,
            "min_height": null,
            "min_width": null,
            "object_fit": null,
            "object_position": null,
            "order": null,
            "overflow": null,
            "overflow_x": null,
            "overflow_y": null,
            "padding": null,
            "right": null,
            "top": null,
            "visibility": null,
            "width": null
          }
        },
        "8b7bc7e9fe6642889416bb67198c1541": {
          "model_module": "@jupyter-widgets/controls",
          "model_module_version": "1.5.0",
          "model_name": "HTMLModel",
          "state": {
            "_dom_classes": [],
            "_model_module": "@jupyter-widgets/controls",
            "_model_module_version": "1.5.0",
            "_model_name": "HTMLModel",
            "_view_count": null,
            "_view_module": "@jupyter-widgets/controls",
            "_view_module_version": "1.5.0",
            "_view_name": "HTMLView",
            "description": "",
            "description_tooltip": null,
            "layout": "IPY_MODEL_f05498418fb247469a83e5c6c39206eb",
            "placeholder": "​",
            "style": "IPY_MODEL_cf5ed93c89d2418592a84d02170958a6",
            "value": " 116/116 [00:00&lt;00:00, 3.89kB/s]"
          }
        },
        "8e10080977e04f41a8a9c82acec5ab9b": {
          "model_module": "@jupyter-widgets/controls",
          "model_module_version": "1.5.0",
          "model_name": "DescriptionStyleModel",
          "state": {
            "_model_module": "@jupyter-widgets/controls",
            "_model_module_version": "1.5.0",
            "_model_name": "DescriptionStyleModel",
            "_view_count": null,
            "_view_module": "@jupyter-widgets/base",
            "_view_module_version": "1.2.0",
            "_view_name": "StyleView",
            "description_width": ""
          }
        },
        "9080962e2ef447b2a365e5a2ea6782cd": {
          "model_module": "@jupyter-widgets/controls",
          "model_module_version": "1.5.0",
          "model_name": "HBoxModel",
          "state": {
            "_dom_classes": [],
            "_model_module": "@jupyter-widgets/controls",
            "_model_module_version": "1.5.0",
            "_model_name": "HBoxModel",
            "_view_count": null,
            "_view_module": "@jupyter-widgets/controls",
            "_view_module_version": "1.5.0",
            "_view_name": "HBoxView",
            "box_style": "",
            "children": [
              "IPY_MODEL_a30c2e6ecba1499ca668758139efc2b7",
              "IPY_MODEL_36b1ca4a0d4c42139749d99345e8f91e",
              "IPY_MODEL_4fd6cb0be8744b6881001092699c878d"
            ],
            "layout": "IPY_MODEL_919ddb19870a4682adef22dd2f742ace"
          }
        },
        "919ddb19870a4682adef22dd2f742ace": {
          "model_module": "@jupyter-widgets/base",
          "model_module_version": "1.2.0",
          "model_name": "LayoutModel",
          "state": {
            "_model_module": "@jupyter-widgets/base",
            "_model_module_version": "1.2.0",
            "_model_name": "LayoutModel",
            "_view_count": null,
            "_view_module": "@jupyter-widgets/base",
            "_view_module_version": "1.2.0",
            "_view_name": "LayoutView",
            "align_content": null,
            "align_items": null,
            "align_self": null,
            "border": null,
            "bottom": null,
            "display": null,
            "flex": null,
            "flex_flow": null,
            "grid_area": null,
            "grid_auto_columns": null,
            "grid_auto_flow": null,
            "grid_auto_rows": null,
            "grid_column": null,
            "grid_gap": null,
            "grid_row": null,
            "grid_template_areas": null,
            "grid_template_columns": null,
            "grid_template_rows": null,
            "height": null,
            "justify_content": null,
            "justify_items": null,
            "left": null,
            "margin": null,
            "max_height": null,
            "max_width": null,
            "min_height": null,
            "min_width": null,
            "object_fit": null,
            "object_position": null,
            "order": null,
            "overflow": null,
            "overflow_x": null,
            "overflow_y": null,
            "padding": null,
            "right": null,
            "top": null,
            "visibility": null,
            "width": null
          }
        },
        "94e06efc14ac47b6995dc5c2364c4746": {
          "model_module": "@jupyter-widgets/base",
          "model_module_version": "1.2.0",
          "model_name": "LayoutModel",
          "state": {
            "_model_module": "@jupyter-widgets/base",
            "_model_module_version": "1.2.0",
            "_model_name": "LayoutModel",
            "_view_count": null,
            "_view_module": "@jupyter-widgets/base",
            "_view_module_version": "1.2.0",
            "_view_name": "LayoutView",
            "align_content": null,
            "align_items": null,
            "align_self": null,
            "border": null,
            "bottom": null,
            "display": null,
            "flex": null,
            "flex_flow": null,
            "grid_area": null,
            "grid_auto_columns": null,
            "grid_auto_flow": null,
            "grid_auto_rows": null,
            "grid_column": null,
            "grid_gap": null,
            "grid_row": null,
            "grid_template_areas": null,
            "grid_template_columns": null,
            "grid_template_rows": null,
            "height": null,
            "justify_content": null,
            "justify_items": null,
            "left": null,
            "margin": null,
            "max_height": null,
            "max_width": null,
            "min_height": null,
            "min_width": null,
            "object_fit": null,
            "object_position": null,
            "order": null,
            "overflow": null,
            "overflow_x": null,
            "overflow_y": null,
            "padding": null,
            "right": null,
            "top": null,
            "visibility": null,
            "width": null
          }
        },
        "972d204a1bb84901b9e9cba82d8fccea": {
          "model_module": "@jupyter-widgets/controls",
          "model_module_version": "1.5.0",
          "model_name": "HTMLModel",
          "state": {
            "_dom_classes": [],
            "_model_module": "@jupyter-widgets/controls",
            "_model_module_version": "1.5.0",
            "_model_name": "HTMLModel",
            "_view_count": null,
            "_view_module": "@jupyter-widgets/controls",
            "_view_module_version": "1.5.0",
            "_view_name": "HTMLView",
            "description": "",
            "description_tooltip": null,
            "layout": "IPY_MODEL_fb6ee1e15e274d9c9d2f0abb2c0f6b97",
            "placeholder": "​",
            "style": "IPY_MODEL_06bbb8f22854472eab972953fc04779f",
            "value": " 350/350 [00:00&lt;00:00, 21.4kB/s]"
          }
        },
        "98460034ef7b4de896756a55dd34a8de": {
          "model_module": "@jupyter-widgets/controls",
          "model_module_version": "1.5.0",
          "model_name": "HTMLModel",
          "state": {
            "_dom_classes": [],
            "_model_module": "@jupyter-widgets/controls",
            "_model_module_version": "1.5.0",
            "_model_name": "HTMLModel",
            "_view_count": null,
            "_view_module": "@jupyter-widgets/controls",
            "_view_module_version": "1.5.0",
            "_view_name": "HTMLView",
            "description": "",
            "description_tooltip": null,
            "layout": "IPY_MODEL_cf99c9c09c4b46abb1cb01615559b80e",
            "placeholder": "​",
            "style": "IPY_MODEL_f219e1bdf0504a078af32f3f361b71bf",
            "value": "Downloading (…)cial_tokens_map.json: 100%"
          }
        },
        "98e5968c75cf4177835539cbae0d0d9a": {
          "model_module": "@jupyter-widgets/base",
          "model_module_version": "1.2.0",
          "model_name": "LayoutModel",
          "state": {
            "_model_module": "@jupyter-widgets/base",
            "_model_module_version": "1.2.0",
            "_model_name": "LayoutModel",
            "_view_count": null,
            "_view_module": "@jupyter-widgets/base",
            "_view_module_version": "1.2.0",
            "_view_name": "LayoutView",
            "align_content": null,
            "align_items": null,
            "align_self": null,
            "border": null,
            "bottom": null,
            "display": null,
            "flex": null,
            "flex_flow": null,
            "grid_area": null,
            "grid_auto_columns": null,
            "grid_auto_flow": null,
            "grid_auto_rows": null,
            "grid_column": null,
            "grid_gap": null,
            "grid_row": null,
            "grid_template_areas": null,
            "grid_template_columns": null,
            "grid_template_rows": null,
            "height": null,
            "justify_content": null,
            "justify_items": null,
            "left": null,
            "margin": null,
            "max_height": null,
            "max_width": null,
            "min_height": null,
            "min_width": null,
            "object_fit": null,
            "object_position": null,
            "order": null,
            "overflow": null,
            "overflow_x": null,
            "overflow_y": null,
            "padding": null,
            "right": null,
            "top": null,
            "visibility": null,
            "width": null
          }
        },
        "98f66ef12b284987aaf104f80a00de35": {
          "model_module": "@jupyter-widgets/controls",
          "model_module_version": "1.5.0",
          "model_name": "HBoxModel",
          "state": {
            "_dom_classes": [],
            "_model_module": "@jupyter-widgets/controls",
            "_model_module_version": "1.5.0",
            "_model_name": "HBoxModel",
            "_view_count": null,
            "_view_module": "@jupyter-widgets/controls",
            "_view_module_version": "1.5.0",
            "_view_name": "HBoxView",
            "box_style": "",
            "children": [
              "IPY_MODEL_5e2aaf268f594809a7b15c8d32f4a440",
              "IPY_MODEL_c0d9f7a2c8484ba587ece26c034598b9",
              "IPY_MODEL_f080cb1e2ced4a1c9a35a5dbac43bb93"
            ],
            "layout": "IPY_MODEL_4ac559405ca546f48ec711e10c7e93bf"
          }
        },
        "9a750805f6d44b8184335107ccf681a6": {
          "model_module": "@jupyter-widgets/controls",
          "model_module_version": "1.5.0",
          "model_name": "HTMLModel",
          "state": {
            "_dom_classes": [],
            "_model_module": "@jupyter-widgets/controls",
            "_model_module_version": "1.5.0",
            "_model_name": "HTMLModel",
            "_view_count": null,
            "_view_module": "@jupyter-widgets/controls",
            "_view_module_version": "1.5.0",
            "_view_name": "HTMLView",
            "description": "",
            "description_tooltip": null,
            "layout": "IPY_MODEL_98e5968c75cf4177835539cbae0d0d9a",
            "placeholder": "​",
            "style": "IPY_MODEL_10b0abf0f1514d8581ee31d799f9b3a9",
            "value": " 53.0/53.0 [00:00&lt;00:00, 3.79kB/s]"
          }
        },
        "9bee58f150e34fa0a8dccd5b1e32c89f": {
          "model_module": "@jupyter-widgets/base",
          "model_module_version": "1.2.0",
          "model_name": "LayoutModel",
          "state": {
            "_model_module": "@jupyter-widgets/base",
            "_model_module_version": "1.2.0",
            "_model_name": "LayoutModel",
            "_view_count": null,
            "_view_module": "@jupyter-widgets/base",
            "_view_module_version": "1.2.0",
            "_view_name": "LayoutView",
            "align_content": null,
            "align_items": null,
            "align_self": null,
            "border": null,
            "bottom": null,
            "display": null,
            "flex": null,
            "flex_flow": null,
            "grid_area": null,
            "grid_auto_columns": null,
            "grid_auto_flow": null,
            "grid_auto_rows": null,
            "grid_column": null,
            "grid_gap": null,
            "grid_row": null,
            "grid_template_areas": null,
            "grid_template_columns": null,
            "grid_template_rows": null,
            "height": null,
            "justify_content": null,
            "justify_items": null,
            "left": null,
            "margin": null,
            "max_height": null,
            "max_width": null,
            "min_height": null,
            "min_width": null,
            "object_fit": null,
            "object_position": null,
            "order": null,
            "overflow": null,
            "overflow_x": null,
            "overflow_y": null,
            "padding": null,
            "right": null,
            "top": null,
            "visibility": null,
            "width": null
          }
        },
        "9d06ee3b4e8e4180a94f57acf88a2b1c": {
          "model_module": "@jupyter-widgets/controls",
          "model_module_version": "1.5.0",
          "model_name": "HTMLModel",
          "state": {
            "_dom_classes": [],
            "_model_module": "@jupyter-widgets/controls",
            "_model_module_version": "1.5.0",
            "_model_name": "HTMLModel",
            "_view_count": null,
            "_view_module": "@jupyter-widgets/controls",
            "_view_module_version": "1.5.0",
            "_view_name": "HTMLView",
            "description": "",
            "description_tooltip": null,
            "layout": "IPY_MODEL_ca6830b94e494afdb62c03e10883c2ce",
            "placeholder": "​",
            "style": "IPY_MODEL_7aa299f9796b4f04a6fb009ac3f16b83",
            "value": " 39.3k/39.3k [00:00&lt;00:00, 447kB/s]"
          }
        },
        "9f012e5bb04444979291be343e44242f": {
          "model_module": "@jupyter-widgets/base",
          "model_module_version": "1.2.0",
          "model_name": "LayoutModel",
          "state": {
            "_model_module": "@jupyter-widgets/base",
            "_model_module_version": "1.2.0",
            "_model_name": "LayoutModel",
            "_view_count": null,
            "_view_module": "@jupyter-widgets/base",
            "_view_module_version": "1.2.0",
            "_view_name": "LayoutView",
            "align_content": null,
            "align_items": null,
            "align_self": null,
            "border": null,
            "bottom": null,
            "display": null,
            "flex": null,
            "flex_flow": null,
            "grid_area": null,
            "grid_auto_columns": null,
            "grid_auto_flow": null,
            "grid_auto_rows": null,
            "grid_column": null,
            "grid_gap": null,
            "grid_row": null,
            "grid_template_areas": null,
            "grid_template_columns": null,
            "grid_template_rows": null,
            "height": null,
            "justify_content": null,
            "justify_items": null,
            "left": null,
            "margin": null,
            "max_height": null,
            "max_width": null,
            "min_height": null,
            "min_width": null,
            "object_fit": null,
            "object_position": null,
            "order": null,
            "overflow": null,
            "overflow_x": null,
            "overflow_y": null,
            "padding": null,
            "right": null,
            "top": null,
            "visibility": null,
            "width": null
          }
        },
        "a30c2e6ecba1499ca668758139efc2b7": {
          "model_module": "@jupyter-widgets/controls",
          "model_module_version": "1.5.0",
          "model_name": "HTMLModel",
          "state": {
            "_dom_classes": [],
            "_model_module": "@jupyter-widgets/controls",
            "_model_module_version": "1.5.0",
            "_model_name": "HTMLModel",
            "_view_count": null,
            "_view_module": "@jupyter-widgets/controls",
            "_view_module_version": "1.5.0",
            "_view_name": "HTMLView",
            "description": "",
            "description_tooltip": null,
            "layout": "IPY_MODEL_f8014f54dedd419386ef3929a68bcb7f",
            "placeholder": "​",
            "style": "IPY_MODEL_e7c9e4014ca740c8a279aa2e68f8f9dc",
            "value": "Downloading (…)9125/train_script.py: 100%"
          }
        },
        "a341f850282c49bab40176e317295d46": {
          "model_module": "@jupyter-widgets/base",
          "model_module_version": "1.2.0",
          "model_name": "LayoutModel",
          "state": {
            "_model_module": "@jupyter-widgets/base",
            "_model_module_version": "1.2.0",
            "_model_name": "LayoutModel",
            "_view_count": null,
            "_view_module": "@jupyter-widgets/base",
            "_view_module_version": "1.2.0",
            "_view_name": "LayoutView",
            "align_content": null,
            "align_items": null,
            "align_self": null,
            "border": null,
            "bottom": null,
            "display": null,
            "flex": null,
            "flex_flow": null,
            "grid_area": null,
            "grid_auto_columns": null,
            "grid_auto_flow": null,
            "grid_auto_rows": null,
            "grid_column": null,
            "grid_gap": null,
            "grid_row": null,
            "grid_template_areas": null,
            "grid_template_columns": null,
            "grid_template_rows": null,
            "height": null,
            "justify_content": null,
            "justify_items": null,
            "left": null,
            "margin": null,
            "max_height": null,
            "max_width": null,
            "min_height": null,
            "min_width": null,
            "object_fit": null,
            "object_position": null,
            "order": null,
            "overflow": null,
            "overflow_x": null,
            "overflow_y": null,
            "padding": null,
            "right": null,
            "top": null,
            "visibility": null,
            "width": null
          }
        },
        "a65d7596f12c446884958e19f175d76b": {
          "model_module": "@jupyter-widgets/base",
          "model_module_version": "1.2.0",
          "model_name": "LayoutModel",
          "state": {
            "_model_module": "@jupyter-widgets/base",
            "_model_module_version": "1.2.0",
            "_model_name": "LayoutModel",
            "_view_count": null,
            "_view_module": "@jupyter-widgets/base",
            "_view_module_version": "1.2.0",
            "_view_name": "LayoutView",
            "align_content": null,
            "align_items": null,
            "align_self": null,
            "border": null,
            "bottom": null,
            "display": null,
            "flex": null,
            "flex_flow": null,
            "grid_area": null,
            "grid_auto_columns": null,
            "grid_auto_flow": null,
            "grid_auto_rows": null,
            "grid_column": null,
            "grid_gap": null,
            "grid_row": null,
            "grid_template_areas": null,
            "grid_template_columns": null,
            "grid_template_rows": null,
            "height": null,
            "justify_content": null,
            "justify_items": null,
            "left": null,
            "margin": null,
            "max_height": null,
            "max_width": null,
            "min_height": null,
            "min_width": null,
            "object_fit": null,
            "object_position": null,
            "order": null,
            "overflow": null,
            "overflow_x": null,
            "overflow_y": null,
            "padding": null,
            "right": null,
            "top": null,
            "visibility": null,
            "width": null
          }
        },
        "a724e0c7a2ea4352b169464e8b53db19": {
          "model_module": "@jupyter-widgets/controls",
          "model_module_version": "1.5.0",
          "model_name": "DescriptionStyleModel",
          "state": {
            "_model_module": "@jupyter-widgets/controls",
            "_model_module_version": "1.5.0",
            "_model_name": "DescriptionStyleModel",
            "_view_count": null,
            "_view_module": "@jupyter-widgets/base",
            "_view_module_version": "1.2.0",
            "_view_name": "StyleView",
            "description_width": ""
          }
        },
        "a7ef9ca4855c4c42acec599a3c1d007a": {
          "model_module": "@jupyter-widgets/controls",
          "model_module_version": "1.5.0",
          "model_name": "HTMLModel",
          "state": {
            "_dom_classes": [],
            "_model_module": "@jupyter-widgets/controls",
            "_model_module_version": "1.5.0",
            "_model_name": "HTMLModel",
            "_view_count": null,
            "_view_module": "@jupyter-widgets/controls",
            "_view_module_version": "1.5.0",
            "_view_name": "HTMLView",
            "description": "",
            "description_tooltip": null,
            "layout": "IPY_MODEL_9f012e5bb04444979291be343e44242f",
            "placeholder": "​",
            "style": "IPY_MODEL_f2fd1611f6144e258cd4957c8f6a424a",
            "value": " 90.9M/90.9M [00:00&lt;00:00, 174MB/s]"
          }
        },
        "a829ddb88c9f4ea6ab4efa55bd212b64": {
          "model_module": "@jupyter-widgets/controls",
          "model_module_version": "1.5.0",
          "model_name": "DescriptionStyleModel",
          "state": {
            "_model_module": "@jupyter-widgets/controls",
            "_model_module_version": "1.5.0",
            "_model_name": "DescriptionStyleModel",
            "_view_count": null,
            "_view_module": "@jupyter-widgets/base",
            "_view_module_version": "1.2.0",
            "_view_name": "StyleView",
            "description_width": ""
          }
        },
        "a8f219822cd74446ac6a67b2b001338d": {
          "model_module": "@jupyter-widgets/controls",
          "model_module_version": "1.5.0",
          "model_name": "HTMLModel",
          "state": {
            "_dom_classes": [],
            "_model_module": "@jupyter-widgets/controls",
            "_model_module_version": "1.5.0",
            "_model_name": "HTMLModel",
            "_view_count": null,
            "_view_module": "@jupyter-widgets/controls",
            "_view_module_version": "1.5.0",
            "_view_name": "HTMLView",
            "description": "",
            "description_tooltip": null,
            "layout": "IPY_MODEL_820fb9a6f62f4514b32cce68ba73a91a",
            "placeholder": "​",
            "style": "IPY_MODEL_2004814a848c4fe8a2e10fe30a720db0",
            "value": " 112/112 [00:00&lt;00:00, 7.83kB/s]"
          }
        },
        "a92caa28d1584ed681960467c8b4b8c1": {
          "model_module": "@jupyter-widgets/base",
          "model_module_version": "1.2.0",
          "model_name": "LayoutModel",
          "state": {
            "_model_module": "@jupyter-widgets/base",
            "_model_module_version": "1.2.0",
            "_model_name": "LayoutModel",
            "_view_count": null,
            "_view_module": "@jupyter-widgets/base",
            "_view_module_version": "1.2.0",
            "_view_name": "LayoutView",
            "align_content": null,
            "align_items": null,
            "align_self": null,
            "border": null,
            "bottom": null,
            "display": null,
            "flex": null,
            "flex_flow": null,
            "grid_area": null,
            "grid_auto_columns": null,
            "grid_auto_flow": null,
            "grid_auto_rows": null,
            "grid_column": null,
            "grid_gap": null,
            "grid_row": null,
            "grid_template_areas": null,
            "grid_template_columns": null,
            "grid_template_rows": null,
            "height": null,
            "justify_content": null,
            "justify_items": null,
            "left": null,
            "margin": null,
            "max_height": null,
            "max_width": null,
            "min_height": null,
            "min_width": null,
            "object_fit": null,
            "object_position": null,
            "order": null,
            "overflow": null,
            "overflow_x": null,
            "overflow_y": null,
            "padding": null,
            "right": null,
            "top": null,
            "visibility": null,
            "width": null
          }
        },
        "a956e5e96a4d4cfab31f50aab266bd06": {
          "model_module": "@jupyter-widgets/controls",
          "model_module_version": "1.5.0",
          "model_name": "HBoxModel",
          "state": {
            "_dom_classes": [],
            "_model_module": "@jupyter-widgets/controls",
            "_model_module_version": "1.5.0",
            "_model_name": "HBoxModel",
            "_view_count": null,
            "_view_module": "@jupyter-widgets/controls",
            "_view_module_version": "1.5.0",
            "_view_name": "HBoxView",
            "box_style": "",
            "children": [
              "IPY_MODEL_0fd84d59bc4640ce94298cd8e561924d",
              "IPY_MODEL_e09905e2ce8146f2b154eed0a23db1ec",
              "IPY_MODEL_9d06ee3b4e8e4180a94f57acf88a2b1c"
            ],
            "layout": "IPY_MODEL_6ada8151e8db4a76b67844787a4ec5dc"
          }
        },
        "ac3c9cee4e71400289ad5dbcc44086e3": {
          "model_module": "@jupyter-widgets/base",
          "model_module_version": "1.2.0",
          "model_name": "LayoutModel",
          "state": {
            "_model_module": "@jupyter-widgets/base",
            "_model_module_version": "1.2.0",
            "_model_name": "LayoutModel",
            "_view_count": null,
            "_view_module": "@jupyter-widgets/base",
            "_view_module_version": "1.2.0",
            "_view_name": "LayoutView",
            "align_content": null,
            "align_items": null,
            "align_self": null,
            "border": null,
            "bottom": null,
            "display": null,
            "flex": null,
            "flex_flow": null,
            "grid_area": null,
            "grid_auto_columns": null,
            "grid_auto_flow": null,
            "grid_auto_rows": null,
            "grid_column": null,
            "grid_gap": null,
            "grid_row": null,
            "grid_template_areas": null,
            "grid_template_columns": null,
            "grid_template_rows": null,
            "height": null,
            "justify_content": null,
            "justify_items": null,
            "left": null,
            "margin": null,
            "max_height": null,
            "max_width": null,
            "min_height": null,
            "min_width": null,
            "object_fit": null,
            "object_position": null,
            "order": null,
            "overflow": null,
            "overflow_x": null,
            "overflow_y": null,
            "padding": null,
            "right": null,
            "top": null,
            "visibility": null,
            "width": null
          }
        },
        "afb45ace5f0647f79a107e67a88c912c": {
          "model_module": "@jupyter-widgets/controls",
          "model_module_version": "1.5.0",
          "model_name": "HBoxModel",
          "state": {
            "_dom_classes": [],
            "_model_module": "@jupyter-widgets/controls",
            "_model_module_version": "1.5.0",
            "_model_name": "HBoxModel",
            "_view_count": null,
            "_view_module": "@jupyter-widgets/controls",
            "_view_module_version": "1.5.0",
            "_view_name": "HBoxView",
            "box_style": "",
            "children": [
              "IPY_MODEL_05496f35aa4247c6955ee794e6c0f431",
              "IPY_MODEL_1c731b2746c548308b2005e11c47f6a3",
              "IPY_MODEL_a7ef9ca4855c4c42acec599a3c1d007a"
            ],
            "layout": "IPY_MODEL_a341f850282c49bab40176e317295d46"
          }
        },
        "b1d5e00f594f4450aa940fc59826ca2a": {
          "model_module": "@jupyter-widgets/controls",
          "model_module_version": "1.5.0",
          "model_name": "DescriptionStyleModel",
          "state": {
            "_model_module": "@jupyter-widgets/controls",
            "_model_module_version": "1.5.0",
            "_model_name": "DescriptionStyleModel",
            "_view_count": null,
            "_view_module": "@jupyter-widgets/base",
            "_view_module_version": "1.2.0",
            "_view_name": "StyleView",
            "description_width": ""
          }
        },
        "b739f5c8a31f4484867531a3cd5be1a5": {
          "model_module": "@jupyter-widgets/controls",
          "model_module_version": "1.5.0",
          "model_name": "ProgressStyleModel",
          "state": {
            "_model_module": "@jupyter-widgets/controls",
            "_model_module_version": "1.5.0",
            "_model_name": "ProgressStyleModel",
            "_view_count": null,
            "_view_module": "@jupyter-widgets/base",
            "_view_module_version": "1.2.0",
            "_view_name": "StyleView",
            "bar_color": null,
            "description_width": ""
          }
        },
        "b8dc127816f6491b900ca8158a79a15b": {
          "model_module": "@jupyter-widgets/controls",
          "model_module_version": "1.5.0",
          "model_name": "DescriptionStyleModel",
          "state": {
            "_model_module": "@jupyter-widgets/controls",
            "_model_module_version": "1.5.0",
            "_model_name": "DescriptionStyleModel",
            "_view_count": null,
            "_view_module": "@jupyter-widgets/base",
            "_view_module_version": "1.2.0",
            "_view_name": "StyleView",
            "description_width": ""
          }
        },
        "bbd8bc3923a24791b816fd89103fc466": {
          "model_module": "@jupyter-widgets/controls",
          "model_module_version": "1.5.0",
          "model_name": "HBoxModel",
          "state": {
            "_dom_classes": [],
            "_model_module": "@jupyter-widgets/controls",
            "_model_module_version": "1.5.0",
            "_model_name": "HBoxModel",
            "_view_count": null,
            "_view_module": "@jupyter-widgets/controls",
            "_view_module_version": "1.5.0",
            "_view_name": "HBoxView",
            "box_style": "",
            "children": [
              "IPY_MODEL_26a1c30740174fd4b71531f22024a1ce",
              "IPY_MODEL_58e0a891d72d407fa2396cda17a9e41f",
              "IPY_MODEL_8b7bc7e9fe6642889416bb67198c1541"
            ],
            "layout": "IPY_MODEL_c9f35d83061d47e0909051672b3ab392"
          }
        },
        "bed3962b7c8c4cc2b85b2c4971b13b0a": {
          "model_module": "@jupyter-widgets/controls",
          "model_module_version": "1.5.0",
          "model_name": "HBoxModel",
          "state": {
            "_dom_classes": [],
            "_model_module": "@jupyter-widgets/controls",
            "_model_module_version": "1.5.0",
            "_model_name": "HBoxModel",
            "_view_count": null,
            "_view_module": "@jupyter-widgets/controls",
            "_view_module_version": "1.5.0",
            "_view_name": "HBoxView",
            "box_style": "",
            "children": [
              "IPY_MODEL_01966cfede4342f392ee0db6786f52e8",
              "IPY_MODEL_126aca4fb8364e79a82becaef00df277",
              "IPY_MODEL_d7808867c37e41e689b41942ee4f80f5"
            ],
            "layout": "IPY_MODEL_5b7bb9eb08994aeab6c788a3fbadb984"
          }
        },
        "bf0ca4d7968340a4a66e1217ec1170fa": {
          "model_module": "@jupyter-widgets/base",
          "model_module_version": "1.2.0",
          "model_name": "LayoutModel",
          "state": {
            "_model_module": "@jupyter-widgets/base",
            "_model_module_version": "1.2.0",
            "_model_name": "LayoutModel",
            "_view_count": null,
            "_view_module": "@jupyter-widgets/base",
            "_view_module_version": "1.2.0",
            "_view_name": "LayoutView",
            "align_content": null,
            "align_items": null,
            "align_self": null,
            "border": null,
            "bottom": null,
            "display": null,
            "flex": null,
            "flex_flow": null,
            "grid_area": null,
            "grid_auto_columns": null,
            "grid_auto_flow": null,
            "grid_auto_rows": null,
            "grid_column": null,
            "grid_gap": null,
            "grid_row": null,
            "grid_template_areas": null,
            "grid_template_columns": null,
            "grid_template_rows": null,
            "height": null,
            "justify_content": null,
            "justify_items": null,
            "left": null,
            "margin": null,
            "max_height": null,
            "max_width": null,
            "min_height": null,
            "min_width": null,
            "object_fit": null,
            "object_position": null,
            "order": null,
            "overflow": null,
            "overflow_x": null,
            "overflow_y": null,
            "padding": null,
            "right": null,
            "top": null,
            "visibility": null,
            "width": null
          }
        },
        "c0937dae19fe4a0abe7b376df55443ba": {
          "model_module": "@jupyter-widgets/base",
          "model_module_version": "1.2.0",
          "model_name": "LayoutModel",
          "state": {
            "_model_module": "@jupyter-widgets/base",
            "_model_module_version": "1.2.0",
            "_model_name": "LayoutModel",
            "_view_count": null,
            "_view_module": "@jupyter-widgets/base",
            "_view_module_version": "1.2.0",
            "_view_name": "LayoutView",
            "align_content": null,
            "align_items": null,
            "align_self": null,
            "border": null,
            "bottom": null,
            "display": null,
            "flex": null,
            "flex_flow": null,
            "grid_area": null,
            "grid_auto_columns": null,
            "grid_auto_flow": null,
            "grid_auto_rows": null,
            "grid_column": null,
            "grid_gap": null,
            "grid_row": null,
            "grid_template_areas": null,
            "grid_template_columns": null,
            "grid_template_rows": null,
            "height": null,
            "justify_content": null,
            "justify_items": null,
            "left": null,
            "margin": null,
            "max_height": null,
            "max_width": null,
            "min_height": null,
            "min_width": null,
            "object_fit": null,
            "object_position": null,
            "order": null,
            "overflow": null,
            "overflow_x": null,
            "overflow_y": null,
            "padding": null,
            "right": null,
            "top": null,
            "visibility": null,
            "width": null
          }
        },
        "c0d9f7a2c8484ba587ece26c034598b9": {
          "model_module": "@jupyter-widgets/controls",
          "model_module_version": "1.5.0",
          "model_name": "FloatProgressModel",
          "state": {
            "_dom_classes": [],
            "_model_module": "@jupyter-widgets/controls",
            "_model_module_version": "1.5.0",
            "_model_name": "FloatProgressModel",
            "_view_count": null,
            "_view_module": "@jupyter-widgets/controls",
            "_view_module_version": "1.5.0",
            "_view_name": "ProgressView",
            "bar_style": "success",
            "description": "",
            "description_tooltip": null,
            "layout": "IPY_MODEL_e5cd83db0ede4fff9b4f5de0b0c51dc8",
            "max": 349,
            "min": 0,
            "orientation": "horizontal",
            "style": "IPY_MODEL_b739f5c8a31f4484867531a3cd5be1a5",
            "value": 349
          }
        },
        "c307b14262b1420793eeb78e70289007": {
          "model_module": "@jupyter-widgets/controls",
          "model_module_version": "1.5.0",
          "model_name": "HBoxModel",
          "state": {
            "_dom_classes": [],
            "_model_module": "@jupyter-widgets/controls",
            "_model_module_version": "1.5.0",
            "_model_name": "HBoxModel",
            "_view_count": null,
            "_view_module": "@jupyter-widgets/controls",
            "_view_module_version": "1.5.0",
            "_view_name": "HBoxView",
            "box_style": "",
            "children": [
              "IPY_MODEL_6a844dd1982f45b1a395609acec1194d",
              "IPY_MODEL_00e62eb747bf448f833ff09dbc71525d",
              "IPY_MODEL_972d204a1bb84901b9e9cba82d8fccea"
            ],
            "layout": "IPY_MODEL_9bee58f150e34fa0a8dccd5b1e32c89f"
          }
        },
        "c353e067282d4a4dbb9877c441703898": {
          "model_module": "@jupyter-widgets/controls",
          "model_module_version": "1.5.0",
          "model_name": "ProgressStyleModel",
          "state": {
            "_model_module": "@jupyter-widgets/controls",
            "_model_module_version": "1.5.0",
            "_model_name": "ProgressStyleModel",
            "_view_count": null,
            "_view_module": "@jupyter-widgets/base",
            "_view_module_version": "1.2.0",
            "_view_name": "StyleView",
            "bar_color": null,
            "description_width": ""
          }
        },
        "c484b2a8267c470d9112e2c64060473f": {
          "model_module": "@jupyter-widgets/controls",
          "model_module_version": "1.5.0",
          "model_name": "DescriptionStyleModel",
          "state": {
            "_model_module": "@jupyter-widgets/controls",
            "_model_module_version": "1.5.0",
            "_model_name": "DescriptionStyleModel",
            "_view_count": null,
            "_view_module": "@jupyter-widgets/base",
            "_view_module_version": "1.2.0",
            "_view_name": "StyleView",
            "description_width": ""
          }
        },
        "c4f81e71fe254a91a684b3cae21384a0": {
          "model_module": "@jupyter-widgets/base",
          "model_module_version": "1.2.0",
          "model_name": "LayoutModel",
          "state": {
            "_model_module": "@jupyter-widgets/base",
            "_model_module_version": "1.2.0",
            "_model_name": "LayoutModel",
            "_view_count": null,
            "_view_module": "@jupyter-widgets/base",
            "_view_module_version": "1.2.0",
            "_view_name": "LayoutView",
            "align_content": null,
            "align_items": null,
            "align_self": null,
            "border": null,
            "bottom": null,
            "display": null,
            "flex": null,
            "flex_flow": null,
            "grid_area": null,
            "grid_auto_columns": null,
            "grid_auto_flow": null,
            "grid_auto_rows": null,
            "grid_column": null,
            "grid_gap": null,
            "grid_row": null,
            "grid_template_areas": null,
            "grid_template_columns": null,
            "grid_template_rows": null,
            "height": null,
            "justify_content": null,
            "justify_items": null,
            "left": null,
            "margin": null,
            "max_height": null,
            "max_width": null,
            "min_height": null,
            "min_width": null,
            "object_fit": null,
            "object_position": null,
            "order": null,
            "overflow": null,
            "overflow_x": null,
            "overflow_y": null,
            "padding": null,
            "right": null,
            "top": null,
            "visibility": null,
            "width": null
          }
        },
        "c9f35d83061d47e0909051672b3ab392": {
          "model_module": "@jupyter-widgets/base",
          "model_module_version": "1.2.0",
          "model_name": "LayoutModel",
          "state": {
            "_model_module": "@jupyter-widgets/base",
            "_model_module_version": "1.2.0",
            "_model_name": "LayoutModel",
            "_view_count": null,
            "_view_module": "@jupyter-widgets/base",
            "_view_module_version": "1.2.0",
            "_view_name": "LayoutView",
            "align_content": null,
            "align_items": null,
            "align_self": null,
            "border": null,
            "bottom": null,
            "display": null,
            "flex": null,
            "flex_flow": null,
            "grid_area": null,
            "grid_auto_columns": null,
            "grid_auto_flow": null,
            "grid_auto_rows": null,
            "grid_column": null,
            "grid_gap": null,
            "grid_row": null,
            "grid_template_areas": null,
            "grid_template_columns": null,
            "grid_template_rows": null,
            "height": null,
            "justify_content": null,
            "justify_items": null,
            "left": null,
            "margin": null,
            "max_height": null,
            "max_width": null,
            "min_height": null,
            "min_width": null,
            "object_fit": null,
            "object_position": null,
            "order": null,
            "overflow": null,
            "overflow_x": null,
            "overflow_y": null,
            "padding": null,
            "right": null,
            "top": null,
            "visibility": null,
            "width": null
          }
        },
        "ca6830b94e494afdb62c03e10883c2ce": {
          "model_module": "@jupyter-widgets/base",
          "model_module_version": "1.2.0",
          "model_name": "LayoutModel",
          "state": {
            "_model_module": "@jupyter-widgets/base",
            "_model_module_version": "1.2.0",
            "_model_name": "LayoutModel",
            "_view_count": null,
            "_view_module": "@jupyter-widgets/base",
            "_view_module_version": "1.2.0",
            "_view_name": "LayoutView",
            "align_content": null,
            "align_items": null,
            "align_self": null,
            "border": null,
            "bottom": null,
            "display": null,
            "flex": null,
            "flex_flow": null,
            "grid_area": null,
            "grid_auto_columns": null,
            "grid_auto_flow": null,
            "grid_auto_rows": null,
            "grid_column": null,
            "grid_gap": null,
            "grid_row": null,
            "grid_template_areas": null,
            "grid_template_columns": null,
            "grid_template_rows": null,
            "height": null,
            "justify_content": null,
            "justify_items": null,
            "left": null,
            "margin": null,
            "max_height": null,
            "max_width": null,
            "min_height": null,
            "min_width": null,
            "object_fit": null,
            "object_position": null,
            "order": null,
            "overflow": null,
            "overflow_x": null,
            "overflow_y": null,
            "padding": null,
            "right": null,
            "top": null,
            "visibility": null,
            "width": null
          }
        },
        "cd633c2e351e4fa896a0a8b57a7ec127": {
          "model_module": "@jupyter-widgets/base",
          "model_module_version": "1.2.0",
          "model_name": "LayoutModel",
          "state": {
            "_model_module": "@jupyter-widgets/base",
            "_model_module_version": "1.2.0",
            "_model_name": "LayoutModel",
            "_view_count": null,
            "_view_module": "@jupyter-widgets/base",
            "_view_module_version": "1.2.0",
            "_view_name": "LayoutView",
            "align_content": null,
            "align_items": null,
            "align_self": null,
            "border": null,
            "bottom": null,
            "display": null,
            "flex": null,
            "flex_flow": null,
            "grid_area": null,
            "grid_auto_columns": null,
            "grid_auto_flow": null,
            "grid_auto_rows": null,
            "grid_column": null,
            "grid_gap": null,
            "grid_row": null,
            "grid_template_areas": null,
            "grid_template_columns": null,
            "grid_template_rows": null,
            "height": null,
            "justify_content": null,
            "justify_items": null,
            "left": null,
            "margin": null,
            "max_height": null,
            "max_width": null,
            "min_height": null,
            "min_width": null,
            "object_fit": null,
            "object_position": null,
            "order": null,
            "overflow": null,
            "overflow_x": null,
            "overflow_y": null,
            "padding": null,
            "right": null,
            "top": null,
            "visibility": null,
            "width": null
          }
        },
        "ce532e63ae504e418d10058b11485962": {
          "model_module": "@jupyter-widgets/controls",
          "model_module_version": "1.5.0",
          "model_name": "DescriptionStyleModel",
          "state": {
            "_model_module": "@jupyter-widgets/controls",
            "_model_module_version": "1.5.0",
            "_model_name": "DescriptionStyleModel",
            "_view_count": null,
            "_view_module": "@jupyter-widgets/base",
            "_view_module_version": "1.2.0",
            "_view_name": "StyleView",
            "description_width": ""
          }
        },
        "cf5ed93c89d2418592a84d02170958a6": {
          "model_module": "@jupyter-widgets/controls",
          "model_module_version": "1.5.0",
          "model_name": "DescriptionStyleModel",
          "state": {
            "_model_module": "@jupyter-widgets/controls",
            "_model_module_version": "1.5.0",
            "_model_name": "DescriptionStyleModel",
            "_view_count": null,
            "_view_module": "@jupyter-widgets/base",
            "_view_module_version": "1.2.0",
            "_view_name": "StyleView",
            "description_width": ""
          }
        },
        "cf99c9c09c4b46abb1cb01615559b80e": {
          "model_module": "@jupyter-widgets/base",
          "model_module_version": "1.2.0",
          "model_name": "LayoutModel",
          "state": {
            "_model_module": "@jupyter-widgets/base",
            "_model_module_version": "1.2.0",
            "_model_name": "LayoutModel",
            "_view_count": null,
            "_view_module": "@jupyter-widgets/base",
            "_view_module_version": "1.2.0",
            "_view_name": "LayoutView",
            "align_content": null,
            "align_items": null,
            "align_self": null,
            "border": null,
            "bottom": null,
            "display": null,
            "flex": null,
            "flex_flow": null,
            "grid_area": null,
            "grid_auto_columns": null,
            "grid_auto_flow": null,
            "grid_auto_rows": null,
            "grid_column": null,
            "grid_gap": null,
            "grid_row": null,
            "grid_template_areas": null,
            "grid_template_columns": null,
            "grid_template_rows": null,
            "height": null,
            "justify_content": null,
            "justify_items": null,
            "left": null,
            "margin": null,
            "max_height": null,
            "max_width": null,
            "min_height": null,
            "min_width": null,
            "object_fit": null,
            "object_position": null,
            "order": null,
            "overflow": null,
            "overflow_x": null,
            "overflow_y": null,
            "padding": null,
            "right": null,
            "top": null,
            "visibility": null,
            "width": null
          }
        },
        "d5ab1a176cc44c2fb91efe6d463ebc8e": {
          "model_module": "@jupyter-widgets/controls",
          "model_module_version": "1.5.0",
          "model_name": "FloatProgressModel",
          "state": {
            "_dom_classes": [],
            "_model_module": "@jupyter-widgets/controls",
            "_model_module_version": "1.5.0",
            "_model_name": "FloatProgressModel",
            "_view_count": null,
            "_view_module": "@jupyter-widgets/controls",
            "_view_module_version": "1.5.0",
            "_view_name": "ProgressView",
            "bar_style": "success",
            "description": "",
            "description_tooltip": null,
            "layout": "IPY_MODEL_94e06efc14ac47b6995dc5c2364c4746",
            "max": 112,
            "min": 0,
            "orientation": "horizontal",
            "style": "IPY_MODEL_124139020a15454698272f4034772ab5",
            "value": 112
          }
        },
        "d7808867c37e41e689b41942ee4f80f5": {
          "model_module": "@jupyter-widgets/controls",
          "model_module_version": "1.5.0",
          "model_name": "HTMLModel",
          "state": {
            "_dom_classes": [],
            "_model_module": "@jupyter-widgets/controls",
            "_model_module_version": "1.5.0",
            "_model_name": "HTMLModel",
            "_view_count": null,
            "_view_module": "@jupyter-widgets/controls",
            "_view_module_version": "1.5.0",
            "_view_name": "HTMLView",
            "description": "",
            "description_tooltip": null,
            "layout": "IPY_MODEL_6a2a138c36414c55bb00fab87f25c358",
            "placeholder": "​",
            "style": "IPY_MODEL_b1d5e00f594f4450aa940fc59826ca2a",
            "value": " 612/612 [00:00&lt;00:00, 9.56kB/s]"
          }
        },
        "dd4f52b3d7fe4647a210b4471716026a": {
          "model_module": "@jupyter-widgets/controls",
          "model_module_version": "1.5.0",
          "model_name": "DescriptionStyleModel",
          "state": {
            "_model_module": "@jupyter-widgets/controls",
            "_model_module_version": "1.5.0",
            "_model_name": "DescriptionStyleModel",
            "_view_count": null,
            "_view_module": "@jupyter-widgets/base",
            "_view_module_version": "1.2.0",
            "_view_name": "StyleView",
            "description_width": ""
          }
        },
        "e09905e2ce8146f2b154eed0a23db1ec": {
          "model_module": "@jupyter-widgets/controls",
          "model_module_version": "1.5.0",
          "model_name": "FloatProgressModel",
          "state": {
            "_dom_classes": [],
            "_model_module": "@jupyter-widgets/controls",
            "_model_module_version": "1.5.0",
            "_model_name": "FloatProgressModel",
            "_view_count": null,
            "_view_module": "@jupyter-widgets/controls",
            "_view_module_version": "1.5.0",
            "_view_name": "ProgressView",
            "bar_style": "success",
            "description": "",
            "description_tooltip": null,
            "layout": "IPY_MODEL_a65d7596f12c446884958e19f175d76b",
            "max": 39265,
            "min": 0,
            "orientation": "horizontal",
            "style": "IPY_MODEL_4ce54970756141c69313adf0ea126b4b",
            "value": 39265
          }
        },
        "e5cd83db0ede4fff9b4f5de0b0c51dc8": {
          "model_module": "@jupyter-widgets/base",
          "model_module_version": "1.2.0",
          "model_name": "LayoutModel",
          "state": {
            "_model_module": "@jupyter-widgets/base",
            "_model_module_version": "1.2.0",
            "_model_name": "LayoutModel",
            "_view_count": null,
            "_view_module": "@jupyter-widgets/base",
            "_view_module_version": "1.2.0",
            "_view_name": "LayoutView",
            "align_content": null,
            "align_items": null,
            "align_self": null,
            "border": null,
            "bottom": null,
            "display": null,
            "flex": null,
            "flex_flow": null,
            "grid_area": null,
            "grid_auto_columns": null,
            "grid_auto_flow": null,
            "grid_auto_rows": null,
            "grid_column": null,
            "grid_gap": null,
            "grid_row": null,
            "grid_template_areas": null,
            "grid_template_columns": null,
            "grid_template_rows": null,
            "height": null,
            "justify_content": null,
            "justify_items": null,
            "left": null,
            "margin": null,
            "max_height": null,
            "max_width": null,
            "min_height": null,
            "min_width": null,
            "object_fit": null,
            "object_position": null,
            "order": null,
            "overflow": null,
            "overflow_x": null,
            "overflow_y": null,
            "padding": null,
            "right": null,
            "top": null,
            "visibility": null,
            "width": null
          }
        },
        "e7c9e4014ca740c8a279aa2e68f8f9dc": {
          "model_module": "@jupyter-widgets/controls",
          "model_module_version": "1.5.0",
          "model_name": "DescriptionStyleModel",
          "state": {
            "_model_module": "@jupyter-widgets/controls",
            "_model_module_version": "1.5.0",
            "_model_name": "DescriptionStyleModel",
            "_view_count": null,
            "_view_module": "@jupyter-widgets/base",
            "_view_module_version": "1.2.0",
            "_view_name": "StyleView",
            "description_width": ""
          }
        },
        "e9527fc61e9c4d24a13b0422b60158be": {
          "model_module": "@jupyter-widgets/base",
          "model_module_version": "1.2.0",
          "model_name": "LayoutModel",
          "state": {
            "_model_module": "@jupyter-widgets/base",
            "_model_module_version": "1.2.0",
            "_model_name": "LayoutModel",
            "_view_count": null,
            "_view_module": "@jupyter-widgets/base",
            "_view_module_version": "1.2.0",
            "_view_name": "LayoutView",
            "align_content": null,
            "align_items": null,
            "align_self": null,
            "border": null,
            "bottom": null,
            "display": null,
            "flex": null,
            "flex_flow": null,
            "grid_area": null,
            "grid_auto_columns": null,
            "grid_auto_flow": null,
            "grid_auto_rows": null,
            "grid_column": null,
            "grid_gap": null,
            "grid_row": null,
            "grid_template_areas": null,
            "grid_template_columns": null,
            "grid_template_rows": null,
            "height": null,
            "justify_content": null,
            "justify_items": null,
            "left": null,
            "margin": null,
            "max_height": null,
            "max_width": null,
            "min_height": null,
            "min_width": null,
            "object_fit": null,
            "object_position": null,
            "order": null,
            "overflow": null,
            "overflow_x": null,
            "overflow_y": null,
            "padding": null,
            "right": null,
            "top": null,
            "visibility": null,
            "width": null
          }
        },
        "eb1175d50e5947c18d1b17d133ea09b3": {
          "model_module": "@jupyter-widgets/base",
          "model_module_version": "1.2.0",
          "model_name": "LayoutModel",
          "state": {
            "_model_module": "@jupyter-widgets/base",
            "_model_module_version": "1.2.0",
            "_model_name": "LayoutModel",
            "_view_count": null,
            "_view_module": "@jupyter-widgets/base",
            "_view_module_version": "1.2.0",
            "_view_name": "LayoutView",
            "align_content": null,
            "align_items": null,
            "align_self": null,
            "border": null,
            "bottom": null,
            "display": null,
            "flex": null,
            "flex_flow": null,
            "grid_area": null,
            "grid_auto_columns": null,
            "grid_auto_flow": null,
            "grid_auto_rows": null,
            "grid_column": null,
            "grid_gap": null,
            "grid_row": null,
            "grid_template_areas": null,
            "grid_template_columns": null,
            "grid_template_rows": null,
            "height": null,
            "justify_content": null,
            "justify_items": null,
            "left": null,
            "margin": null,
            "max_height": null,
            "max_width": null,
            "min_height": null,
            "min_width": null,
            "object_fit": null,
            "object_position": null,
            "order": null,
            "overflow": null,
            "overflow_x": null,
            "overflow_y": null,
            "padding": null,
            "right": null,
            "top": null,
            "visibility": null,
            "width": null
          }
        },
        "ed00cb6c11d5428082445d02b9775578": {
          "model_module": "@jupyter-widgets/controls",
          "model_module_version": "1.5.0",
          "model_name": "ProgressStyleModel",
          "state": {
            "_model_module": "@jupyter-widgets/controls",
            "_model_module_version": "1.5.0",
            "_model_name": "ProgressStyleModel",
            "_view_count": null,
            "_view_module": "@jupyter-widgets/base",
            "_view_module_version": "1.2.0",
            "_view_name": "StyleView",
            "bar_color": null,
            "description_width": ""
          }
        },
        "eda142eb822e414da96a6a511a4dca3e": {
          "model_module": "@jupyter-widgets/controls",
          "model_module_version": "1.5.0",
          "model_name": "DescriptionStyleModel",
          "state": {
            "_model_module": "@jupyter-widgets/controls",
            "_model_module_version": "1.5.0",
            "_model_name": "DescriptionStyleModel",
            "_view_count": null,
            "_view_module": "@jupyter-widgets/base",
            "_view_module_version": "1.2.0",
            "_view_name": "StyleView",
            "description_width": ""
          }
        },
        "ef2518ecd7574d68ab5e5dca8837bf85": {
          "model_module": "@jupyter-widgets/base",
          "model_module_version": "1.2.0",
          "model_name": "LayoutModel",
          "state": {
            "_model_module": "@jupyter-widgets/base",
            "_model_module_version": "1.2.0",
            "_model_name": "LayoutModel",
            "_view_count": null,
            "_view_module": "@jupyter-widgets/base",
            "_view_module_version": "1.2.0",
            "_view_name": "LayoutView",
            "align_content": null,
            "align_items": null,
            "align_self": null,
            "border": null,
            "bottom": null,
            "display": null,
            "flex": null,
            "flex_flow": null,
            "grid_area": null,
            "grid_auto_columns": null,
            "grid_auto_flow": null,
            "grid_auto_rows": null,
            "grid_column": null,
            "grid_gap": null,
            "grid_row": null,
            "grid_template_areas": null,
            "grid_template_columns": null,
            "grid_template_rows": null,
            "height": null,
            "justify_content": null,
            "justify_items": null,
            "left": null,
            "margin": null,
            "max_height": null,
            "max_width": null,
            "min_height": null,
            "min_width": null,
            "object_fit": null,
            "object_position": null,
            "order": null,
            "overflow": null,
            "overflow_x": null,
            "overflow_y": null,
            "padding": null,
            "right": null,
            "top": null,
            "visibility": null,
            "width": null
          }
        },
        "ef59bd27d8ba4366b6c94a3b73139969": {
          "model_module": "@jupyter-widgets/controls",
          "model_module_version": "1.5.0",
          "model_name": "DescriptionStyleModel",
          "state": {
            "_model_module": "@jupyter-widgets/controls",
            "_model_module_version": "1.5.0",
            "_model_name": "DescriptionStyleModel",
            "_view_count": null,
            "_view_module": "@jupyter-widgets/base",
            "_view_module_version": "1.2.0",
            "_view_name": "StyleView",
            "description_width": ""
          }
        },
        "f05498418fb247469a83e5c6c39206eb": {
          "model_module": "@jupyter-widgets/base",
          "model_module_version": "1.2.0",
          "model_name": "LayoutModel",
          "state": {
            "_model_module": "@jupyter-widgets/base",
            "_model_module_version": "1.2.0",
            "_model_name": "LayoutModel",
            "_view_count": null,
            "_view_module": "@jupyter-widgets/base",
            "_view_module_version": "1.2.0",
            "_view_name": "LayoutView",
            "align_content": null,
            "align_items": null,
            "align_self": null,
            "border": null,
            "bottom": null,
            "display": null,
            "flex": null,
            "flex_flow": null,
            "grid_area": null,
            "grid_auto_columns": null,
            "grid_auto_flow": null,
            "grid_auto_rows": null,
            "grid_column": null,
            "grid_gap": null,
            "grid_row": null,
            "grid_template_areas": null,
            "grid_template_columns": null,
            "grid_template_rows": null,
            "height": null,
            "justify_content": null,
            "justify_items": null,
            "left": null,
            "margin": null,
            "max_height": null,
            "max_width": null,
            "min_height": null,
            "min_width": null,
            "object_fit": null,
            "object_position": null,
            "order": null,
            "overflow": null,
            "overflow_x": null,
            "overflow_y": null,
            "padding": null,
            "right": null,
            "top": null,
            "visibility": null,
            "width": null
          }
        },
        "f057a653737c4531a43c4d55164f0b08": {
          "model_module": "@jupyter-widgets/base",
          "model_module_version": "1.2.0",
          "model_name": "LayoutModel",
          "state": {
            "_model_module": "@jupyter-widgets/base",
            "_model_module_version": "1.2.0",
            "_model_name": "LayoutModel",
            "_view_count": null,
            "_view_module": "@jupyter-widgets/base",
            "_view_module_version": "1.2.0",
            "_view_name": "LayoutView",
            "align_content": null,
            "align_items": null,
            "align_self": null,
            "border": null,
            "bottom": null,
            "display": null,
            "flex": null,
            "flex_flow": null,
            "grid_area": null,
            "grid_auto_columns": null,
            "grid_auto_flow": null,
            "grid_auto_rows": null,
            "grid_column": null,
            "grid_gap": null,
            "grid_row": null,
            "grid_template_areas": null,
            "grid_template_columns": null,
            "grid_template_rows": null,
            "height": null,
            "justify_content": null,
            "justify_items": null,
            "left": null,
            "margin": null,
            "max_height": null,
            "max_width": null,
            "min_height": null,
            "min_width": null,
            "object_fit": null,
            "object_position": null,
            "order": null,
            "overflow": null,
            "overflow_x": null,
            "overflow_y": null,
            "padding": null,
            "right": null,
            "top": null,
            "visibility": null,
            "width": null
          }
        },
        "f080cb1e2ced4a1c9a35a5dbac43bb93": {
          "model_module": "@jupyter-widgets/controls",
          "model_module_version": "1.5.0",
          "model_name": "HTMLModel",
          "state": {
            "_dom_classes": [],
            "_model_module": "@jupyter-widgets/controls",
            "_model_module_version": "1.5.0",
            "_model_name": "HTMLModel",
            "_view_count": null,
            "_view_module": "@jupyter-widgets/controls",
            "_view_module_version": "1.5.0",
            "_view_name": "HTMLView",
            "description": "",
            "description_tooltip": null,
            "layout": "IPY_MODEL_71ba65fb30f14c8d90677ed6227e8f84",
            "placeholder": "​",
            "style": "IPY_MODEL_ce532e63ae504e418d10058b11485962",
            "value": " 349/349 [00:00&lt;00:00, 24.2kB/s]"
          }
        },
        "f219e1bdf0504a078af32f3f361b71bf": {
          "model_module": "@jupyter-widgets/controls",
          "model_module_version": "1.5.0",
          "model_name": "DescriptionStyleModel",
          "state": {
            "_model_module": "@jupyter-widgets/controls",
            "_model_module_version": "1.5.0",
            "_model_name": "DescriptionStyleModel",
            "_view_count": null,
            "_view_module": "@jupyter-widgets/base",
            "_view_module_version": "1.2.0",
            "_view_name": "StyleView",
            "description_width": ""
          }
        },
        "f27bbe0244a34bd1a789a85ceceddc8e": {
          "model_module": "@jupyter-widgets/controls",
          "model_module_version": "1.5.0",
          "model_name": "ProgressStyleModel",
          "state": {
            "_model_module": "@jupyter-widgets/controls",
            "_model_module_version": "1.5.0",
            "_model_name": "ProgressStyleModel",
            "_view_count": null,
            "_view_module": "@jupyter-widgets/base",
            "_view_module_version": "1.2.0",
            "_view_name": "StyleView",
            "bar_color": null,
            "description_width": ""
          }
        },
        "f2fd1611f6144e258cd4957c8f6a424a": {
          "model_module": "@jupyter-widgets/controls",
          "model_module_version": "1.5.0",
          "model_name": "DescriptionStyleModel",
          "state": {
            "_model_module": "@jupyter-widgets/controls",
            "_model_module_version": "1.5.0",
            "_model_name": "DescriptionStyleModel",
            "_view_count": null,
            "_view_module": "@jupyter-widgets/base",
            "_view_module_version": "1.2.0",
            "_view_name": "StyleView",
            "description_width": ""
          }
        },
        "f322a9d436bb437599f7a6544045e5a3": {
          "model_module": "@jupyter-widgets/base",
          "model_module_version": "1.2.0",
          "model_name": "LayoutModel",
          "state": {
            "_model_module": "@jupyter-widgets/base",
            "_model_module_version": "1.2.0",
            "_model_name": "LayoutModel",
            "_view_count": null,
            "_view_module": "@jupyter-widgets/base",
            "_view_module_version": "1.2.0",
            "_view_name": "LayoutView",
            "align_content": null,
            "align_items": null,
            "align_self": null,
            "border": null,
            "bottom": null,
            "display": null,
            "flex": null,
            "flex_flow": null,
            "grid_area": null,
            "grid_auto_columns": null,
            "grid_auto_flow": null,
            "grid_auto_rows": null,
            "grid_column": null,
            "grid_gap": null,
            "grid_row": null,
            "grid_template_areas": null,
            "grid_template_columns": null,
            "grid_template_rows": null,
            "height": null,
            "justify_content": null,
            "justify_items": null,
            "left": null,
            "margin": null,
            "max_height": null,
            "max_width": null,
            "min_height": null,
            "min_width": null,
            "object_fit": null,
            "object_position": null,
            "order": null,
            "overflow": null,
            "overflow_x": null,
            "overflow_y": null,
            "padding": null,
            "right": null,
            "top": null,
            "visibility": null,
            "width": null
          }
        },
        "f5b320867dad49e3af9371128e31980c": {
          "model_module": "@jupyter-widgets/controls",
          "model_module_version": "1.5.0",
          "model_name": "DescriptionStyleModel",
          "state": {
            "_model_module": "@jupyter-widgets/controls",
            "_model_module_version": "1.5.0",
            "_model_name": "DescriptionStyleModel",
            "_view_count": null,
            "_view_module": "@jupyter-widgets/base",
            "_view_module_version": "1.2.0",
            "_view_name": "StyleView",
            "description_width": ""
          }
        },
        "f5b90f489f954b4da415d1bd7de7d6b4": {
          "model_module": "@jupyter-widgets/controls",
          "model_module_version": "1.5.0",
          "model_name": "DescriptionStyleModel",
          "state": {
            "_model_module": "@jupyter-widgets/controls",
            "_model_module_version": "1.5.0",
            "_model_name": "DescriptionStyleModel",
            "_view_count": null,
            "_view_module": "@jupyter-widgets/base",
            "_view_module_version": "1.2.0",
            "_view_name": "StyleView",
            "description_width": ""
          }
        },
        "f68338016d2d445ab4d2d9313bba9cf2": {
          "model_module": "@jupyter-widgets/controls",
          "model_module_version": "1.5.0",
          "model_name": "HTMLModel",
          "state": {
            "_dom_classes": [],
            "_model_module": "@jupyter-widgets/controls",
            "_model_module_version": "1.5.0",
            "_model_name": "HTMLModel",
            "_view_count": null,
            "_view_module": "@jupyter-widgets/controls",
            "_view_module_version": "1.5.0",
            "_view_name": "HTMLView",
            "description": "",
            "description_tooltip": null,
            "layout": "IPY_MODEL_c4f81e71fe254a91a684b3cae21384a0",
            "placeholder": "​",
            "style": "IPY_MODEL_f5b90f489f954b4da415d1bd7de7d6b4",
            "value": "Downloading (…)e9125/.gitattributes: 100%"
          }
        },
        "f8014f54dedd419386ef3929a68bcb7f": {
          "model_module": "@jupyter-widgets/base",
          "model_module_version": "1.2.0",
          "model_name": "LayoutModel",
          "state": {
            "_model_module": "@jupyter-widgets/base",
            "_model_module_version": "1.2.0",
            "_model_name": "LayoutModel",
            "_view_count": null,
            "_view_module": "@jupyter-widgets/base",
            "_view_module_version": "1.2.0",
            "_view_name": "LayoutView",
            "align_content": null,
            "align_items": null,
            "align_self": null,
            "border": null,
            "bottom": null,
            "display": null,
            "flex": null,
            "flex_flow": null,
            "grid_area": null,
            "grid_auto_columns": null,
            "grid_auto_flow": null,
            "grid_auto_rows": null,
            "grid_column": null,
            "grid_gap": null,
            "grid_row": null,
            "grid_template_areas": null,
            "grid_template_columns": null,
            "grid_template_rows": null,
            "height": null,
            "justify_content": null,
            "justify_items": null,
            "left": null,
            "margin": null,
            "max_height": null,
            "max_width": null,
            "min_height": null,
            "min_width": null,
            "object_fit": null,
            "object_position": null,
            "order": null,
            "overflow": null,
            "overflow_x": null,
            "overflow_y": null,
            "padding": null,
            "right": null,
            "top": null,
            "visibility": null,
            "width": null
          }
        },
        "f90cbb1f09f9426c8e9f23d6d09070d2": {
          "model_module": "@jupyter-widgets/base",
          "model_module_version": "1.2.0",
          "model_name": "LayoutModel",
          "state": {
            "_model_module": "@jupyter-widgets/base",
            "_model_module_version": "1.2.0",
            "_model_name": "LayoutModel",
            "_view_count": null,
            "_view_module": "@jupyter-widgets/base",
            "_view_module_version": "1.2.0",
            "_view_name": "LayoutView",
            "align_content": null,
            "align_items": null,
            "align_self": null,
            "border": null,
            "bottom": null,
            "display": null,
            "flex": null,
            "flex_flow": null,
            "grid_area": null,
            "grid_auto_columns": null,
            "grid_auto_flow": null,
            "grid_auto_rows": null,
            "grid_column": null,
            "grid_gap": null,
            "grid_row": null,
            "grid_template_areas": null,
            "grid_template_columns": null,
            "grid_template_rows": null,
            "height": null,
            "justify_content": null,
            "justify_items": null,
            "left": null,
            "margin": null,
            "max_height": null,
            "max_width": null,
            "min_height": null,
            "min_width": null,
            "object_fit": null,
            "object_position": null,
            "order": null,
            "overflow": null,
            "overflow_x": null,
            "overflow_y": null,
            "padding": null,
            "right": null,
            "top": null,
            "visibility": null,
            "width": null
          }
        },
        "f9928b34e27e408da7de7366cd72f701": {
          "model_module": "@jupyter-widgets/controls",
          "model_module_version": "1.5.0",
          "model_name": "HBoxModel",
          "state": {
            "_dom_classes": [],
            "_model_module": "@jupyter-widgets/controls",
            "_model_module_version": "1.5.0",
            "_model_name": "HBoxModel",
            "_view_count": null,
            "_view_module": "@jupyter-widgets/controls",
            "_view_module_version": "1.5.0",
            "_view_name": "HBoxView",
            "box_style": "",
            "children": [
              "IPY_MODEL_5beb35c9467d4c4ebfd09e48117f9600",
              "IPY_MODEL_62115c8ceaab4779b110a72924a5238d",
              "IPY_MODEL_08c5d2926c37477bbe7a61af74e83c6e"
            ],
            "layout": "IPY_MODEL_2573a37de0904681b1044bdd36328aa6"
          }
        },
        "f9fd189f715c48c18d788b9d3484359c": {
          "model_module": "@jupyter-widgets/base",
          "model_module_version": "1.2.0",
          "model_name": "LayoutModel",
          "state": {
            "_model_module": "@jupyter-widgets/base",
            "_model_module_version": "1.2.0",
            "_model_name": "LayoutModel",
            "_view_count": null,
            "_view_module": "@jupyter-widgets/base",
            "_view_module_version": "1.2.0",
            "_view_name": "LayoutView",
            "align_content": null,
            "align_items": null,
            "align_self": null,
            "border": null,
            "bottom": null,
            "display": null,
            "flex": null,
            "flex_flow": null,
            "grid_area": null,
            "grid_auto_columns": null,
            "grid_auto_flow": null,
            "grid_auto_rows": null,
            "grid_column": null,
            "grid_gap": null,
            "grid_row": null,
            "grid_template_areas": null,
            "grid_template_columns": null,
            "grid_template_rows": null,
            "height": null,
            "justify_content": null,
            "justify_items": null,
            "left": null,
            "margin": null,
            "max_height": null,
            "max_width": null,
            "min_height": null,
            "min_width": null,
            "object_fit": null,
            "object_position": null,
            "order": null,
            "overflow": null,
            "overflow_x": null,
            "overflow_y": null,
            "padding": null,
            "right": null,
            "top": null,
            "visibility": null,
            "width": null
          }
        },
        "fb6ee1e15e274d9c9d2f0abb2c0f6b97": {
          "model_module": "@jupyter-widgets/base",
          "model_module_version": "1.2.0",
          "model_name": "LayoutModel",
          "state": {
            "_model_module": "@jupyter-widgets/base",
            "_model_module_version": "1.2.0",
            "_model_name": "LayoutModel",
            "_view_count": null,
            "_view_module": "@jupyter-widgets/base",
            "_view_module_version": "1.2.0",
            "_view_name": "LayoutView",
            "align_content": null,
            "align_items": null,
            "align_self": null,
            "border": null,
            "bottom": null,
            "display": null,
            "flex": null,
            "flex_flow": null,
            "grid_area": null,
            "grid_auto_columns": null,
            "grid_auto_flow": null,
            "grid_auto_rows": null,
            "grid_column": null,
            "grid_gap": null,
            "grid_row": null,
            "grid_template_areas": null,
            "grid_template_columns": null,
            "grid_template_rows": null,
            "height": null,
            "justify_content": null,
            "justify_items": null,
            "left": null,
            "margin": null,
            "max_height": null,
            "max_width": null,
            "min_height": null,
            "min_width": null,
            "object_fit": null,
            "object_position": null,
            "order": null,
            "overflow": null,
            "overflow_x": null,
            "overflow_y": null,
            "padding": null,
            "right": null,
            "top": null,
            "visibility": null,
            "width": null
          }
        },
        "fbc4c85520194bab876a36065c8932a7": {
          "model_module": "@jupyter-widgets/controls",
          "model_module_version": "1.5.0",
          "model_name": "HBoxModel",
          "state": {
            "_dom_classes": [],
            "_model_module": "@jupyter-widgets/controls",
            "_model_module_version": "1.5.0",
            "_model_name": "HBoxModel",
            "_view_count": null,
            "_view_module": "@jupyter-widgets/controls",
            "_view_module_version": "1.5.0",
            "_view_name": "HBoxView",
            "box_style": "",
            "children": [
              "IPY_MODEL_2d06da15c86c4e14bb237305d51195e0",
              "IPY_MODEL_3128fe95a3fe40cb8dd558f50e1bf5fe",
              "IPY_MODEL_52282d4e69194c62b0ee37320ec74329"
            ],
            "layout": "IPY_MODEL_5f5d6f8133384a48a08e97965aaf6a95"
          }
        },
        "fc7f5281b11d4453a1538cf4471bc9af": {
          "model_module": "@jupyter-widgets/base",
          "model_module_version": "1.2.0",
          "model_name": "LayoutModel",
          "state": {
            "_model_module": "@jupyter-widgets/base",
            "_model_module_version": "1.2.0",
            "_model_name": "LayoutModel",
            "_view_count": null,
            "_view_module": "@jupyter-widgets/base",
            "_view_module_version": "1.2.0",
            "_view_name": "LayoutView",
            "align_content": null,
            "align_items": null,
            "align_self": null,
            "border": null,
            "bottom": null,
            "display": null,
            "flex": null,
            "flex_flow": null,
            "grid_area": null,
            "grid_auto_columns": null,
            "grid_auto_flow": null,
            "grid_auto_rows": null,
            "grid_column": null,
            "grid_gap": null,
            "grid_row": null,
            "grid_template_areas": null,
            "grid_template_columns": null,
            "grid_template_rows": null,
            "height": null,
            "justify_content": null,
            "justify_items": null,
            "left": null,
            "margin": null,
            "max_height": null,
            "max_width": null,
            "min_height": null,
            "min_width": null,
            "object_fit": null,
            "object_position": null,
            "order": null,
            "overflow": null,
            "overflow_x": null,
            "overflow_y": null,
            "padding": null,
            "right": null,
            "top": null,
            "visibility": null,
            "width": null
          }
        },
        "fca35845d28d4665af742dd0e0c6e8ef": {
          "model_module": "@jupyter-widgets/base",
          "model_module_version": "1.2.0",
          "model_name": "LayoutModel",
          "state": {
            "_model_module": "@jupyter-widgets/base",
            "_model_module_version": "1.2.0",
            "_model_name": "LayoutModel",
            "_view_count": null,
            "_view_module": "@jupyter-widgets/base",
            "_view_module_version": "1.2.0",
            "_view_name": "LayoutView",
            "align_content": null,
            "align_items": null,
            "align_self": null,
            "border": null,
            "bottom": null,
            "display": null,
            "flex": null,
            "flex_flow": null,
            "grid_area": null,
            "grid_auto_columns": null,
            "grid_auto_flow": null,
            "grid_auto_rows": null,
            "grid_column": null,
            "grid_gap": null,
            "grid_row": null,
            "grid_template_areas": null,
            "grid_template_columns": null,
            "grid_template_rows": null,
            "height": null,
            "justify_content": null,
            "justify_items": null,
            "left": null,
            "margin": null,
            "max_height": null,
            "max_width": null,
            "min_height": null,
            "min_width": null,
            "object_fit": null,
            "object_position": null,
            "order": null,
            "overflow": null,
            "overflow_x": null,
            "overflow_y": null,
            "padding": null,
            "right": null,
            "top": null,
            "visibility": null,
            "width": null
          }
        },
        "fcf8afcfe7f5444eb077e9a4ea28c143": {
          "model_module": "@jupyter-widgets/controls",
          "model_module_version": "1.5.0",
          "model_name": "ProgressStyleModel",
          "state": {
            "_model_module": "@jupyter-widgets/controls",
            "_model_module_version": "1.5.0",
            "_model_name": "ProgressStyleModel",
            "_view_count": null,
            "_view_module": "@jupyter-widgets/base",
            "_view_module_version": "1.2.0",
            "_view_name": "StyleView",
            "bar_color": null,
            "description_width": ""
          }
        }
      }
    }
  },
  "nbformat": 4,
  "nbformat_minor": 5
}